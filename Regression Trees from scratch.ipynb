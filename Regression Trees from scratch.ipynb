{
 "cells": [
  {
   "cell_type": "code",
   "execution_count": 1,
   "metadata": {},
   "outputs": [],
   "source": [
    "import pandas as pd\n",
    "import numpy as np\n",
    "\n",
    "import plotly.express as px\n",
    "import plotly.graph_objects as go"
   ]
  },
  {
   "cell_type": "markdown",
   "metadata": {},
   "source": [
    "### Generating dataset"
   ]
  },
  {
   "cell_type": "code",
   "execution_count": 97,
   "metadata": {},
   "outputs": [
    {
     "data": {
      "text/html": [
       "<div>\n",
       "<style scoped>\n",
       "    .dataframe tbody tr th:only-of-type {\n",
       "        vertical-align: middle;\n",
       "    }\n",
       "\n",
       "    .dataframe tbody tr th {\n",
       "        vertical-align: top;\n",
       "    }\n",
       "\n",
       "    .dataframe thead th {\n",
       "        text-align: right;\n",
       "    }\n",
       "</style>\n",
       "<table border=\"1\" class=\"dataframe\">\n",
       "  <thead>\n",
       "    <tr style=\"text-align: right;\">\n",
       "      <th></th>\n",
       "      <th>X</th>\n",
       "      <th>y</th>\n",
       "    </tr>\n",
       "  </thead>\n",
       "  <tbody>\n",
       "    <tr>\n",
       "      <th>0</th>\n",
       "      <td>-10.000</td>\n",
       "      <td>100.641</td>\n",
       "    </tr>\n",
       "    <tr>\n",
       "      <th>1</th>\n",
       "      <td>-9.798</td>\n",
       "      <td>83.406</td>\n",
       "    </tr>\n",
       "    <tr>\n",
       "      <th>2</th>\n",
       "      <td>-9.596</td>\n",
       "      <td>85.678</td>\n",
       "    </tr>\n",
       "    <tr>\n",
       "      <th>3</th>\n",
       "      <td>-9.394</td>\n",
       "      <td>94.867</td>\n",
       "    </tr>\n",
       "    <tr>\n",
       "      <th>4</th>\n",
       "      <td>-9.192</td>\n",
       "      <td>87.783</td>\n",
       "    </tr>\n",
       "  </tbody>\n",
       "</table>\n",
       "</div>"
      ],
      "text/plain": [
       "        X        y\n",
       "0 -10.000  100.641\n",
       "1  -9.798   83.406\n",
       "2  -9.596   85.678\n",
       "3  -9.394   94.867\n",
       "4  -9.192   87.783"
      ]
     },
     "execution_count": 97,
     "metadata": {},
     "output_type": "execute_result"
    }
   ],
   "source": [
    "# Set a random seed for reproducibility\n",
    "np.random.seed(0)\n",
    "\n",
    "# Constants for the quadratic equation\n",
    "a,b,c = 1,2,3\n",
    "\n",
    "# Create a DataFrame with a single feature\n",
    "n = 100  # number of samples\n",
    "x = np.linspace(-10, 10, n)  # feature values from -10 to 10\n",
    "noise = np.random.normal(0, 10, n)  # some random noise\n",
    "y = a * x**2 + b * x + c + noise  # quadratic equation with noise\n",
    "\n",
    "data = pd.DataFrame({'X': x, 'y': y})\n",
    "\n",
    "# round the values to 3 decimal places\n",
    "data[\"X\"] = data[\"X\"].round(3)\n",
    "data[\"y\"] = data[\"y\"].round(3)\n",
    "\n",
    "data.head()"
   ]
  },
  {
   "cell_type": "markdown",
   "metadata": {},
   "source": [
    "### Visualize the data"
   ]
  },
  {
   "cell_type": "code",
   "execution_count": 103,
   "metadata": {},
   "outputs": [
    {
     "data": {
      "application/vnd.plotly.v1+json": {
       "config": {
        "plotlyServerURL": "https://plot.ly"
       },
       "data": [
        {
         "marker": {
          "color": "red",
          "line": {
           "color": "Black",
           "width": 1
          },
          "opacity": 0.7,
          "size": 6
         },
         "mode": "markers",
         "type": "scatter",
         "x": [
          -10,
          -9.798,
          -9.596,
          -9.394,
          -9.192,
          -8.99,
          -8.788,
          -8.586,
          -8.384,
          -8.182,
          -7.98,
          -7.778,
          -7.576,
          -7.374,
          -7.172,
          -6.97,
          -6.768,
          -6.566,
          -6.364,
          -6.162,
          -5.96,
          -5.758,
          -5.556,
          -5.354,
          -5.152,
          -4.949,
          -4.747,
          -4.545,
          -4.343,
          -4.141,
          -3.939,
          -3.737,
          -3.535,
          -3.333,
          -3.131,
          -2.929,
          -2.727,
          -2.525,
          -2.323,
          -2.121,
          -1.919,
          -1.717,
          -1.515,
          -1.313,
          -1.111,
          -0.909,
          -0.707,
          -0.505,
          -0.303,
          -0.101,
          0.101,
          0.303,
          0.505,
          0.707,
          0.909,
          1.111,
          1.313,
          1.515,
          1.717,
          1.919,
          2.121,
          2.323,
          2.525,
          2.727,
          2.929,
          3.131,
          3.333,
          3.535,
          3.737,
          3.939,
          4.141,
          4.343,
          4.545,
          4.747,
          4.949,
          5.152,
          5.354,
          5.556,
          5.758,
          5.96,
          6.162,
          6.364,
          6.566,
          6.768,
          6.97,
          7.172,
          7.374,
          7.576,
          7.778,
          7.98,
          8.182,
          8.384,
          8.586,
          8.788,
          8.99,
          9.192,
          9.394,
          9.596,
          9.798,
          10
         ],
         "y": [
          100.641,
          83.406,
          85.678,
          94.867,
          87.783,
          56.066,
          72.152,
          58.032,
          55.489,
          57.684,
          52.158,
          62.481,
          52.851,
          43.841,
          44.529,
          40.974,
          50.207,
          30.925,
          33.899,
          20.101,
          1.068,
          31.171,
          31.397,
          13.532,
          41.933,
          3.055,
          16.501,
          12.698,
          28.506,
          26.562,
          12.19,
          13.275,
          -0.45,
          -12.364,
          3.063,
          7.286,
          17.286,
          16.35,
          -0.122,
          0.234,
          -7.641,
          -11.686,
          -14.797,
          21.606,
          -3.084,
          -2.372,
          -10.442,
          10.02,
          -13.653,
          0.681,
          -5.742,
          7.567,
          -0.843,
          -6.892,
          5.363,
          10.74,
          8.016,
          11.351,
          3.04,
          6.894,
          5.017,
          9.448,
          6.296,
          -1.37,
          19.214,
          15.05,
          4.476,
          27.197,
          15.37,
          26.917,
          35.725,
          31.842,
          44.146,
          22.685,
          41.42,
          32.993,
          33.659,
          39.187,
          44.549,
          50.998,
          41.637,
          65.231,
          63.896,
          46.974,
          80.399,
          87.736,
          83.907,
          73.744,
          68.342,
          93.181,
          82.274,
          102.281,
          95.971,
          107.569,
          105.362,
          112.941,
          110.139,
          132.133,
          119.865,
          127.02
         ]
        }
       ],
       "layout": {
        "height": 500,
        "plot_bgcolor": "white",
        "template": {
         "data": {
          "bar": [
           {
            "error_x": {
             "color": "#2a3f5f"
            },
            "error_y": {
             "color": "#2a3f5f"
            },
            "marker": {
             "line": {
              "color": "#E5ECF6",
              "width": 0.5
             },
             "pattern": {
              "fillmode": "overlay",
              "size": 10,
              "solidity": 0.2
             }
            },
            "type": "bar"
           }
          ],
          "barpolar": [
           {
            "marker": {
             "line": {
              "color": "#E5ECF6",
              "width": 0.5
             },
             "pattern": {
              "fillmode": "overlay",
              "size": 10,
              "solidity": 0.2
             }
            },
            "type": "barpolar"
           }
          ],
          "carpet": [
           {
            "aaxis": {
             "endlinecolor": "#2a3f5f",
             "gridcolor": "white",
             "linecolor": "white",
             "minorgridcolor": "white",
             "startlinecolor": "#2a3f5f"
            },
            "baxis": {
             "endlinecolor": "#2a3f5f",
             "gridcolor": "white",
             "linecolor": "white",
             "minorgridcolor": "white",
             "startlinecolor": "#2a3f5f"
            },
            "type": "carpet"
           }
          ],
          "choropleth": [
           {
            "colorbar": {
             "outlinewidth": 0,
             "ticks": ""
            },
            "type": "choropleth"
           }
          ],
          "contour": [
           {
            "colorbar": {
             "outlinewidth": 0,
             "ticks": ""
            },
            "colorscale": [
             [
              0,
              "#0d0887"
             ],
             [
              0.1111111111111111,
              "#46039f"
             ],
             [
              0.2222222222222222,
              "#7201a8"
             ],
             [
              0.3333333333333333,
              "#9c179e"
             ],
             [
              0.4444444444444444,
              "#bd3786"
             ],
             [
              0.5555555555555556,
              "#d8576b"
             ],
             [
              0.6666666666666666,
              "#ed7953"
             ],
             [
              0.7777777777777778,
              "#fb9f3a"
             ],
             [
              0.8888888888888888,
              "#fdca26"
             ],
             [
              1,
              "#f0f921"
             ]
            ],
            "type": "contour"
           }
          ],
          "contourcarpet": [
           {
            "colorbar": {
             "outlinewidth": 0,
             "ticks": ""
            },
            "type": "contourcarpet"
           }
          ],
          "heatmap": [
           {
            "colorbar": {
             "outlinewidth": 0,
             "ticks": ""
            },
            "colorscale": [
             [
              0,
              "#0d0887"
             ],
             [
              0.1111111111111111,
              "#46039f"
             ],
             [
              0.2222222222222222,
              "#7201a8"
             ],
             [
              0.3333333333333333,
              "#9c179e"
             ],
             [
              0.4444444444444444,
              "#bd3786"
             ],
             [
              0.5555555555555556,
              "#d8576b"
             ],
             [
              0.6666666666666666,
              "#ed7953"
             ],
             [
              0.7777777777777778,
              "#fb9f3a"
             ],
             [
              0.8888888888888888,
              "#fdca26"
             ],
             [
              1,
              "#f0f921"
             ]
            ],
            "type": "heatmap"
           }
          ],
          "heatmapgl": [
           {
            "colorbar": {
             "outlinewidth": 0,
             "ticks": ""
            },
            "colorscale": [
             [
              0,
              "#0d0887"
             ],
             [
              0.1111111111111111,
              "#46039f"
             ],
             [
              0.2222222222222222,
              "#7201a8"
             ],
             [
              0.3333333333333333,
              "#9c179e"
             ],
             [
              0.4444444444444444,
              "#bd3786"
             ],
             [
              0.5555555555555556,
              "#d8576b"
             ],
             [
              0.6666666666666666,
              "#ed7953"
             ],
             [
              0.7777777777777778,
              "#fb9f3a"
             ],
             [
              0.8888888888888888,
              "#fdca26"
             ],
             [
              1,
              "#f0f921"
             ]
            ],
            "type": "heatmapgl"
           }
          ],
          "histogram": [
           {
            "marker": {
             "pattern": {
              "fillmode": "overlay",
              "size": 10,
              "solidity": 0.2
             }
            },
            "type": "histogram"
           }
          ],
          "histogram2d": [
           {
            "colorbar": {
             "outlinewidth": 0,
             "ticks": ""
            },
            "colorscale": [
             [
              0,
              "#0d0887"
             ],
             [
              0.1111111111111111,
              "#46039f"
             ],
             [
              0.2222222222222222,
              "#7201a8"
             ],
             [
              0.3333333333333333,
              "#9c179e"
             ],
             [
              0.4444444444444444,
              "#bd3786"
             ],
             [
              0.5555555555555556,
              "#d8576b"
             ],
             [
              0.6666666666666666,
              "#ed7953"
             ],
             [
              0.7777777777777778,
              "#fb9f3a"
             ],
             [
              0.8888888888888888,
              "#fdca26"
             ],
             [
              1,
              "#f0f921"
             ]
            ],
            "type": "histogram2d"
           }
          ],
          "histogram2dcontour": [
           {
            "colorbar": {
             "outlinewidth": 0,
             "ticks": ""
            },
            "colorscale": [
             [
              0,
              "#0d0887"
             ],
             [
              0.1111111111111111,
              "#46039f"
             ],
             [
              0.2222222222222222,
              "#7201a8"
             ],
             [
              0.3333333333333333,
              "#9c179e"
             ],
             [
              0.4444444444444444,
              "#bd3786"
             ],
             [
              0.5555555555555556,
              "#d8576b"
             ],
             [
              0.6666666666666666,
              "#ed7953"
             ],
             [
              0.7777777777777778,
              "#fb9f3a"
             ],
             [
              0.8888888888888888,
              "#fdca26"
             ],
             [
              1,
              "#f0f921"
             ]
            ],
            "type": "histogram2dcontour"
           }
          ],
          "mesh3d": [
           {
            "colorbar": {
             "outlinewidth": 0,
             "ticks": ""
            },
            "type": "mesh3d"
           }
          ],
          "parcoords": [
           {
            "line": {
             "colorbar": {
              "outlinewidth": 0,
              "ticks": ""
             }
            },
            "type": "parcoords"
           }
          ],
          "pie": [
           {
            "automargin": true,
            "type": "pie"
           }
          ],
          "scatter": [
           {
            "fillpattern": {
             "fillmode": "overlay",
             "size": 10,
             "solidity": 0.2
            },
            "type": "scatter"
           }
          ],
          "scatter3d": [
           {
            "line": {
             "colorbar": {
              "outlinewidth": 0,
              "ticks": ""
             }
            },
            "marker": {
             "colorbar": {
              "outlinewidth": 0,
              "ticks": ""
             }
            },
            "type": "scatter3d"
           }
          ],
          "scattercarpet": [
           {
            "marker": {
             "colorbar": {
              "outlinewidth": 0,
              "ticks": ""
             }
            },
            "type": "scattercarpet"
           }
          ],
          "scattergeo": [
           {
            "marker": {
             "colorbar": {
              "outlinewidth": 0,
              "ticks": ""
             }
            },
            "type": "scattergeo"
           }
          ],
          "scattergl": [
           {
            "marker": {
             "colorbar": {
              "outlinewidth": 0,
              "ticks": ""
             }
            },
            "type": "scattergl"
           }
          ],
          "scattermapbox": [
           {
            "marker": {
             "colorbar": {
              "outlinewidth": 0,
              "ticks": ""
             }
            },
            "type": "scattermapbox"
           }
          ],
          "scatterpolar": [
           {
            "marker": {
             "colorbar": {
              "outlinewidth": 0,
              "ticks": ""
             }
            },
            "type": "scatterpolar"
           }
          ],
          "scatterpolargl": [
           {
            "marker": {
             "colorbar": {
              "outlinewidth": 0,
              "ticks": ""
             }
            },
            "type": "scatterpolargl"
           }
          ],
          "scatterternary": [
           {
            "marker": {
             "colorbar": {
              "outlinewidth": 0,
              "ticks": ""
             }
            },
            "type": "scatterternary"
           }
          ],
          "surface": [
           {
            "colorbar": {
             "outlinewidth": 0,
             "ticks": ""
            },
            "colorscale": [
             [
              0,
              "#0d0887"
             ],
             [
              0.1111111111111111,
              "#46039f"
             ],
             [
              0.2222222222222222,
              "#7201a8"
             ],
             [
              0.3333333333333333,
              "#9c179e"
             ],
             [
              0.4444444444444444,
              "#bd3786"
             ],
             [
              0.5555555555555556,
              "#d8576b"
             ],
             [
              0.6666666666666666,
              "#ed7953"
             ],
             [
              0.7777777777777778,
              "#fb9f3a"
             ],
             [
              0.8888888888888888,
              "#fdca26"
             ],
             [
              1,
              "#f0f921"
             ]
            ],
            "type": "surface"
           }
          ],
          "table": [
           {
            "cells": {
             "fill": {
              "color": "#EBF0F8"
             },
             "line": {
              "color": "white"
             }
            },
            "header": {
             "fill": {
              "color": "#C8D4E3"
             },
             "line": {
              "color": "white"
             }
            },
            "type": "table"
           }
          ]
         },
         "layout": {
          "annotationdefaults": {
           "arrowcolor": "#2a3f5f",
           "arrowhead": 0,
           "arrowwidth": 1
          },
          "autotypenumbers": "strict",
          "coloraxis": {
           "colorbar": {
            "outlinewidth": 0,
            "ticks": ""
           }
          },
          "colorscale": {
           "diverging": [
            [
             0,
             "#8e0152"
            ],
            [
             0.1,
             "#c51b7d"
            ],
            [
             0.2,
             "#de77ae"
            ],
            [
             0.3,
             "#f1b6da"
            ],
            [
             0.4,
             "#fde0ef"
            ],
            [
             0.5,
             "#f7f7f7"
            ],
            [
             0.6,
             "#e6f5d0"
            ],
            [
             0.7,
             "#b8e186"
            ],
            [
             0.8,
             "#7fbc41"
            ],
            [
             0.9,
             "#4d9221"
            ],
            [
             1,
             "#276419"
            ]
           ],
           "sequential": [
            [
             0,
             "#0d0887"
            ],
            [
             0.1111111111111111,
             "#46039f"
            ],
            [
             0.2222222222222222,
             "#7201a8"
            ],
            [
             0.3333333333333333,
             "#9c179e"
            ],
            [
             0.4444444444444444,
             "#bd3786"
            ],
            [
             0.5555555555555556,
             "#d8576b"
            ],
            [
             0.6666666666666666,
             "#ed7953"
            ],
            [
             0.7777777777777778,
             "#fb9f3a"
            ],
            [
             0.8888888888888888,
             "#fdca26"
            ],
            [
             1,
             "#f0f921"
            ]
           ],
           "sequentialminus": [
            [
             0,
             "#0d0887"
            ],
            [
             0.1111111111111111,
             "#46039f"
            ],
            [
             0.2222222222222222,
             "#7201a8"
            ],
            [
             0.3333333333333333,
             "#9c179e"
            ],
            [
             0.4444444444444444,
             "#bd3786"
            ],
            [
             0.5555555555555556,
             "#d8576b"
            ],
            [
             0.6666666666666666,
             "#ed7953"
            ],
            [
             0.7777777777777778,
             "#fb9f3a"
            ],
            [
             0.8888888888888888,
             "#fdca26"
            ],
            [
             1,
             "#f0f921"
            ]
           ]
          },
          "colorway": [
           "#636efa",
           "#EF553B",
           "#00cc96",
           "#ab63fa",
           "#FFA15A",
           "#19d3f3",
           "#FF6692",
           "#B6E880",
           "#FF97FF",
           "#FECB52"
          ],
          "font": {
           "color": "#2a3f5f"
          },
          "geo": {
           "bgcolor": "white",
           "lakecolor": "white",
           "landcolor": "#E5ECF6",
           "showlakes": true,
           "showland": true,
           "subunitcolor": "white"
          },
          "hoverlabel": {
           "align": "left"
          },
          "hovermode": "closest",
          "mapbox": {
           "style": "light"
          },
          "paper_bgcolor": "white",
          "plot_bgcolor": "#E5ECF6",
          "polar": {
           "angularaxis": {
            "gridcolor": "white",
            "linecolor": "white",
            "ticks": ""
           },
           "bgcolor": "#E5ECF6",
           "radialaxis": {
            "gridcolor": "white",
            "linecolor": "white",
            "ticks": ""
           }
          },
          "scene": {
           "xaxis": {
            "backgroundcolor": "#E5ECF6",
            "gridcolor": "white",
            "gridwidth": 2,
            "linecolor": "white",
            "showbackground": true,
            "ticks": "",
            "zerolinecolor": "white"
           },
           "yaxis": {
            "backgroundcolor": "#E5ECF6",
            "gridcolor": "white",
            "gridwidth": 2,
            "linecolor": "white",
            "showbackground": true,
            "ticks": "",
            "zerolinecolor": "white"
           },
           "zaxis": {
            "backgroundcolor": "#E5ECF6",
            "gridcolor": "white",
            "gridwidth": 2,
            "linecolor": "white",
            "showbackground": true,
            "ticks": "",
            "zerolinecolor": "white"
           }
          },
          "shapedefaults": {
           "line": {
            "color": "#2a3f5f"
           }
          },
          "ternary": {
           "aaxis": {
            "gridcolor": "white",
            "linecolor": "white",
            "ticks": ""
           },
           "baxis": {
            "gridcolor": "white",
            "linecolor": "white",
            "ticks": ""
           },
           "bgcolor": "#E5ECF6",
           "caxis": {
            "gridcolor": "white",
            "linecolor": "white",
            "ticks": ""
           }
          },
          "title": {
           "x": 0.05
          },
          "xaxis": {
           "automargin": true,
           "gridcolor": "white",
           "linecolor": "white",
           "ticks": "",
           "title": {
            "standoff": 15
           },
           "zerolinecolor": "white",
           "zerolinewidth": 2
          },
          "yaxis": {
           "automargin": true,
           "gridcolor": "white",
           "linecolor": "white",
           "ticks": "",
           "title": {
            "standoff": 15
           },
           "zerolinecolor": "white",
           "zerolinewidth": 2
          }
         }
        },
        "title": {
         "text": "Scatter plot of our sample data",
         "x": 0.5,
         "xanchor": "center",
         "y": 0.9,
         "yanchor": "top"
        },
        "width": 900,
        "xaxis": {
         "dtick": 1,
         "linecolor": "black",
         "showline": true,
         "tickmode": "linear",
         "title": {
          "text": "X"
         }
        },
        "yaxis": {
         "linecolor": "black",
         "showline": true,
         "title": {
          "text": "y"
         }
        }
       }
      }
     },
     "metadata": {},
     "output_type": "display_data"
    }
   ],
   "source": [
    "df = data.copy()\n",
    "\n",
    "# Create the figure\n",
    "fig = go.Figure()\n",
    "\n",
    "# Add scatter plot trace\n",
    "fig.add_trace(\n",
    "    go.Scatter(\n",
    "        x=df[\"X\"], \n",
    "        y=df[\"y\"], \n",
    "        mode=\"markers\", \n",
    "        marker=dict(opacity=0.7, size=6, color=\"red\",\n",
    "                    line=dict(color='Black', width=1))\n",
    "    )\n",
    ")\n",
    "\n",
    "# Update layout\n",
    "fig.update_layout(\n",
    "    title={\n",
    "        'text': \"Scatter plot of our sample data\",\n",
    "        'y':0.9,\n",
    "        'x':0.5,\n",
    "        'xanchor': 'center',\n",
    "        'yanchor': 'top'},\n",
    "    xaxis=dict(\n",
    "        title=\"X\",\n",
    "        showline=True,  # Show the X axis line\n",
    "        tickmode='linear',  # Tick mode to be linear\n",
    "        # tick0=-10,  # Start tick at 0\n",
    "        dtick=1,  # Tick at every 1 unit\n",
    "        linecolor='black',  # X axis line color\n",
    "    ),\n",
    "    yaxis=dict(\n",
    "        title=\"y\",\n",
    "        showline=True,  # Show the Y axis line\n",
    "        linecolor='black',  # Y axis line color\n",
    "    ),\n",
    "    plot_bgcolor='white',  # Background color\n",
    "    width=900,\n",
    "    height=500\n",
    ")\n",
    "\n",
    "# Show the figure\n",
    "fig.show()"
   ]
  },
  {
   "cell_type": "markdown",
   "metadata": {},
   "source": [
    "### Mean Squared Error"
   ]
  },
  {
   "cell_type": "code",
   "execution_count": 104,
   "metadata": {},
   "outputs": [
    {
     "data": {
      "text/plain": [
       "0.5"
      ]
     },
     "execution_count": 104,
     "metadata": {},
     "output_type": "execute_result"
    }
   ],
   "source": [
    "# need to define function to compute mean squared error\n",
    "def mean_squared_error(y, y_hat):\n",
    "    y = np.array(y)\n",
    "    y_hat = np.array(y_hat)\n",
    "    return np.mean((y-y_hat)**2)\n",
    "\n",
    "# check if my func is working properly\n",
    "mean_squared_error([1, 2], [1, 3])"
   ]
  },
  {
   "cell_type": "markdown",
   "metadata": {},
   "source": [
    "### Making our first split"
   ]
  },
  {
   "cell_type": "code",
   "execution_count": 105,
   "metadata": {},
   "outputs": [],
   "source": [
    "# for each feature:\n",
    "## sort the values of feature\n",
    "### for every two consecutive rows:\n",
    "#### take average of feature values and make it split the data into two parts\n",
    "#### compute the average of both partitions and calculate the MSE\n",
    "#### if MSE < best MSE, then store this split value"
   ]
  },
  {
   "cell_type": "code",
   "execution_count": 106,
   "metadata": {},
   "outputs": [
    {
     "data": {
      "text/plain": [
       "{'feature': 'X',\n",
       " 'split_value': 6.869,\n",
       " 'weighted_mse': 665.505,\n",
       " 'curr_mse': 1381.82,\n",
       " 'right_yhat': 98.929,\n",
       " 'left_yhat': 25.924}"
      ]
     },
     "execution_count": 106,
     "metadata": {},
     "output_type": "execute_result"
    }
   ],
   "source": [
    "df = data.copy()\n",
    "\n",
    "# list of all features (only one i.e., 'X' in our case)\n",
    "features = [\"X\"]\n",
    "\n",
    "# iterate over all features\n",
    "for feature in features:\n",
    "  # initialize best_params dict\n",
    "  best_params = {\"feature\": None, # best feature\n",
    "                 \"split_value\": None, # best split value\n",
    "                 \"weighted_mse\": np.inf, # weighted mse of two branches\n",
    "                 \"curr_mse\": None, # mse at current node\n",
    "                 \"right_yhat\": None, # prediction at right branch\n",
    "                 \"left_yhat\": None # prediction at left branch\n",
    "                 }\n",
    "  # sort the df by current feature\n",
    "  df = df.sort_values(by=feature)\n",
    "\n",
    "  # compute the mse at current node\n",
    "  curr_yhat = np.mean(df['y'].mean())\n",
    "  curr_mse = mean_squared_error(df['y'], curr_yhat)\n",
    "  curr_mse = np.round(curr_mse, 3)\n",
    "\n",
    "  # iterate over all rows of sorted df\n",
    "  for i in range(1, len(df)):\n",
    "    # compute average of two consecutive rows\n",
    "    split_val = (df.iloc[i][feature] + df.iloc[i-1][feature]) / 2\n",
    "    split_val = np.round(split_val, 3)\n",
    "\n",
    "    # split the df into two partitions\n",
    "    left_branch = df[df[feature]<=split_val]\n",
    "    right_branch = df[df[feature]>split_val]\n",
    "\n",
    "\n",
    "\n",
    "    # compute the MSE of both partitions:\n",
    "\n",
    "    left_yhat = np.mean(left_branch[\"y\"]) # prediction will be average of target\n",
    "    left_yhat = np.round(left_yhat, 3)\n",
    "    left_mse = mean_squared_error(left_branch[\"y\"], left_yhat) # mse of left\n",
    "    left_mse = np.round(left_mse, 3)\n",
    "\n",
    "    right_yhat = np.mean(right_branch[\"y\"]) # prediction will be average of target\n",
    "    right_yhat = np.round(right_yhat, 3)\n",
    "    right_mse = mean_squared_error(right_branch[\"y\"], right_yhat) # mse of right\n",
    "    right_mse = np.round(right_mse, 3)\n",
    "\n",
    "    # compute weighted MSE\n",
    "    weighted_mse = ((len(left_branch) * left_mse) + (len(right_branch) * right_mse))/len(df)\n",
    "    weighted_mse = np.round(weighted_mse, 3)\n",
    "\n",
    "    # update best_params if weighted_mse is less than previously best_mse\n",
    "    if weighted_mse <= best_params[\"weighted_mse\"]:\n",
    "      best_params[\"weighted_mse\"] = weighted_mse\n",
    "      best_params[\"split_value\"] = split_val\n",
    "      best_params[\"feature\"] = feature\n",
    "      best_params[\"curr_mse\"] = curr_mse\n",
    "      best_params[\"right_yhat\"] = right_yhat\n",
    "      best_params[\"left_yhat\"] = left_yhat\n",
    "\n",
    "best_params"
   ]
  },
  {
   "cell_type": "markdown",
   "metadata": {},
   "source": [
    "### Visualize first split"
   ]
  },
  {
   "cell_type": "code",
   "execution_count": 107,
   "metadata": {},
   "outputs": [
    {
     "data": {
      "application/vnd.plotly.v1+json": {
       "config": {
        "plotlyServerURL": "https://plot.ly"
       },
       "data": [
        {
         "marker": {
          "color": "red",
          "line": {
           "color": "Black",
           "width": 1
          },
          "opacity": 0.7,
          "size": 6
         },
         "mode": "markers",
         "type": "scatter",
         "x": [
          -10,
          -9.798,
          -9.596,
          -9.394,
          -9.192,
          -8.99,
          -8.788,
          -8.586,
          -8.384,
          -8.182,
          -7.98,
          -7.778,
          -7.576,
          -7.374,
          -7.172,
          -6.97,
          -6.768,
          -6.566,
          -6.364,
          -6.162,
          -5.96,
          -5.758,
          -5.556,
          -5.354,
          -5.152,
          -4.949,
          -4.747,
          -4.545,
          -4.343,
          -4.141,
          -3.939,
          -3.737,
          -3.535,
          -3.333,
          -3.131,
          -2.929,
          -2.727,
          -2.525,
          -2.323,
          -2.121,
          -1.919,
          -1.717,
          -1.515,
          -1.313,
          -1.111,
          -0.909,
          -0.707,
          -0.505,
          -0.303,
          -0.101,
          0.101,
          0.303,
          0.505,
          0.707,
          0.909,
          1.111,
          1.313,
          1.515,
          1.717,
          1.919,
          2.121,
          2.323,
          2.525,
          2.727,
          2.929,
          3.131,
          3.333,
          3.535,
          3.737,
          3.939,
          4.141,
          4.343,
          4.545,
          4.747,
          4.949,
          5.152,
          5.354,
          5.556,
          5.758,
          5.96,
          6.162,
          6.364,
          6.566,
          6.768,
          6.97,
          7.172,
          7.374,
          7.576,
          7.778,
          7.98,
          8.182,
          8.384,
          8.586,
          8.788,
          8.99,
          9.192,
          9.394,
          9.596,
          9.798,
          10
         ],
         "y": [
          100.641,
          83.406,
          85.678,
          94.867,
          87.783,
          56.066,
          72.152,
          58.032,
          55.489,
          57.684,
          52.158,
          62.481,
          52.851,
          43.841,
          44.529,
          40.974,
          50.207,
          30.925,
          33.899,
          20.101,
          1.068,
          31.171,
          31.397,
          13.532,
          41.933,
          3.055,
          16.501,
          12.698,
          28.506,
          26.562,
          12.19,
          13.275,
          -0.45,
          -12.364,
          3.063,
          7.286,
          17.286,
          16.35,
          -0.122,
          0.234,
          -7.641,
          -11.686,
          -14.797,
          21.606,
          -3.084,
          -2.372,
          -10.442,
          10.02,
          -13.653,
          0.681,
          -5.742,
          7.567,
          -0.843,
          -6.892,
          5.363,
          10.74,
          8.016,
          11.351,
          3.04,
          6.894,
          5.017,
          9.448,
          6.296,
          -1.37,
          19.214,
          15.05,
          4.476,
          27.197,
          15.37,
          26.917,
          35.725,
          31.842,
          44.146,
          22.685,
          41.42,
          32.993,
          33.659,
          39.187,
          44.549,
          50.998,
          41.637,
          65.231,
          63.896,
          46.974,
          80.399,
          87.736,
          83.907,
          73.744,
          68.342,
          93.181,
          82.274,
          102.281,
          95.971,
          107.569,
          105.362,
          112.941,
          110.139,
          132.133,
          119.865,
          127.02
         ]
        }
       ],
       "layout": {
        "height": 500,
        "plot_bgcolor": "white",
        "shapes": [
         {
          "line": {
           "color": "black",
           "width": 3
          },
          "type": "line",
          "x0": 6.869,
          "x1": 6.869,
          "xref": "x",
          "y0": 0,
          "y1": 1,
          "yref": "y domain"
         },
         {
          "line": {
           "color": "gray",
           "width": 3
          },
          "type": "line",
          "x0": 6.869,
          "x1": 10,
          "y0": 98.929,
          "y1": 98.929
         },
         {
          "line": {
           "color": "gray",
           "width": 3
          },
          "type": "line",
          "x0": -10,
          "x1": 6.869,
          "y0": 25.924,
          "y1": 25.924
         }
        ],
        "template": {
         "data": {
          "bar": [
           {
            "error_x": {
             "color": "#2a3f5f"
            },
            "error_y": {
             "color": "#2a3f5f"
            },
            "marker": {
             "line": {
              "color": "#E5ECF6",
              "width": 0.5
             },
             "pattern": {
              "fillmode": "overlay",
              "size": 10,
              "solidity": 0.2
             }
            },
            "type": "bar"
           }
          ],
          "barpolar": [
           {
            "marker": {
             "line": {
              "color": "#E5ECF6",
              "width": 0.5
             },
             "pattern": {
              "fillmode": "overlay",
              "size": 10,
              "solidity": 0.2
             }
            },
            "type": "barpolar"
           }
          ],
          "carpet": [
           {
            "aaxis": {
             "endlinecolor": "#2a3f5f",
             "gridcolor": "white",
             "linecolor": "white",
             "minorgridcolor": "white",
             "startlinecolor": "#2a3f5f"
            },
            "baxis": {
             "endlinecolor": "#2a3f5f",
             "gridcolor": "white",
             "linecolor": "white",
             "minorgridcolor": "white",
             "startlinecolor": "#2a3f5f"
            },
            "type": "carpet"
           }
          ],
          "choropleth": [
           {
            "colorbar": {
             "outlinewidth": 0,
             "ticks": ""
            },
            "type": "choropleth"
           }
          ],
          "contour": [
           {
            "colorbar": {
             "outlinewidth": 0,
             "ticks": ""
            },
            "colorscale": [
             [
              0,
              "#0d0887"
             ],
             [
              0.1111111111111111,
              "#46039f"
             ],
             [
              0.2222222222222222,
              "#7201a8"
             ],
             [
              0.3333333333333333,
              "#9c179e"
             ],
             [
              0.4444444444444444,
              "#bd3786"
             ],
             [
              0.5555555555555556,
              "#d8576b"
             ],
             [
              0.6666666666666666,
              "#ed7953"
             ],
             [
              0.7777777777777778,
              "#fb9f3a"
             ],
             [
              0.8888888888888888,
              "#fdca26"
             ],
             [
              1,
              "#f0f921"
             ]
            ],
            "type": "contour"
           }
          ],
          "contourcarpet": [
           {
            "colorbar": {
             "outlinewidth": 0,
             "ticks": ""
            },
            "type": "contourcarpet"
           }
          ],
          "heatmap": [
           {
            "colorbar": {
             "outlinewidth": 0,
             "ticks": ""
            },
            "colorscale": [
             [
              0,
              "#0d0887"
             ],
             [
              0.1111111111111111,
              "#46039f"
             ],
             [
              0.2222222222222222,
              "#7201a8"
             ],
             [
              0.3333333333333333,
              "#9c179e"
             ],
             [
              0.4444444444444444,
              "#bd3786"
             ],
             [
              0.5555555555555556,
              "#d8576b"
             ],
             [
              0.6666666666666666,
              "#ed7953"
             ],
             [
              0.7777777777777778,
              "#fb9f3a"
             ],
             [
              0.8888888888888888,
              "#fdca26"
             ],
             [
              1,
              "#f0f921"
             ]
            ],
            "type": "heatmap"
           }
          ],
          "heatmapgl": [
           {
            "colorbar": {
             "outlinewidth": 0,
             "ticks": ""
            },
            "colorscale": [
             [
              0,
              "#0d0887"
             ],
             [
              0.1111111111111111,
              "#46039f"
             ],
             [
              0.2222222222222222,
              "#7201a8"
             ],
             [
              0.3333333333333333,
              "#9c179e"
             ],
             [
              0.4444444444444444,
              "#bd3786"
             ],
             [
              0.5555555555555556,
              "#d8576b"
             ],
             [
              0.6666666666666666,
              "#ed7953"
             ],
             [
              0.7777777777777778,
              "#fb9f3a"
             ],
             [
              0.8888888888888888,
              "#fdca26"
             ],
             [
              1,
              "#f0f921"
             ]
            ],
            "type": "heatmapgl"
           }
          ],
          "histogram": [
           {
            "marker": {
             "pattern": {
              "fillmode": "overlay",
              "size": 10,
              "solidity": 0.2
             }
            },
            "type": "histogram"
           }
          ],
          "histogram2d": [
           {
            "colorbar": {
             "outlinewidth": 0,
             "ticks": ""
            },
            "colorscale": [
             [
              0,
              "#0d0887"
             ],
             [
              0.1111111111111111,
              "#46039f"
             ],
             [
              0.2222222222222222,
              "#7201a8"
             ],
             [
              0.3333333333333333,
              "#9c179e"
             ],
             [
              0.4444444444444444,
              "#bd3786"
             ],
             [
              0.5555555555555556,
              "#d8576b"
             ],
             [
              0.6666666666666666,
              "#ed7953"
             ],
             [
              0.7777777777777778,
              "#fb9f3a"
             ],
             [
              0.8888888888888888,
              "#fdca26"
             ],
             [
              1,
              "#f0f921"
             ]
            ],
            "type": "histogram2d"
           }
          ],
          "histogram2dcontour": [
           {
            "colorbar": {
             "outlinewidth": 0,
             "ticks": ""
            },
            "colorscale": [
             [
              0,
              "#0d0887"
             ],
             [
              0.1111111111111111,
              "#46039f"
             ],
             [
              0.2222222222222222,
              "#7201a8"
             ],
             [
              0.3333333333333333,
              "#9c179e"
             ],
             [
              0.4444444444444444,
              "#bd3786"
             ],
             [
              0.5555555555555556,
              "#d8576b"
             ],
             [
              0.6666666666666666,
              "#ed7953"
             ],
             [
              0.7777777777777778,
              "#fb9f3a"
             ],
             [
              0.8888888888888888,
              "#fdca26"
             ],
             [
              1,
              "#f0f921"
             ]
            ],
            "type": "histogram2dcontour"
           }
          ],
          "mesh3d": [
           {
            "colorbar": {
             "outlinewidth": 0,
             "ticks": ""
            },
            "type": "mesh3d"
           }
          ],
          "parcoords": [
           {
            "line": {
             "colorbar": {
              "outlinewidth": 0,
              "ticks": ""
             }
            },
            "type": "parcoords"
           }
          ],
          "pie": [
           {
            "automargin": true,
            "type": "pie"
           }
          ],
          "scatter": [
           {
            "fillpattern": {
             "fillmode": "overlay",
             "size": 10,
             "solidity": 0.2
            },
            "type": "scatter"
           }
          ],
          "scatter3d": [
           {
            "line": {
             "colorbar": {
              "outlinewidth": 0,
              "ticks": ""
             }
            },
            "marker": {
             "colorbar": {
              "outlinewidth": 0,
              "ticks": ""
             }
            },
            "type": "scatter3d"
           }
          ],
          "scattercarpet": [
           {
            "marker": {
             "colorbar": {
              "outlinewidth": 0,
              "ticks": ""
             }
            },
            "type": "scattercarpet"
           }
          ],
          "scattergeo": [
           {
            "marker": {
             "colorbar": {
              "outlinewidth": 0,
              "ticks": ""
             }
            },
            "type": "scattergeo"
           }
          ],
          "scattergl": [
           {
            "marker": {
             "colorbar": {
              "outlinewidth": 0,
              "ticks": ""
             }
            },
            "type": "scattergl"
           }
          ],
          "scattermapbox": [
           {
            "marker": {
             "colorbar": {
              "outlinewidth": 0,
              "ticks": ""
             }
            },
            "type": "scattermapbox"
           }
          ],
          "scatterpolar": [
           {
            "marker": {
             "colorbar": {
              "outlinewidth": 0,
              "ticks": ""
             }
            },
            "type": "scatterpolar"
           }
          ],
          "scatterpolargl": [
           {
            "marker": {
             "colorbar": {
              "outlinewidth": 0,
              "ticks": ""
             }
            },
            "type": "scatterpolargl"
           }
          ],
          "scatterternary": [
           {
            "marker": {
             "colorbar": {
              "outlinewidth": 0,
              "ticks": ""
             }
            },
            "type": "scatterternary"
           }
          ],
          "surface": [
           {
            "colorbar": {
             "outlinewidth": 0,
             "ticks": ""
            },
            "colorscale": [
             [
              0,
              "#0d0887"
             ],
             [
              0.1111111111111111,
              "#46039f"
             ],
             [
              0.2222222222222222,
              "#7201a8"
             ],
             [
              0.3333333333333333,
              "#9c179e"
             ],
             [
              0.4444444444444444,
              "#bd3786"
             ],
             [
              0.5555555555555556,
              "#d8576b"
             ],
             [
              0.6666666666666666,
              "#ed7953"
             ],
             [
              0.7777777777777778,
              "#fb9f3a"
             ],
             [
              0.8888888888888888,
              "#fdca26"
             ],
             [
              1,
              "#f0f921"
             ]
            ],
            "type": "surface"
           }
          ],
          "table": [
           {
            "cells": {
             "fill": {
              "color": "#EBF0F8"
             },
             "line": {
              "color": "white"
             }
            },
            "header": {
             "fill": {
              "color": "#C8D4E3"
             },
             "line": {
              "color": "white"
             }
            },
            "type": "table"
           }
          ]
         },
         "layout": {
          "annotationdefaults": {
           "arrowcolor": "#2a3f5f",
           "arrowhead": 0,
           "arrowwidth": 1
          },
          "autotypenumbers": "strict",
          "coloraxis": {
           "colorbar": {
            "outlinewidth": 0,
            "ticks": ""
           }
          },
          "colorscale": {
           "diverging": [
            [
             0,
             "#8e0152"
            ],
            [
             0.1,
             "#c51b7d"
            ],
            [
             0.2,
             "#de77ae"
            ],
            [
             0.3,
             "#f1b6da"
            ],
            [
             0.4,
             "#fde0ef"
            ],
            [
             0.5,
             "#f7f7f7"
            ],
            [
             0.6,
             "#e6f5d0"
            ],
            [
             0.7,
             "#b8e186"
            ],
            [
             0.8,
             "#7fbc41"
            ],
            [
             0.9,
             "#4d9221"
            ],
            [
             1,
             "#276419"
            ]
           ],
           "sequential": [
            [
             0,
             "#0d0887"
            ],
            [
             0.1111111111111111,
             "#46039f"
            ],
            [
             0.2222222222222222,
             "#7201a8"
            ],
            [
             0.3333333333333333,
             "#9c179e"
            ],
            [
             0.4444444444444444,
             "#bd3786"
            ],
            [
             0.5555555555555556,
             "#d8576b"
            ],
            [
             0.6666666666666666,
             "#ed7953"
            ],
            [
             0.7777777777777778,
             "#fb9f3a"
            ],
            [
             0.8888888888888888,
             "#fdca26"
            ],
            [
             1,
             "#f0f921"
            ]
           ],
           "sequentialminus": [
            [
             0,
             "#0d0887"
            ],
            [
             0.1111111111111111,
             "#46039f"
            ],
            [
             0.2222222222222222,
             "#7201a8"
            ],
            [
             0.3333333333333333,
             "#9c179e"
            ],
            [
             0.4444444444444444,
             "#bd3786"
            ],
            [
             0.5555555555555556,
             "#d8576b"
            ],
            [
             0.6666666666666666,
             "#ed7953"
            ],
            [
             0.7777777777777778,
             "#fb9f3a"
            ],
            [
             0.8888888888888888,
             "#fdca26"
            ],
            [
             1,
             "#f0f921"
            ]
           ]
          },
          "colorway": [
           "#636efa",
           "#EF553B",
           "#00cc96",
           "#ab63fa",
           "#FFA15A",
           "#19d3f3",
           "#FF6692",
           "#B6E880",
           "#FF97FF",
           "#FECB52"
          ],
          "font": {
           "color": "#2a3f5f"
          },
          "geo": {
           "bgcolor": "white",
           "lakecolor": "white",
           "landcolor": "#E5ECF6",
           "showlakes": true,
           "showland": true,
           "subunitcolor": "white"
          },
          "hoverlabel": {
           "align": "left"
          },
          "hovermode": "closest",
          "mapbox": {
           "style": "light"
          },
          "paper_bgcolor": "white",
          "plot_bgcolor": "#E5ECF6",
          "polar": {
           "angularaxis": {
            "gridcolor": "white",
            "linecolor": "white",
            "ticks": ""
           },
           "bgcolor": "#E5ECF6",
           "radialaxis": {
            "gridcolor": "white",
            "linecolor": "white",
            "ticks": ""
           }
          },
          "scene": {
           "xaxis": {
            "backgroundcolor": "#E5ECF6",
            "gridcolor": "white",
            "gridwidth": 2,
            "linecolor": "white",
            "showbackground": true,
            "ticks": "",
            "zerolinecolor": "white"
           },
           "yaxis": {
            "backgroundcolor": "#E5ECF6",
            "gridcolor": "white",
            "gridwidth": 2,
            "linecolor": "white",
            "showbackground": true,
            "ticks": "",
            "zerolinecolor": "white"
           },
           "zaxis": {
            "backgroundcolor": "#E5ECF6",
            "gridcolor": "white",
            "gridwidth": 2,
            "linecolor": "white",
            "showbackground": true,
            "ticks": "",
            "zerolinecolor": "white"
           }
          },
          "shapedefaults": {
           "line": {
            "color": "#2a3f5f"
           }
          },
          "ternary": {
           "aaxis": {
            "gridcolor": "white",
            "linecolor": "white",
            "ticks": ""
           },
           "baxis": {
            "gridcolor": "white",
            "linecolor": "white",
            "ticks": ""
           },
           "bgcolor": "#E5ECF6",
           "caxis": {
            "gridcolor": "white",
            "linecolor": "white",
            "ticks": ""
           }
          },
          "title": {
           "x": 0.05
          },
          "xaxis": {
           "automargin": true,
           "gridcolor": "white",
           "linecolor": "white",
           "ticks": "",
           "title": {
            "standoff": 15
           },
           "zerolinecolor": "white",
           "zerolinewidth": 2
          },
          "yaxis": {
           "automargin": true,
           "gridcolor": "white",
           "linecolor": "white",
           "ticks": "",
           "title": {
            "standoff": 15
           },
           "zerolinecolor": "white",
           "zerolinewidth": 2
          }
         }
        },
        "title": {
         "text": "X<=6.869, MSE=1381.82, samples=100, value=37.605",
         "x": 0.5,
         "xanchor": "center",
         "y": 0.9,
         "yanchor": "top"
        },
        "width": 900,
        "xaxis": {
         "dtick": 1,
         "linecolor": "black",
         "showline": true,
         "tickmode": "linear",
         "title": {
          "text": "X"
         }
        },
        "yaxis": {
         "linecolor": "black",
         "showline": true,
         "title": {
          "text": "y"
         }
        }
       }
      }
     },
     "metadata": {},
     "output_type": "display_data"
    }
   ],
   "source": [
    "# add vertical line to existing figure\n",
    "fig.add_vline(x=best_params[\"split_value\"], line_width=3, line_color=\"black\")\n",
    "\n",
    "# plot right branch split\n",
    "fig.add_shape(type=\"line\",\n",
    "x0=best_params[\"split_value\"], y0=best_params[\"right_yhat\"],\n",
    "x1=10, y1=best_params[\"right_yhat\"],  \n",
    "line=dict(color=\"gray\", width=3))\n",
    "\n",
    "# plot left branch split\n",
    "fig.add_shape(type=\"line\",\n",
    "x0=-10, y0=best_params[\"left_yhat\"],\n",
    "x1=best_params[\"split_value\"], y1=best_params[\"left_yhat\"],  \n",
    "line=dict(color=\"gray\", width=3))\n",
    "\n",
    "# fig.update_layout(title=\n",
    "fig.update_layout(\n",
    "title={\n",
    "    'text': f\"X<={np.round(best_params[\"split_value\"],3)}, MSE={np.round(best_params[\"curr_mse\"],3)}, samples={len(df)}, value={np.round(df[\"y\"].mean(),3)}\",\n",
    "    'y':0.9,\n",
    "    'x':0.5,\n",
    "    'xanchor': 'center',\n",
    "    'yanchor': 'top'},\n",
    ")\n",
    "\n",
    "fig.show()"
   ]
  },
  {
   "cell_type": "code",
   "execution_count": 108,
   "metadata": {},
   "outputs": [
    {
     "data": {
      "text/plain": [
       "6.869"
      ]
     },
     "execution_count": 108,
     "metadata": {},
     "output_type": "execute_result"
    }
   ],
   "source": [
    "# save the split value at root node\n",
    "best_split_value_at_root = best_params[\"split_value\"]\n",
    "best_split_value_at_root"
   ]
  },
  {
   "cell_type": "markdown",
   "metadata": {},
   "source": [
    "### Repeat on left partition"
   ]
  },
  {
   "cell_type": "code",
   "execution_count": 109,
   "metadata": {},
   "outputs": [
    {
     "data": {
      "text/plain": [
       "{'feature': 'X',\n",
       " 'split_value': -6.667,\n",
       " 'weighted_mse': 348.151,\n",
       " 'curr_mse': 728.428,\n",
       " 'right_yhat': 16.101,\n",
       " 'left_yhat': 64.638}"
      ]
     },
     "execution_count": 109,
     "metadata": {},
     "output_type": "execute_result"
    }
   ],
   "source": [
    "# retrieve data at left partition\n",
    "df = data[data[\"X\"]<=best_split_value_at_root].copy()\n",
    "\n",
    "features = [\"X\"]\n",
    "\n",
    "for feature in features:\n",
    "    # Reset best params\n",
    "    best_params = {\"feature\": None, # best feature\n",
    "                 \"split_value\": None, # best split value\n",
    "                 \"weighted_mse\": np.inf, # weighted mse of two branches\n",
    "                 \"curr_mse\": None, # mse at current node\n",
    "                 \"right_yhat\": None, # prediction at right branch\n",
    "                 \"left_yhat\": None # prediction at left branch\n",
    "                 }\n",
    "\n",
    "\n",
    "    df = df.sort_values(by=feature)\n",
    "\n",
    "    # compute the mse at current node\n",
    "    curr_yhat = np.mean(df['y'].mean())\n",
    "    curr_mse = mean_squared_error(df['y'], curr_yhat)\n",
    "    curr_mse = np.round(curr_mse, 3)\n",
    "    for i in range(1, len(df)):\n",
    "        split_val = (df.iloc[i][feature] + df.iloc[i-1][feature]) / 2\n",
    "        split_val = np.round(split_val, 3)\n",
    "\n",
    "        # split the df into two partitions\n",
    "        left_branch = df[df[feature]<=split_val]\n",
    "        right_branch = df[df[feature]>split_val]\n",
    "\n",
    "        # compute the MSE of both patitions\n",
    "\n",
    "        # predictions of every data point on left side will be equal to average of price\n",
    "        left_yhat = np.mean(left_branch[\"y\"])\n",
    "        left_yhat = np.round(left_yhat, 3)\n",
    "        left_mse = mean_squared_error(left_branch[\"y\"], left_yhat)\n",
    "        left_mse = np.round(left_mse, 3)\n",
    "\n",
    "        right_yhat = np.mean(right_branch[\"y\"])\n",
    "        right_yhat = np.round(right_yhat, 3)\n",
    "        right_mse = mean_squared_error(right_branch[\"y\"], right_yhat)\n",
    "        right_mse = np.round(right_mse, 3)\n",
    "\n",
    "        # weighted MSE\n",
    "        weighted_mse = ((len(left_branch) * left_mse) + (len(right_branch) * right_mse))/len(df)\n",
    "        weighted_mse = np.round(weighted_mse, 3)\n",
    "\n",
    "        if weighted_mse <= best_params[\"weighted_mse\"]:\n",
    "            best_params[\"left_yhat\"] = left_yhat\n",
    "            best_params[\"right_yhat\"] = right_yhat\n",
    "            best_params[\"weighted_mse\"] = weighted_mse\n",
    "            best_params[\"split_value\"] = split_val\n",
    "            best_params[\"feature\"] = feature\n",
    "            best_params[\"curr_mse\"] = curr_mse\n",
    "\n",
    "best_params"
   ]
  },
  {
   "cell_type": "code",
   "execution_count": 110,
   "metadata": {},
   "outputs": [
    {
     "data": {
      "application/vnd.plotly.v1+json": {
       "config": {
        "plotlyServerURL": "https://plot.ly"
       },
       "data": [
        {
         "marker": {
          "color": "red",
          "line": {
           "color": "black",
           "width": 1
          },
          "opacity": 0.7,
          "size": 6
         },
         "mode": "markers",
         "type": "scatter",
         "x": [
          -10,
          -9.798,
          -9.596,
          -9.394,
          -9.192,
          -8.99,
          -8.788,
          -8.586,
          -8.384,
          -8.182,
          -7.98,
          -7.778,
          -7.576,
          -7.374,
          -7.172,
          -6.97,
          -6.768,
          -6.566,
          -6.364,
          -6.162,
          -5.96,
          -5.758,
          -5.556,
          -5.354,
          -5.152,
          -4.949,
          -4.747,
          -4.545,
          -4.343,
          -4.141,
          -3.939,
          -3.737,
          -3.535,
          -3.333,
          -3.131,
          -2.929,
          -2.727,
          -2.525,
          -2.323,
          -2.121,
          -1.919,
          -1.717,
          -1.515,
          -1.313,
          -1.111,
          -0.909,
          -0.707,
          -0.505,
          -0.303,
          -0.101,
          0.101,
          0.303,
          0.505,
          0.707,
          0.909,
          1.111,
          1.313,
          1.515,
          1.717,
          1.919,
          2.121,
          2.323,
          2.525,
          2.727,
          2.929,
          3.131,
          3.333,
          3.535,
          3.737,
          3.939,
          4.141,
          4.343,
          4.545,
          4.747,
          4.949,
          5.152,
          5.354,
          5.556,
          5.758,
          5.96,
          6.162,
          6.364,
          6.566,
          6.768
         ],
         "y": [
          100.641,
          83.406,
          85.678,
          94.867,
          87.783,
          56.066,
          72.152,
          58.032,
          55.489,
          57.684,
          52.158,
          62.481,
          52.851,
          43.841,
          44.529,
          40.974,
          50.207,
          30.925,
          33.899,
          20.101,
          1.068,
          31.171,
          31.397,
          13.532,
          41.933,
          3.055,
          16.501,
          12.698,
          28.506,
          26.562,
          12.19,
          13.275,
          -0.45,
          -12.364,
          3.063,
          7.286,
          17.286,
          16.35,
          -0.122,
          0.234,
          -7.641,
          -11.686,
          -14.797,
          21.606,
          -3.084,
          -2.372,
          -10.442,
          10.02,
          -13.653,
          0.681,
          -5.742,
          7.567,
          -0.843,
          -6.892,
          5.363,
          10.74,
          8.016,
          11.351,
          3.04,
          6.894,
          5.017,
          9.448,
          6.296,
          -1.37,
          19.214,
          15.05,
          4.476,
          27.197,
          15.37,
          26.917,
          35.725,
          31.842,
          44.146,
          22.685,
          41.42,
          32.993,
          33.659,
          39.187,
          44.549,
          50.998,
          41.637,
          65.231,
          63.896,
          46.974
         ]
        }
       ],
       "layout": {
        "height": 500,
        "plot_bgcolor": "white",
        "shapes": [
         {
          "line": {
           "color": "black",
           "width": 3
          },
          "type": "line",
          "x0": -6.667,
          "x1": -6.667,
          "xref": "x",
          "y0": 0,
          "y1": 1,
          "yref": "y domain"
         },
         {
          "line": {
           "color": "gray",
           "width": 3
          },
          "type": "line",
          "x0": -6.667,
          "x1": 6.869,
          "y0": 16.101,
          "y1": 16.101
         },
         {
          "line": {
           "color": "gray",
           "width": 3
          },
          "type": "line",
          "x0": -10,
          "x1": -6.667,
          "y0": 64.638,
          "y1": 64.638
         }
        ],
        "template": {
         "data": {
          "bar": [
           {
            "error_x": {
             "color": "#2a3f5f"
            },
            "error_y": {
             "color": "#2a3f5f"
            },
            "marker": {
             "line": {
              "color": "#E5ECF6",
              "width": 0.5
             },
             "pattern": {
              "fillmode": "overlay",
              "size": 10,
              "solidity": 0.2
             }
            },
            "type": "bar"
           }
          ],
          "barpolar": [
           {
            "marker": {
             "line": {
              "color": "#E5ECF6",
              "width": 0.5
             },
             "pattern": {
              "fillmode": "overlay",
              "size": 10,
              "solidity": 0.2
             }
            },
            "type": "barpolar"
           }
          ],
          "carpet": [
           {
            "aaxis": {
             "endlinecolor": "#2a3f5f",
             "gridcolor": "white",
             "linecolor": "white",
             "minorgridcolor": "white",
             "startlinecolor": "#2a3f5f"
            },
            "baxis": {
             "endlinecolor": "#2a3f5f",
             "gridcolor": "white",
             "linecolor": "white",
             "minorgridcolor": "white",
             "startlinecolor": "#2a3f5f"
            },
            "type": "carpet"
           }
          ],
          "choropleth": [
           {
            "colorbar": {
             "outlinewidth": 0,
             "ticks": ""
            },
            "type": "choropleth"
           }
          ],
          "contour": [
           {
            "colorbar": {
             "outlinewidth": 0,
             "ticks": ""
            },
            "colorscale": [
             [
              0,
              "#0d0887"
             ],
             [
              0.1111111111111111,
              "#46039f"
             ],
             [
              0.2222222222222222,
              "#7201a8"
             ],
             [
              0.3333333333333333,
              "#9c179e"
             ],
             [
              0.4444444444444444,
              "#bd3786"
             ],
             [
              0.5555555555555556,
              "#d8576b"
             ],
             [
              0.6666666666666666,
              "#ed7953"
             ],
             [
              0.7777777777777778,
              "#fb9f3a"
             ],
             [
              0.8888888888888888,
              "#fdca26"
             ],
             [
              1,
              "#f0f921"
             ]
            ],
            "type": "contour"
           }
          ],
          "contourcarpet": [
           {
            "colorbar": {
             "outlinewidth": 0,
             "ticks": ""
            },
            "type": "contourcarpet"
           }
          ],
          "heatmap": [
           {
            "colorbar": {
             "outlinewidth": 0,
             "ticks": ""
            },
            "colorscale": [
             [
              0,
              "#0d0887"
             ],
             [
              0.1111111111111111,
              "#46039f"
             ],
             [
              0.2222222222222222,
              "#7201a8"
             ],
             [
              0.3333333333333333,
              "#9c179e"
             ],
             [
              0.4444444444444444,
              "#bd3786"
             ],
             [
              0.5555555555555556,
              "#d8576b"
             ],
             [
              0.6666666666666666,
              "#ed7953"
             ],
             [
              0.7777777777777778,
              "#fb9f3a"
             ],
             [
              0.8888888888888888,
              "#fdca26"
             ],
             [
              1,
              "#f0f921"
             ]
            ],
            "type": "heatmap"
           }
          ],
          "heatmapgl": [
           {
            "colorbar": {
             "outlinewidth": 0,
             "ticks": ""
            },
            "colorscale": [
             [
              0,
              "#0d0887"
             ],
             [
              0.1111111111111111,
              "#46039f"
             ],
             [
              0.2222222222222222,
              "#7201a8"
             ],
             [
              0.3333333333333333,
              "#9c179e"
             ],
             [
              0.4444444444444444,
              "#bd3786"
             ],
             [
              0.5555555555555556,
              "#d8576b"
             ],
             [
              0.6666666666666666,
              "#ed7953"
             ],
             [
              0.7777777777777778,
              "#fb9f3a"
             ],
             [
              0.8888888888888888,
              "#fdca26"
             ],
             [
              1,
              "#f0f921"
             ]
            ],
            "type": "heatmapgl"
           }
          ],
          "histogram": [
           {
            "marker": {
             "pattern": {
              "fillmode": "overlay",
              "size": 10,
              "solidity": 0.2
             }
            },
            "type": "histogram"
           }
          ],
          "histogram2d": [
           {
            "colorbar": {
             "outlinewidth": 0,
             "ticks": ""
            },
            "colorscale": [
             [
              0,
              "#0d0887"
             ],
             [
              0.1111111111111111,
              "#46039f"
             ],
             [
              0.2222222222222222,
              "#7201a8"
             ],
             [
              0.3333333333333333,
              "#9c179e"
             ],
             [
              0.4444444444444444,
              "#bd3786"
             ],
             [
              0.5555555555555556,
              "#d8576b"
             ],
             [
              0.6666666666666666,
              "#ed7953"
             ],
             [
              0.7777777777777778,
              "#fb9f3a"
             ],
             [
              0.8888888888888888,
              "#fdca26"
             ],
             [
              1,
              "#f0f921"
             ]
            ],
            "type": "histogram2d"
           }
          ],
          "histogram2dcontour": [
           {
            "colorbar": {
             "outlinewidth": 0,
             "ticks": ""
            },
            "colorscale": [
             [
              0,
              "#0d0887"
             ],
             [
              0.1111111111111111,
              "#46039f"
             ],
             [
              0.2222222222222222,
              "#7201a8"
             ],
             [
              0.3333333333333333,
              "#9c179e"
             ],
             [
              0.4444444444444444,
              "#bd3786"
             ],
             [
              0.5555555555555556,
              "#d8576b"
             ],
             [
              0.6666666666666666,
              "#ed7953"
             ],
             [
              0.7777777777777778,
              "#fb9f3a"
             ],
             [
              0.8888888888888888,
              "#fdca26"
             ],
             [
              1,
              "#f0f921"
             ]
            ],
            "type": "histogram2dcontour"
           }
          ],
          "mesh3d": [
           {
            "colorbar": {
             "outlinewidth": 0,
             "ticks": ""
            },
            "type": "mesh3d"
           }
          ],
          "parcoords": [
           {
            "line": {
             "colorbar": {
              "outlinewidth": 0,
              "ticks": ""
             }
            },
            "type": "parcoords"
           }
          ],
          "pie": [
           {
            "automargin": true,
            "type": "pie"
           }
          ],
          "scatter": [
           {
            "fillpattern": {
             "fillmode": "overlay",
             "size": 10,
             "solidity": 0.2
            },
            "type": "scatter"
           }
          ],
          "scatter3d": [
           {
            "line": {
             "colorbar": {
              "outlinewidth": 0,
              "ticks": ""
             }
            },
            "marker": {
             "colorbar": {
              "outlinewidth": 0,
              "ticks": ""
             }
            },
            "type": "scatter3d"
           }
          ],
          "scattercarpet": [
           {
            "marker": {
             "colorbar": {
              "outlinewidth": 0,
              "ticks": ""
             }
            },
            "type": "scattercarpet"
           }
          ],
          "scattergeo": [
           {
            "marker": {
             "colorbar": {
              "outlinewidth": 0,
              "ticks": ""
             }
            },
            "type": "scattergeo"
           }
          ],
          "scattergl": [
           {
            "marker": {
             "colorbar": {
              "outlinewidth": 0,
              "ticks": ""
             }
            },
            "type": "scattergl"
           }
          ],
          "scattermapbox": [
           {
            "marker": {
             "colorbar": {
              "outlinewidth": 0,
              "ticks": ""
             }
            },
            "type": "scattermapbox"
           }
          ],
          "scatterpolar": [
           {
            "marker": {
             "colorbar": {
              "outlinewidth": 0,
              "ticks": ""
             }
            },
            "type": "scatterpolar"
           }
          ],
          "scatterpolargl": [
           {
            "marker": {
             "colorbar": {
              "outlinewidth": 0,
              "ticks": ""
             }
            },
            "type": "scatterpolargl"
           }
          ],
          "scatterternary": [
           {
            "marker": {
             "colorbar": {
              "outlinewidth": 0,
              "ticks": ""
             }
            },
            "type": "scatterternary"
           }
          ],
          "surface": [
           {
            "colorbar": {
             "outlinewidth": 0,
             "ticks": ""
            },
            "colorscale": [
             [
              0,
              "#0d0887"
             ],
             [
              0.1111111111111111,
              "#46039f"
             ],
             [
              0.2222222222222222,
              "#7201a8"
             ],
             [
              0.3333333333333333,
              "#9c179e"
             ],
             [
              0.4444444444444444,
              "#bd3786"
             ],
             [
              0.5555555555555556,
              "#d8576b"
             ],
             [
              0.6666666666666666,
              "#ed7953"
             ],
             [
              0.7777777777777778,
              "#fb9f3a"
             ],
             [
              0.8888888888888888,
              "#fdca26"
             ],
             [
              1,
              "#f0f921"
             ]
            ],
            "type": "surface"
           }
          ],
          "table": [
           {
            "cells": {
             "fill": {
              "color": "#EBF0F8"
             },
             "line": {
              "color": "white"
             }
            },
            "header": {
             "fill": {
              "color": "#C8D4E3"
             },
             "line": {
              "color": "white"
             }
            },
            "type": "table"
           }
          ]
         },
         "layout": {
          "annotationdefaults": {
           "arrowcolor": "#2a3f5f",
           "arrowhead": 0,
           "arrowwidth": 1
          },
          "autotypenumbers": "strict",
          "coloraxis": {
           "colorbar": {
            "outlinewidth": 0,
            "ticks": ""
           }
          },
          "colorscale": {
           "diverging": [
            [
             0,
             "#8e0152"
            ],
            [
             0.1,
             "#c51b7d"
            ],
            [
             0.2,
             "#de77ae"
            ],
            [
             0.3,
             "#f1b6da"
            ],
            [
             0.4,
             "#fde0ef"
            ],
            [
             0.5,
             "#f7f7f7"
            ],
            [
             0.6,
             "#e6f5d0"
            ],
            [
             0.7,
             "#b8e186"
            ],
            [
             0.8,
             "#7fbc41"
            ],
            [
             0.9,
             "#4d9221"
            ],
            [
             1,
             "#276419"
            ]
           ],
           "sequential": [
            [
             0,
             "#0d0887"
            ],
            [
             0.1111111111111111,
             "#46039f"
            ],
            [
             0.2222222222222222,
             "#7201a8"
            ],
            [
             0.3333333333333333,
             "#9c179e"
            ],
            [
             0.4444444444444444,
             "#bd3786"
            ],
            [
             0.5555555555555556,
             "#d8576b"
            ],
            [
             0.6666666666666666,
             "#ed7953"
            ],
            [
             0.7777777777777778,
             "#fb9f3a"
            ],
            [
             0.8888888888888888,
             "#fdca26"
            ],
            [
             1,
             "#f0f921"
            ]
           ],
           "sequentialminus": [
            [
             0,
             "#0d0887"
            ],
            [
             0.1111111111111111,
             "#46039f"
            ],
            [
             0.2222222222222222,
             "#7201a8"
            ],
            [
             0.3333333333333333,
             "#9c179e"
            ],
            [
             0.4444444444444444,
             "#bd3786"
            ],
            [
             0.5555555555555556,
             "#d8576b"
            ],
            [
             0.6666666666666666,
             "#ed7953"
            ],
            [
             0.7777777777777778,
             "#fb9f3a"
            ],
            [
             0.8888888888888888,
             "#fdca26"
            ],
            [
             1,
             "#f0f921"
            ]
           ]
          },
          "colorway": [
           "#636efa",
           "#EF553B",
           "#00cc96",
           "#ab63fa",
           "#FFA15A",
           "#19d3f3",
           "#FF6692",
           "#B6E880",
           "#FF97FF",
           "#FECB52"
          ],
          "font": {
           "color": "#2a3f5f"
          },
          "geo": {
           "bgcolor": "white",
           "lakecolor": "white",
           "landcolor": "#E5ECF6",
           "showlakes": true,
           "showland": true,
           "subunitcolor": "white"
          },
          "hoverlabel": {
           "align": "left"
          },
          "hovermode": "closest",
          "mapbox": {
           "style": "light"
          },
          "paper_bgcolor": "white",
          "plot_bgcolor": "#E5ECF6",
          "polar": {
           "angularaxis": {
            "gridcolor": "white",
            "linecolor": "white",
            "ticks": ""
           },
           "bgcolor": "#E5ECF6",
           "radialaxis": {
            "gridcolor": "white",
            "linecolor": "white",
            "ticks": ""
           }
          },
          "scene": {
           "xaxis": {
            "backgroundcolor": "#E5ECF6",
            "gridcolor": "white",
            "gridwidth": 2,
            "linecolor": "white",
            "showbackground": true,
            "ticks": "",
            "zerolinecolor": "white"
           },
           "yaxis": {
            "backgroundcolor": "#E5ECF6",
            "gridcolor": "white",
            "gridwidth": 2,
            "linecolor": "white",
            "showbackground": true,
            "ticks": "",
            "zerolinecolor": "white"
           },
           "zaxis": {
            "backgroundcolor": "#E5ECF6",
            "gridcolor": "white",
            "gridwidth": 2,
            "linecolor": "white",
            "showbackground": true,
            "ticks": "",
            "zerolinecolor": "white"
           }
          },
          "shapedefaults": {
           "line": {
            "color": "#2a3f5f"
           }
          },
          "ternary": {
           "aaxis": {
            "gridcolor": "white",
            "linecolor": "white",
            "ticks": ""
           },
           "baxis": {
            "gridcolor": "white",
            "linecolor": "white",
            "ticks": ""
           },
           "bgcolor": "#E5ECF6",
           "caxis": {
            "gridcolor": "white",
            "linecolor": "white",
            "ticks": ""
           }
          },
          "title": {
           "x": 0.05
          },
          "xaxis": {
           "automargin": true,
           "gridcolor": "white",
           "linecolor": "white",
           "ticks": "",
           "title": {
            "standoff": 15
           },
           "zerolinecolor": "white",
           "zerolinewidth": 2
          },
          "yaxis": {
           "automargin": true,
           "gridcolor": "white",
           "linecolor": "white",
           "ticks": "",
           "title": {
            "standoff": 15
           },
           "zerolinecolor": "white",
           "zerolinewidth": 2
          }
         }
        },
        "title": {
         "text": "Left of root node <br>X<=-6.67, MSE=728.43, samples=84, value=25.92",
         "x": 0.5,
         "xanchor": "center",
         "y": 0.9,
         "yanchor": "top"
        },
        "width": 700,
        "xaxis": {
         "dtick": 1,
         "linecolor": "black",
         "showline": true,
         "tickmode": "linear",
         "title": {
          "text": "X"
         }
        },
        "yaxis": {
         "linecolor": "black",
         "showline": true,
         "title": {
          "text": "y"
         }
        }
       }
      }
     },
     "metadata": {},
     "output_type": "display_data"
    },
    {
     "data": {
      "text/plain": [
       "{'feature': 'X',\n",
       " 'split_value': -6.667,\n",
       " 'weighted_mse': 348.151,\n",
       " 'curr_mse': 728.428,\n",
       " 'right_yhat': 16.101,\n",
       " 'left_yhat': 64.638}"
      ]
     },
     "execution_count": 110,
     "metadata": {},
     "output_type": "execute_result"
    }
   ],
   "source": [
    "fig = go.Figure()\n",
    "\n",
    "fig.add_trace(\n",
    "go.Scatter(x=df[\"X\"], y=df[\"y\"], mode=\"markers\",marker=dict(opacity=0.7, size=6, color=\"red\",\n",
    "        line=dict(color='black', width=1)))\n",
    ")\n",
    "\n",
    "# old split (right side remains intact)\n",
    "fig.add_vline(x=best_params[\"split_value\"], line_width=3, line_color=\"black\")\n",
    "\n",
    "\n",
    "\n",
    "# update left branch splits\n",
    "# plot right branch split\n",
    "fig.add_shape(type=\"line\",\n",
    "x0=best_params[\"split_value\"], y0=best_params[\"right_yhat\"],\n",
    "x1=best_split_value_at_root, y1=best_params[\"right_yhat\"],  \n",
    "line=dict(color=\"gray\", width=3))\n",
    "\n",
    "# plot left branch split\n",
    "fig.add_shape(type=\"line\",\n",
    "x0=-10, y0=best_params[\"left_yhat\"],\n",
    "x1=best_params[\"split_value\"], y1=best_params[\"left_yhat\"],  \n",
    "line=dict(color=\"gray\", width=3))\n",
    "\n",
    "# fig.update_layout(title=f\"X={np.round(best_params[\"split_value\"],2)}, MSE={np.round(best_params[\"mse\"],2)},samples={len(df)}, value={np.round(df[\"y\"].mean(),2)}\")\n",
    "fig.update_layout(\n",
    "    title={\n",
    "        'text': f\"Left of root node <br>X<={np.round(best_params[\"split_value\"],2)}, MSE={np.round(best_params[\"curr_mse\"],2)}, samples={len(df)}, value={np.round(df[\"y\"].mean(),2)}\",\n",
    "        'y':0.9,\n",
    "        'x':0.5,\n",
    "        'xanchor': 'center',\n",
    "        'yanchor': 'top'},\n",
    "    xaxis=dict(\n",
    "        title=\"X\",\n",
    "        showline=True,  \n",
    "        tickmode='linear',  \n",
    "        dtick=1,  \n",
    "        linecolor='black',  \n",
    "    ),\n",
    "    yaxis=dict(\n",
    "        title=\"y\",\n",
    "        showline=True,  \n",
    "        linecolor='black',  \n",
    "    ),\n",
    "    plot_bgcolor='white',  \n",
    "    width=700,\n",
    "    height=500\n",
    "    )\n",
    "\n",
    "fig.show()\n",
    "best_params\n"
   ]
  },
  {
   "cell_type": "code",
   "execution_count": 111,
   "metadata": {},
   "outputs": [
    {
     "data": {
      "text/plain": [
       "{'feature': 'X',\n",
       " 'split_value': 8.283,\n",
       " 'weighted_mse': 95.328,\n",
       " 'curr_mse': 335.16,\n",
       " 'right_yhat': 112.587,\n",
       " 'left_yhat': 81.369}"
      ]
     },
     "execution_count": 111,
     "metadata": {},
     "output_type": "execute_result"
    }
   ],
   "source": [
    "# retrieve data at right partition\n",
    "df = data[data[\"X\"]>best_split_value_at_root].copy()\n",
    "\n",
    "features = [\"X\"]\n",
    "\n",
    "for feature in features:\n",
    "    # Reset best params\n",
    "    best_params = {\"feature\": None, # best feature\n",
    "                 \"split_value\": None, # best split value\n",
    "                 \"weighted_mse\": np.inf, # weighted mse of two branches\n",
    "                 \"curr_mse\": None, # mse at current node\n",
    "                 \"right_yhat\": None, # prediction at right branch\n",
    "                 \"left_yhat\": None # prediction at left branch\n",
    "                 }\n",
    "\n",
    "\n",
    "    df = df.sort_values(by=feature)\n",
    "\n",
    "    # compute the mse at current node\n",
    "    curr_yhat = np.mean(df['y'].mean())\n",
    "    curr_mse = mean_squared_error(df['y'], curr_yhat)\n",
    "    curr_mse = np.round(curr_mse, 2)\n",
    "    for i in range(1, len(df)):\n",
    "        split_val = (df.iloc[i][feature] + df.iloc[i-1][feature]) / 2\n",
    "        split_val = np.round(split_val, 3)\n",
    "\n",
    "        # split the df into two partitions\n",
    "        left_branch = df[df[feature]<=split_val]\n",
    "        right_branch = df[df[feature]>split_val]\n",
    "\n",
    "        # compute the MSE of both patitions\n",
    "\n",
    "        # predictions of every data point on left side will be equal to average of price\n",
    "        left_yhat = np.mean(left_branch[\"y\"])\n",
    "        left_yhat = np.round(left_yhat, 3)\n",
    "        left_mse = mean_squared_error(left_branch[\"y\"], left_yhat)\n",
    "        left_mse = np.round(left_mse, 3)\n",
    "\n",
    "        right_yhat = np.mean(right_branch[\"y\"])\n",
    "        right_yhat = np.round(right_yhat, 3)\n",
    "        right_mse = mean_squared_error(right_branch[\"y\"], right_yhat)\n",
    "        right_mse = np.round(right_mse, 3)\n",
    "\n",
    "        # weighted MSE\n",
    "        weighted_mse = ((len(left_branch) * left_mse) + (len(right_branch) * right_mse))/len(df)\n",
    "        weighted_mse = np.round(weighted_mse, 3)\n",
    "\n",
    "        if weighted_mse <= best_params[\"weighted_mse\"]:\n",
    "            best_params[\"left_yhat\"] = left_yhat\n",
    "            best_params[\"right_yhat\"] = right_yhat\n",
    "            best_params[\"weighted_mse\"] = weighted_mse\n",
    "            best_params[\"split_value\"] = split_val\n",
    "            best_params[\"feature\"] = feature\n",
    "            best_params[\"curr_mse\"] = curr_mse\n",
    "\n",
    "best_params"
   ]
  },
  {
   "cell_type": "code",
   "execution_count": 112,
   "metadata": {},
   "outputs": [
    {
     "data": {
      "application/vnd.plotly.v1+json": {
       "config": {
        "plotlyServerURL": "https://plot.ly"
       },
       "data": [
        {
         "marker": {
          "color": "red",
          "line": {
           "color": "black",
           "width": 1
          },
          "opacity": 0.7,
          "size": 6
         },
         "mode": "markers",
         "type": "scatter",
         "x": [
          6.97,
          7.172,
          7.374,
          7.576,
          7.778,
          7.98,
          8.182,
          8.384,
          8.586,
          8.788,
          8.99,
          9.192,
          9.394,
          9.596,
          9.798,
          10
         ],
         "y": [
          80.399,
          87.736,
          83.907,
          73.744,
          68.342,
          93.181,
          82.274,
          102.281,
          95.971,
          107.569,
          105.362,
          112.941,
          110.139,
          132.133,
          119.865,
          127.02
         ]
        }
       ],
       "layout": {
        "height": 500,
        "plot_bgcolor": "white",
        "shapes": [
         {
          "line": {
           "color": "black",
           "width": 3
          },
          "type": "line",
          "x0": 8.283,
          "x1": 8.283,
          "xref": "x",
          "y0": 0,
          "y1": 1,
          "yref": "y domain"
         },
         {
          "line": {
           "color": "gray",
           "width": 3
          },
          "type": "line",
          "x0": 8.283,
          "x1": 11,
          "y0": 112.587,
          "y1": 112.587
         },
         {
          "line": {
           "color": "gray",
           "width": 3
          },
          "type": "line",
          "x0": 6.8,
          "x1": 8.283,
          "y0": 81.369,
          "y1": 81.369
         }
        ],
        "template": {
         "data": {
          "bar": [
           {
            "error_x": {
             "color": "#2a3f5f"
            },
            "error_y": {
             "color": "#2a3f5f"
            },
            "marker": {
             "line": {
              "color": "#E5ECF6",
              "width": 0.5
             },
             "pattern": {
              "fillmode": "overlay",
              "size": 10,
              "solidity": 0.2
             }
            },
            "type": "bar"
           }
          ],
          "barpolar": [
           {
            "marker": {
             "line": {
              "color": "#E5ECF6",
              "width": 0.5
             },
             "pattern": {
              "fillmode": "overlay",
              "size": 10,
              "solidity": 0.2
             }
            },
            "type": "barpolar"
           }
          ],
          "carpet": [
           {
            "aaxis": {
             "endlinecolor": "#2a3f5f",
             "gridcolor": "white",
             "linecolor": "white",
             "minorgridcolor": "white",
             "startlinecolor": "#2a3f5f"
            },
            "baxis": {
             "endlinecolor": "#2a3f5f",
             "gridcolor": "white",
             "linecolor": "white",
             "minorgridcolor": "white",
             "startlinecolor": "#2a3f5f"
            },
            "type": "carpet"
           }
          ],
          "choropleth": [
           {
            "colorbar": {
             "outlinewidth": 0,
             "ticks": ""
            },
            "type": "choropleth"
           }
          ],
          "contour": [
           {
            "colorbar": {
             "outlinewidth": 0,
             "ticks": ""
            },
            "colorscale": [
             [
              0,
              "#0d0887"
             ],
             [
              0.1111111111111111,
              "#46039f"
             ],
             [
              0.2222222222222222,
              "#7201a8"
             ],
             [
              0.3333333333333333,
              "#9c179e"
             ],
             [
              0.4444444444444444,
              "#bd3786"
             ],
             [
              0.5555555555555556,
              "#d8576b"
             ],
             [
              0.6666666666666666,
              "#ed7953"
             ],
             [
              0.7777777777777778,
              "#fb9f3a"
             ],
             [
              0.8888888888888888,
              "#fdca26"
             ],
             [
              1,
              "#f0f921"
             ]
            ],
            "type": "contour"
           }
          ],
          "contourcarpet": [
           {
            "colorbar": {
             "outlinewidth": 0,
             "ticks": ""
            },
            "type": "contourcarpet"
           }
          ],
          "heatmap": [
           {
            "colorbar": {
             "outlinewidth": 0,
             "ticks": ""
            },
            "colorscale": [
             [
              0,
              "#0d0887"
             ],
             [
              0.1111111111111111,
              "#46039f"
             ],
             [
              0.2222222222222222,
              "#7201a8"
             ],
             [
              0.3333333333333333,
              "#9c179e"
             ],
             [
              0.4444444444444444,
              "#bd3786"
             ],
             [
              0.5555555555555556,
              "#d8576b"
             ],
             [
              0.6666666666666666,
              "#ed7953"
             ],
             [
              0.7777777777777778,
              "#fb9f3a"
             ],
             [
              0.8888888888888888,
              "#fdca26"
             ],
             [
              1,
              "#f0f921"
             ]
            ],
            "type": "heatmap"
           }
          ],
          "heatmapgl": [
           {
            "colorbar": {
             "outlinewidth": 0,
             "ticks": ""
            },
            "colorscale": [
             [
              0,
              "#0d0887"
             ],
             [
              0.1111111111111111,
              "#46039f"
             ],
             [
              0.2222222222222222,
              "#7201a8"
             ],
             [
              0.3333333333333333,
              "#9c179e"
             ],
             [
              0.4444444444444444,
              "#bd3786"
             ],
             [
              0.5555555555555556,
              "#d8576b"
             ],
             [
              0.6666666666666666,
              "#ed7953"
             ],
             [
              0.7777777777777778,
              "#fb9f3a"
             ],
             [
              0.8888888888888888,
              "#fdca26"
             ],
             [
              1,
              "#f0f921"
             ]
            ],
            "type": "heatmapgl"
           }
          ],
          "histogram": [
           {
            "marker": {
             "pattern": {
              "fillmode": "overlay",
              "size": 10,
              "solidity": 0.2
             }
            },
            "type": "histogram"
           }
          ],
          "histogram2d": [
           {
            "colorbar": {
             "outlinewidth": 0,
             "ticks": ""
            },
            "colorscale": [
             [
              0,
              "#0d0887"
             ],
             [
              0.1111111111111111,
              "#46039f"
             ],
             [
              0.2222222222222222,
              "#7201a8"
             ],
             [
              0.3333333333333333,
              "#9c179e"
             ],
             [
              0.4444444444444444,
              "#bd3786"
             ],
             [
              0.5555555555555556,
              "#d8576b"
             ],
             [
              0.6666666666666666,
              "#ed7953"
             ],
             [
              0.7777777777777778,
              "#fb9f3a"
             ],
             [
              0.8888888888888888,
              "#fdca26"
             ],
             [
              1,
              "#f0f921"
             ]
            ],
            "type": "histogram2d"
           }
          ],
          "histogram2dcontour": [
           {
            "colorbar": {
             "outlinewidth": 0,
             "ticks": ""
            },
            "colorscale": [
             [
              0,
              "#0d0887"
             ],
             [
              0.1111111111111111,
              "#46039f"
             ],
             [
              0.2222222222222222,
              "#7201a8"
             ],
             [
              0.3333333333333333,
              "#9c179e"
             ],
             [
              0.4444444444444444,
              "#bd3786"
             ],
             [
              0.5555555555555556,
              "#d8576b"
             ],
             [
              0.6666666666666666,
              "#ed7953"
             ],
             [
              0.7777777777777778,
              "#fb9f3a"
             ],
             [
              0.8888888888888888,
              "#fdca26"
             ],
             [
              1,
              "#f0f921"
             ]
            ],
            "type": "histogram2dcontour"
           }
          ],
          "mesh3d": [
           {
            "colorbar": {
             "outlinewidth": 0,
             "ticks": ""
            },
            "type": "mesh3d"
           }
          ],
          "parcoords": [
           {
            "line": {
             "colorbar": {
              "outlinewidth": 0,
              "ticks": ""
             }
            },
            "type": "parcoords"
           }
          ],
          "pie": [
           {
            "automargin": true,
            "type": "pie"
           }
          ],
          "scatter": [
           {
            "fillpattern": {
             "fillmode": "overlay",
             "size": 10,
             "solidity": 0.2
            },
            "type": "scatter"
           }
          ],
          "scatter3d": [
           {
            "line": {
             "colorbar": {
              "outlinewidth": 0,
              "ticks": ""
             }
            },
            "marker": {
             "colorbar": {
              "outlinewidth": 0,
              "ticks": ""
             }
            },
            "type": "scatter3d"
           }
          ],
          "scattercarpet": [
           {
            "marker": {
             "colorbar": {
              "outlinewidth": 0,
              "ticks": ""
             }
            },
            "type": "scattercarpet"
           }
          ],
          "scattergeo": [
           {
            "marker": {
             "colorbar": {
              "outlinewidth": 0,
              "ticks": ""
             }
            },
            "type": "scattergeo"
           }
          ],
          "scattergl": [
           {
            "marker": {
             "colorbar": {
              "outlinewidth": 0,
              "ticks": ""
             }
            },
            "type": "scattergl"
           }
          ],
          "scattermapbox": [
           {
            "marker": {
             "colorbar": {
              "outlinewidth": 0,
              "ticks": ""
             }
            },
            "type": "scattermapbox"
           }
          ],
          "scatterpolar": [
           {
            "marker": {
             "colorbar": {
              "outlinewidth": 0,
              "ticks": ""
             }
            },
            "type": "scatterpolar"
           }
          ],
          "scatterpolargl": [
           {
            "marker": {
             "colorbar": {
              "outlinewidth": 0,
              "ticks": ""
             }
            },
            "type": "scatterpolargl"
           }
          ],
          "scatterternary": [
           {
            "marker": {
             "colorbar": {
              "outlinewidth": 0,
              "ticks": ""
             }
            },
            "type": "scatterternary"
           }
          ],
          "surface": [
           {
            "colorbar": {
             "outlinewidth": 0,
             "ticks": ""
            },
            "colorscale": [
             [
              0,
              "#0d0887"
             ],
             [
              0.1111111111111111,
              "#46039f"
             ],
             [
              0.2222222222222222,
              "#7201a8"
             ],
             [
              0.3333333333333333,
              "#9c179e"
             ],
             [
              0.4444444444444444,
              "#bd3786"
             ],
             [
              0.5555555555555556,
              "#d8576b"
             ],
             [
              0.6666666666666666,
              "#ed7953"
             ],
             [
              0.7777777777777778,
              "#fb9f3a"
             ],
             [
              0.8888888888888888,
              "#fdca26"
             ],
             [
              1,
              "#f0f921"
             ]
            ],
            "type": "surface"
           }
          ],
          "table": [
           {
            "cells": {
             "fill": {
              "color": "#EBF0F8"
             },
             "line": {
              "color": "white"
             }
            },
            "header": {
             "fill": {
              "color": "#C8D4E3"
             },
             "line": {
              "color": "white"
             }
            },
            "type": "table"
           }
          ]
         },
         "layout": {
          "annotationdefaults": {
           "arrowcolor": "#2a3f5f",
           "arrowhead": 0,
           "arrowwidth": 1
          },
          "autotypenumbers": "strict",
          "coloraxis": {
           "colorbar": {
            "outlinewidth": 0,
            "ticks": ""
           }
          },
          "colorscale": {
           "diverging": [
            [
             0,
             "#8e0152"
            ],
            [
             0.1,
             "#c51b7d"
            ],
            [
             0.2,
             "#de77ae"
            ],
            [
             0.3,
             "#f1b6da"
            ],
            [
             0.4,
             "#fde0ef"
            ],
            [
             0.5,
             "#f7f7f7"
            ],
            [
             0.6,
             "#e6f5d0"
            ],
            [
             0.7,
             "#b8e186"
            ],
            [
             0.8,
             "#7fbc41"
            ],
            [
             0.9,
             "#4d9221"
            ],
            [
             1,
             "#276419"
            ]
           ],
           "sequential": [
            [
             0,
             "#0d0887"
            ],
            [
             0.1111111111111111,
             "#46039f"
            ],
            [
             0.2222222222222222,
             "#7201a8"
            ],
            [
             0.3333333333333333,
             "#9c179e"
            ],
            [
             0.4444444444444444,
             "#bd3786"
            ],
            [
             0.5555555555555556,
             "#d8576b"
            ],
            [
             0.6666666666666666,
             "#ed7953"
            ],
            [
             0.7777777777777778,
             "#fb9f3a"
            ],
            [
             0.8888888888888888,
             "#fdca26"
            ],
            [
             1,
             "#f0f921"
            ]
           ],
           "sequentialminus": [
            [
             0,
             "#0d0887"
            ],
            [
             0.1111111111111111,
             "#46039f"
            ],
            [
             0.2222222222222222,
             "#7201a8"
            ],
            [
             0.3333333333333333,
             "#9c179e"
            ],
            [
             0.4444444444444444,
             "#bd3786"
            ],
            [
             0.5555555555555556,
             "#d8576b"
            ],
            [
             0.6666666666666666,
             "#ed7953"
            ],
            [
             0.7777777777777778,
             "#fb9f3a"
            ],
            [
             0.8888888888888888,
             "#fdca26"
            ],
            [
             1,
             "#f0f921"
            ]
           ]
          },
          "colorway": [
           "#636efa",
           "#EF553B",
           "#00cc96",
           "#ab63fa",
           "#FFA15A",
           "#19d3f3",
           "#FF6692",
           "#B6E880",
           "#FF97FF",
           "#FECB52"
          ],
          "font": {
           "color": "#2a3f5f"
          },
          "geo": {
           "bgcolor": "white",
           "lakecolor": "white",
           "landcolor": "#E5ECF6",
           "showlakes": true,
           "showland": true,
           "subunitcolor": "white"
          },
          "hoverlabel": {
           "align": "left"
          },
          "hovermode": "closest",
          "mapbox": {
           "style": "light"
          },
          "paper_bgcolor": "white",
          "plot_bgcolor": "#E5ECF6",
          "polar": {
           "angularaxis": {
            "gridcolor": "white",
            "linecolor": "white",
            "ticks": ""
           },
           "bgcolor": "#E5ECF6",
           "radialaxis": {
            "gridcolor": "white",
            "linecolor": "white",
            "ticks": ""
           }
          },
          "scene": {
           "xaxis": {
            "backgroundcolor": "#E5ECF6",
            "gridcolor": "white",
            "gridwidth": 2,
            "linecolor": "white",
            "showbackground": true,
            "ticks": "",
            "zerolinecolor": "white"
           },
           "yaxis": {
            "backgroundcolor": "#E5ECF6",
            "gridcolor": "white",
            "gridwidth": 2,
            "linecolor": "white",
            "showbackground": true,
            "ticks": "",
            "zerolinecolor": "white"
           },
           "zaxis": {
            "backgroundcolor": "#E5ECF6",
            "gridcolor": "white",
            "gridwidth": 2,
            "linecolor": "white",
            "showbackground": true,
            "ticks": "",
            "zerolinecolor": "white"
           }
          },
          "shapedefaults": {
           "line": {
            "color": "#2a3f5f"
           }
          },
          "ternary": {
           "aaxis": {
            "gridcolor": "white",
            "linecolor": "white",
            "ticks": ""
           },
           "baxis": {
            "gridcolor": "white",
            "linecolor": "white",
            "ticks": ""
           },
           "bgcolor": "#E5ECF6",
           "caxis": {
            "gridcolor": "white",
            "linecolor": "white",
            "ticks": ""
           }
          },
          "title": {
           "x": 0.05
          },
          "xaxis": {
           "automargin": true,
           "gridcolor": "white",
           "linecolor": "white",
           "ticks": "",
           "title": {
            "standoff": 15
           },
           "zerolinecolor": "white",
           "zerolinewidth": 2
          },
          "yaxis": {
           "automargin": true,
           "gridcolor": "white",
           "linecolor": "white",
           "ticks": "",
           "title": {
            "standoff": 15
           },
           "zerolinecolor": "white",
           "zerolinewidth": 2
          }
         }
        },
        "title": {
         "text": "Right of root node <br>X<=8.28, MSE=335.16, <br>samples=16, value=98.93",
         "x": 0.5,
         "xanchor": "center",
         "y": 0.9,
         "yanchor": "top"
        },
        "width": 300,
        "xaxis": {
         "dtick": 1,
         "linecolor": "black",
         "showline": true,
         "tickmode": "linear",
         "title": {
          "text": "X"
         }
        },
        "yaxis": {
         "linecolor": "black",
         "showline": true,
         "title": {
          "text": "y"
         }
        }
       }
      }
     },
     "metadata": {},
     "output_type": "display_data"
    }
   ],
   "source": [
    "fig = go.Figure()\n",
    "\n",
    "fig.add_trace(\n",
    "go.Scatter(x=df[\"X\"], y=df[\"y\"], mode=\"markers\",marker=dict(opacity=0.7, size=6, color=\"red\",\n",
    "        line=dict(color='black', width=1)))\n",
    ")\n",
    "\n",
    "fig.add_vline(x=best_params[\"split_value\"], line_width=3, line_color=\"black\")\n",
    "\n",
    "\n",
    "fig.add_shape(type=\"line\",\n",
    "x0=best_params[\"split_value\"], y0=best_params[\"right_yhat\"],\n",
    "x1=11, y1=best_params[\"right_yhat\"],  \n",
    "line=dict(color=\"gray\", width=3))\n",
    "\n",
    "# plot left branch split\n",
    "fig.add_shape(type=\"line\",\n",
    "x0=6.8, y0=best_params[\"left_yhat\"],\n",
    "x1=best_params[\"split_value\"], y1=best_params[\"left_yhat\"],  \n",
    "line=dict(color=\"gray\", width=3))\n",
    "\n",
    "# fig.update_layout(title=f\"X={np.round(best_params[\"split_value\"],2)}, MSE={np.round(best_params[\"mse\"],2)},samples={len(df)}, value={np.round(df[\"y\"].mean(),2)}\")\n",
    "fig.update_layout(\n",
    "    title={\n",
    "        'text': f\"Right of root node <br>X<={np.round(best_params[\"split_value\"],2)}, MSE={np.round(best_params[\"curr_mse\"],2)}, <br>samples={len(df)}, value={np.round(df[\"y\"].mean(),2)}\",\n",
    "        'y':0.9,\n",
    "        'x':0.5,\n",
    "        'xanchor': 'center',\n",
    "        'yanchor': 'top'},\n",
    "    xaxis=dict(\n",
    "        title=\"X\",\n",
    "        showline=True,  \n",
    "        tickmode='linear',  \n",
    "        dtick=1,  \n",
    "        linecolor='black',  \n",
    "    ),\n",
    "    yaxis=dict(\n",
    "        title=\"y\",\n",
    "        showline=True,  \n",
    "        linecolor='black',  \n",
    "    ),\n",
    "    plot_bgcolor='white',  \n",
    "    width=300,\n",
    "    height=500\n",
    "    )\n",
    "\n",
    "fig.show()"
   ]
  },
  {
   "cell_type": "markdown",
   "metadata": {},
   "source": [
    "**The above gets repeated on further partitions.**\n",
    "\n",
    "## Generalized code using Recursion:"
   ]
  },
  {
   "cell_type": "markdown",
   "metadata": {},
   "source": [
    "### Helper functions:\n",
    "- **mean_squared_error(y_true, y_pred)**: To compute the mean squared error. We have already defined it.\n",
    "- **get_best_params(df)**: To get the best split (feature, value, current mse, current prediction value) at the given node."
   ]
  },
  {
   "cell_type": "code",
   "execution_count": 49,
   "metadata": {},
   "outputs": [],
   "source": [
    "\n",
    "def get_best_params(df):\n",
    "    for feature in features:\n",
    "    # initialize best_params dict\n",
    "        best_params = {\"feature\": None, # best feature\n",
    "                 \"split_value\": None, # best split value\n",
    "                 \"weighted_mse\": np.inf, # weighted mse of two branches\n",
    "                 \"curr_mse\": None, # mse at current node\n",
    "                 \"right_yhat\": None, # prediction at right branch\n",
    "                 \"left_yhat\": None # prediction at left branch\n",
    "                 }\n",
    "        # sort the df by current feature\n",
    "        df = df.sort_values(by=feature)\n",
    "\n",
    "        # iterate over all rows of sorted df\n",
    "        for i in range(1, len(df)):\n",
    "            # compute average of two consecutive rows\n",
    "            split_val = (df.iloc[i][feature] + df.iloc[i-1][feature]) / 2\n",
    "            split_val = np.round(split_val, 3)\n",
    "\n",
    "            # split the df into two partitions\n",
    "            left_branch = df[df[feature]<=split_val]\n",
    "            right_branch = df[df[feature]>split_val]\n",
    "\n",
    "            # compute the MSE of both partitions:\n",
    "\n",
    "            left_yhat = np.mean(left_branch[\"y\"]) # prediction will be average of target\n",
    "            left_yhat = np.round(left_yhat, 3)\n",
    "            left_mse = mean_squared_error(left_branch[\"y\"], left_yhat) # mse of left\n",
    "            left_mse = np.round(left_mse, 3)\n",
    "\n",
    "            right_yhat = np.mean(right_branch[\"y\"]) # prediction will be average of target\n",
    "            right_yhat = np.round(right_yhat, 3)\n",
    "            right_mse = mean_squared_error(right_branch[\"y\"], right_yhat) # mse of right\n",
    "            right_mse = np.round(right_mse, 3)\n",
    "\n",
    "            # compute weighted MSE\n",
    "            weighted_mse = ((len(left_branch) * left_mse) + (len(right_branch) * right_mse))/len(df)\n",
    "            weighted_mse = np.round(weighted_mse, 3)\n",
    "            \n",
    "\n",
    "            # update best_params if weighted_mse is less than previously best_mse\n",
    "            if weighted_mse <= best_params[\"weighted_mse\"]:\n",
    "                best_params[\"left_yhat\"] = left_yhat\n",
    "                best_params[\"right_yhat\"] = right_yhat\n",
    "                best_params[\"weighted_mse\"] = weighted_mse\n",
    "                best_params[\"split_value\"] = split_val\n",
    "                best_params[\"feature\"] = feature\n",
    "                best_params[\"curr_mse\"] = curr_mse\n",
    "\n",
    "    return best_params"
   ]
  },
  {
   "cell_type": "markdown",
   "metadata": {},
   "source": [
    "### Main function"
   ]
  },
  {
   "cell_type": "code",
   "execution_count": 113,
   "metadata": {},
   "outputs": [],
   "source": [
    "def build_tree(df, max_depth=3, curr_depth=0):\n",
    "    \"\"\"Function to build the regression tree recursively\"\"\"\n",
    "    \n",
    "    if curr_depth>=max_depth:\n",
    "        prediction = np.round(np.mean(df[\"y\"]), 3)\n",
    "        print((\"--\" * curr_depth) + f\"Predict: {prediction}\")\n",
    "        return\n",
    "        \n",
    "    best_params = get_best_params(df)\n",
    "\n",
    "    if best_params[\"feature\"] is None or best_params[\"split_value\"] is None:\n",
    "        prediction = np.round(np.mean(df[\"y\"]), 2)\n",
    "        print((\"--\" * curr_depth) + f\"Predict: {prediction}\")\n",
    "        return\n",
    "    \n",
    "    feature = best_params[\"feature\"]\n",
    "    split_val = best_params[\"split_value\"]\n",
    "\n",
    "    # Print the current question (decision rule)\n",
    "    question = f\"{feature} <= {split_val}\"\n",
    "    mse = mean_squared_error(df[\"y\"], df[\"y\"].mean())\n",
    "    mse = np.round(mse, 3)\n",
    "    samples = len(df)\n",
    "    print((\"--\" * (curr_depth*2)) + \">\" + f\"{question}, mse: {mse}, samples: {samples}, value: {np.round(df[\"y\"].mean(),3)}\")\n",
    "\n",
    "    left_branch = df[df[feature]<=split_val]\n",
    "    right_branch = df[df[feature]>split_val]\n",
    "\n",
    "    # recursive calls for left and right subtrees\n",
    "    if not left_branch.empty:\n",
    "        print((\"--\" * curr_depth) + f\"Yes ->\")\n",
    "        build_tree(left_branch, curr_depth=curr_depth+1)\n",
    "\n",
    "    if not right_branch.empty:\n",
    "        print((\"--\" * curr_depth) + f\"No ->\")\n",
    "        build_tree(right_branch, curr_depth=curr_depth+1)\n"
   ]
  },
  {
   "cell_type": "code",
   "execution_count": 114,
   "metadata": {},
   "outputs": [
    {
     "name": "stdout",
     "output_type": "stream",
     "text": [
      ">X <= 6.869, mse: 1381.82, samples: 100, value: 37.605\n",
      "Yes ->\n",
      "---->X <= -6.667, mse: 728.428, samples: 84, value: 25.924\n",
      "--Yes ->\n",
      "-------->X <= -9.091, mse: 338.278, samples: 17, value: 64.638\n",
      "----Yes ->\n",
      "------Predict: 90.475\n",
      "----No ->\n",
      "------Predict: 53.872\n",
      "--No ->\n",
      "-------->X <= 3.838, mse: 350.656, samples: 67, value: 16.101\n",
      "----Yes ->\n",
      "------Predict: 8.787\n",
      "----No ->\n",
      "------Predict: 41.457\n",
      "No ->\n",
      "---->X <= 8.283, mse: 335.158, samples: 16, value: 98.929\n",
      "--Yes ->\n",
      "-------->X <= 7.879, mse: 59.444, samples: 7, value: 81.369\n",
      "----Yes ->\n",
      "------Predict: 78.826\n",
      "----No ->\n",
      "------Predict: 87.727\n",
      "--No ->\n",
      "-------->X <= 9.495, mse: 123.237, samples: 9, value: 112.587\n",
      "----Yes ->\n",
      "------Predict: 105.711\n",
      "----No ->\n",
      "------Predict: 126.339\n"
     ]
    }
   ],
   "source": [
    "build_tree(data)"
   ]
  },
  {
   "cell_type": "markdown",
   "metadata": {},
   "source": [
    "### Draw the decision boundaries and predictions"
   ]
  },
  {
   "cell_type": "code",
   "execution_count": 115,
   "metadata": {},
   "outputs": [
    {
     "data": {
      "application/vnd.plotly.v1+json": {
       "config": {
        "plotlyServerURL": "https://plot.ly"
       },
       "data": [
        {
         "marker": {
          "color": "red",
          "line": {
           "color": "black",
           "width": 1
          },
          "opacity": 0.7,
          "size": 6
         },
         "mode": "markers",
         "name": "Actual Values",
         "type": "scatter",
         "x": [
          -10,
          -9.798,
          -9.596,
          -9.394,
          -9.192,
          -8.99,
          -8.788,
          -8.586,
          -8.384,
          -8.182,
          -7.98,
          -7.778,
          -7.576,
          -7.374,
          -7.172,
          -6.97,
          -6.768,
          -6.566,
          -6.364,
          -6.162,
          -5.96,
          -5.758,
          -5.556,
          -5.354,
          -5.152,
          -4.949,
          -4.747,
          -4.545,
          -4.343,
          -4.141,
          -3.939,
          -3.737,
          -3.535,
          -3.333,
          -3.131,
          -2.929,
          -2.727,
          -2.525,
          -2.323,
          -2.121,
          -1.919,
          -1.717,
          -1.515,
          -1.313,
          -1.111,
          -0.909,
          -0.707,
          -0.505,
          -0.303,
          -0.101,
          0.101,
          0.303,
          0.505,
          0.707,
          0.909,
          1.111,
          1.313,
          1.515,
          1.717,
          1.919,
          2.121,
          2.323,
          2.525,
          2.727,
          2.929,
          3.131,
          3.333,
          3.535,
          3.737,
          3.939,
          4.141,
          4.343,
          4.545,
          4.747,
          4.949,
          5.152,
          5.354,
          5.556,
          5.758,
          5.96,
          6.162,
          6.364,
          6.566,
          6.768,
          6.97,
          7.172,
          7.374,
          7.576,
          7.778,
          7.98,
          8.182,
          8.384,
          8.586,
          8.788,
          8.99,
          9.192,
          9.394,
          9.596,
          9.798,
          10
         ],
         "y": [
          100.641,
          83.406,
          85.678,
          94.867,
          87.783,
          56.066,
          72.152,
          58.032,
          55.489,
          57.684,
          52.158,
          62.481,
          52.851,
          43.841,
          44.529,
          40.974,
          50.207,
          30.925,
          33.899,
          20.101,
          1.068,
          31.171,
          31.397,
          13.532,
          41.933,
          3.055,
          16.501,
          12.698,
          28.506,
          26.562,
          12.19,
          13.275,
          -0.45,
          -12.364,
          3.063,
          7.286,
          17.286,
          16.35,
          -0.122,
          0.234,
          -7.641,
          -11.686,
          -14.797,
          21.606,
          -3.084,
          -2.372,
          -10.442,
          10.02,
          -13.653,
          0.681,
          -5.742,
          7.567,
          -0.843,
          -6.892,
          5.363,
          10.74,
          8.016,
          11.351,
          3.04,
          6.894,
          5.017,
          9.448,
          6.296,
          -1.37,
          19.214,
          15.05,
          4.476,
          27.197,
          15.37,
          26.917,
          35.725,
          31.842,
          44.146,
          22.685,
          41.42,
          32.993,
          33.659,
          39.187,
          44.549,
          50.998,
          41.637,
          65.231,
          63.896,
          46.974,
          80.399,
          87.736,
          83.907,
          73.744,
          68.342,
          93.181,
          82.274,
          102.281,
          95.971,
          107.569,
          105.362,
          112.941,
          110.139,
          132.133,
          119.865,
          127.02
         ]
        },
        {
         "line": {
          "color": "gray"
         },
         "mode": "lines",
         "name": "Predicted Values",
         "type": "scatter",
         "x": [
          -10.09,
          -10.06938938938939,
          -10.048778778778779,
          -10.028168168168168,
          -10.007557557557558,
          -9.986946946946947,
          -9.966336336336337,
          -9.945725725725726,
          -9.925115115115116,
          -9.904504504504505,
          -9.883893893893895,
          -9.863283283283284,
          -9.842672672672672,
          -9.822062062062061,
          -9.80145145145145,
          -9.78084084084084,
          -9.76023023023023,
          -9.739619619619619,
          -9.719009009009008,
          -9.698398398398398,
          -9.677787787787787,
          -9.657177177177177,
          -9.636566566566566,
          -9.615955955955956,
          -9.595345345345345,
          -9.574734734734735,
          -9.554124124124124,
          -9.533513513513514,
          -9.512902902902903,
          -9.492292292292293,
          -9.471681681681682,
          -9.451071071071071,
          -9.430460460460461,
          -9.40984984984985,
          -9.38923923923924,
          -9.368628628628628,
          -9.348018018018017,
          -9.327407407407406,
          -9.306796796796796,
          -9.286186186186185,
          -9.265575575575575,
          -9.244964964964964,
          -9.224354354354354,
          -9.203743743743743,
          -9.183133133133133,
          -9.162522522522522,
          -9.141911911911912,
          -9.121301301301301,
          -9.10069069069069,
          -9.08008008008008,
          -9.05946946946947,
          -9.038858858858859,
          -9.018248248248248,
          -8.997637637637638,
          -8.977027027027027,
          -8.956416416416417,
          -8.935805805805806,
          -8.915195195195196,
          -8.894584584584585,
          -8.873973973973975,
          -8.853363363363362,
          -8.832752752752752,
          -8.812142142142141,
          -8.79153153153153,
          -8.77092092092092,
          -8.75031031031031,
          -8.7296996996997,
          -8.709089089089089,
          -8.688478478478478,
          -8.667867867867868,
          -8.647257257257257,
          -8.626646646646646,
          -8.606036036036036,
          -8.585425425425425,
          -8.564814814814815,
          -8.544204204204204,
          -8.523593593593594,
          -8.502982982982983,
          -8.482372372372373,
          -8.461761761761762,
          -8.44115115115115,
          -8.42054054054054,
          -8.399929929929929,
          -8.379319319319318,
          -8.358708708708708,
          -8.338098098098097,
          -8.317487487487487,
          -8.296876876876876,
          -8.276266266266266,
          -8.255655655655655,
          -8.235045045045045,
          -8.214434434434434,
          -8.193823823823823,
          -8.173213213213213,
          -8.152602602602602,
          -8.131991991991992,
          -8.111381381381381,
          -8.09077077077077,
          -8.07016016016016,
          -8.04954954954955,
          -8.02893893893894,
          -8.008328328328329,
          -7.987717717717717,
          -7.967107107107107,
          -7.946496496496496,
          -7.925885885885886,
          -7.905275275275275,
          -7.8846646646646645,
          -7.864054054054053,
          -7.843443443443443,
          -7.822832832832832,
          -7.8022222222222215,
          -7.781611611611611,
          -7.761001001001,
          -7.74039039039039,
          -7.719779779779779,
          -7.699169169169169,
          -7.678558558558558,
          -7.657947947947948,
          -7.637337337337337,
          -7.616726726726727,
          -7.596116116116116,
          -7.575505505505506,
          -7.554894894894895,
          -7.5342842842842845,
          -7.513673673673674,
          -7.493063063063063,
          -7.472452452452452,
          -7.4518418418418415,
          -7.431231231231231,
          -7.41062062062062,
          -7.390010010010009,
          -7.3693993993993985,
          -7.348788788788788,
          -7.328178178178177,
          -7.307567567567567,
          -7.286956956956956,
          -7.266346346346346,
          -7.245735735735735,
          -7.225125125125125,
          -7.204514514514514,
          -7.183903903903904,
          -7.163293293293293,
          -7.142682682682683,
          -7.122072072072072,
          -7.1014614614614615,
          -7.080850850850851,
          -7.06024024024024,
          -7.03962962962963,
          -7.0190190190190185,
          -6.998408408408408,
          -6.977797797797797,
          -6.957187187187187,
          -6.936576576576576,
          -6.915965965965966,
          -6.895355355355354,
          -6.874744744744744,
          -6.854134134134133,
          -6.833523523523523,
          -6.812912912912912,
          -6.792302302302302,
          -6.771691691691691,
          -6.751081081081081,
          -6.73047047047047,
          -6.7098598598598596,
          -6.689249249249249,
          -6.6686386386386385,
          -6.648028028028028,
          -6.627417417417417,
          -6.606806806806807,
          -6.586196196196196,
          -6.565585585585586,
          -6.544974974974974,
          -6.524364364364364,
          -6.503753753753753,
          -6.483143143143143,
          -6.462532532532532,
          -6.441921921921922,
          -6.42131131131131,
          -6.4007007007007,
          -6.380090090090089,
          -6.359479479479479,
          -6.338868868868868,
          -6.318258258258258,
          -6.297647647647647,
          -6.2770370370370365,
          -6.256426426426426,
          -6.2358158158158155,
          -6.215205205205205,
          -6.194594594594594,
          -6.173983983983984,
          -6.153373373373373,
          -6.132762762762763,
          -6.112152152152152,
          -6.091541541541542,
          -6.07093093093093,
          -6.05032032032032,
          -6.029709709709709,
          -6.009099099099099,
          -5.988488488488488,
          -5.967877877877878,
          -5.947267267267267,
          -5.9266566566566565,
          -5.906046046046046,
          -5.885435435435435,
          -5.864824824824824,
          -5.8442142142142135,
          -5.823603603603603,
          -5.802992992992992,
          -5.782382382382382,
          -5.761771771771771,
          -5.741161161161161,
          -5.72055055055055,
          -5.69993993993994,
          -5.679329329329329,
          -5.658718718718719,
          -5.638108108108107,
          -5.617497497497497,
          -5.596886886886886,
          -5.576276276276276,
          -5.555665665665665,
          -5.535055055055055,
          -5.514444444444444,
          -5.4938338338338335,
          -5.473223223223223,
          -5.452612612612612,
          -5.432002002002002,
          -5.4113913913913905,
          -5.39078078078078,
          -5.370170170170169,
          -5.349559559559559,
          -5.328948948948948,
          -5.308338338338338,
          -5.287727727727727,
          -5.267117117117117,
          -5.246506506506506,
          -5.225895895895896,
          -5.205285285285285,
          -5.184674674674675,
          -5.164064064064063,
          -5.143453453453453,
          -5.122842842842842,
          -5.1022322322322315,
          -5.081621621621621,
          -5.0610110110110105,
          -5.0404004004004,
          -5.019789789789789,
          -4.999179179179179,
          -4.978568568568568,
          -4.957957957957958,
          -4.937347347347347,
          -4.916736736736736,
          -4.896126126126125,
          -4.875515515515515,
          -4.854904904904904,
          -4.834294294294294,
          -4.813683683683683,
          -4.793073073073073,
          -4.772462462462462,
          -4.7518518518518515,
          -4.731241241241241,
          -4.7106306306306305,
          -4.690020020020019,
          -4.6694094094094085,
          -4.648798798798798,
          -4.6281881881881874,
          -4.607577577577577,
          -4.586966966966966,
          -4.566356356356356,
          -4.545745745745745,
          -4.525135135135135,
          -4.504524524524524,
          -4.483913913913914,
          -4.463303303303303,
          -4.442692692692692,
          -4.422082082082081,
          -4.401471471471471,
          -4.38086086086086,
          -4.36025025025025,
          -4.339639639639639,
          -4.3190290290290285,
          -4.298418418418418,
          -4.2778078078078074,
          -4.257197197197197,
          -4.236586586586586,
          -4.215975975975976,
          -4.195365365365364,
          -4.174754754754754,
          -4.154144144144143,
          -4.133533533533533,
          -4.112922922922922,
          -4.092312312312312,
          -4.071701701701701,
          -4.051091091091091,
          -4.03048048048048,
          -4.00986986986987,
          -3.989259259259259,
          -3.9686486486486476,
          -3.948038038038037,
          -3.9274274274274266,
          -3.906816816816816,
          -3.8862062062062055,
          -3.865595595595595,
          -3.8449849849849844,
          -3.824374374374374,
          -3.8037637637637634,
          -3.783153153153153,
          -3.7625425425425423,
          -3.7419319319319317,
          -3.7213213213213203,
          -3.70071071071071,
          -3.6801001001000992,
          -3.6594894894894887,
          -3.638878878878878,
          -3.6182682682682676,
          -3.597657657657657,
          -3.5770470470470466,
          -3.556436436436436,
          -3.5358258258258255,
          -3.515215215215215,
          -3.4946046046046035,
          -3.473993993993993,
          -3.4533833833833825,
          -3.432772772772772,
          -3.4121621621621614,
          -3.391551551551551,
          -3.3709409409409403,
          -3.35033033033033,
          -3.3297197197197193,
          -3.3091091091091087,
          -3.288498498498498,
          -3.2678878878878876,
          -3.247277277277276,
          -3.2266666666666657,
          -3.206056056056055,
          -3.1854454454454446,
          -3.164834834834834,
          -3.1442242242242235,
          -3.123613613613613,
          -3.1030030030030025,
          -3.082392392392392,
          -3.0617817817817814,
          -3.041171171171171,
          -3.0205605605605603,
          -2.999949949949949,
          -2.9793393393393384,
          -2.958728728728728,
          -2.9381181181181173,
          -2.9175075075075068,
          -2.8968968968968962,
          -2.8762862862862857,
          -2.855675675675675,
          -2.8350650650650646,
          -2.814454454454454,
          -2.7938438438438435,
          -2.773233233233232,
          -2.7526226226226216,
          -2.732012012012011,
          -2.7114014014014005,
          -2.69079079079079,
          -2.6701801801801794,
          -2.649569569569569,
          -2.6289589589589584,
          -2.608348348348348,
          -2.5877377377377373,
          -2.5671271271271268,
          -2.5465165165165162,
          -2.525905905905905,
          -2.5052952952952943,
          -2.4846846846846837,
          -2.464074074074073,
          -2.4434634634634627,
          -2.422852852852852,
          -2.4022422422422416,
          -2.381631631631631,
          -2.3610210210210205,
          -2.34041041041041,
          -2.3197997997997994,
          -2.299189189189189,
          -2.2785785785785775,
          -2.257967967967967,
          -2.2373573573573564,
          -2.216746746746746,
          -2.1961361361361353,
          -2.175525525525525,
          -2.1549149149149143,
          -2.1343043043043037,
          -2.113693693693693,
          -2.0930830830830827,
          -2.0724724724724712,
          -2.0518618618618607,
          -2.03125125125125,
          -2.0106406406406396,
          -1.990030030030029,
          -1.9694194194194186,
          -1.948808808808808,
          -1.9281981981981975,
          -1.907587587587587,
          -1.8869769769769764,
          -1.8663663663663659,
          -1.8457557557557553,
          -1.8251451451451448,
          -1.8045345345345343,
          -1.7839239239239237,
          -1.7633133133133132,
          -1.7427027027027027,
          -1.7220920920920921,
          -1.7014814814814816,
          -1.6808708708708693,
          -1.6602602602602587,
          -1.6396496496496482,
          -1.6190390390390377,
          -1.5984284284284271,
          -1.5778178178178166,
          -1.557207207207206,
          -1.5365965965965955,
          -1.515985985985985,
          -1.4953753753753745,
          -1.474764764764764,
          -1.4541541541541534,
          -1.4335435435435429,
          -1.4129329329329323,
          -1.3923223223223218,
          -1.3717117117117112,
          -1.3511011011011007,
          -1.3304904904904902,
          -1.3098798798798796,
          -1.289269269269269,
          -1.2686586586586586,
          -1.248048048048048,
          -1.2274374374374375,
          -1.2068268268268252,
          -1.1862162162162146,
          -1.1656056056056041,
          -1.1449949949949936,
          -1.124384384384383,
          -1.1037737737737725,
          -1.083163163163162,
          -1.0625525525525514,
          -1.041941941941941,
          -1.0213313313313304,
          -1.0007207207207198,
          -0.9801101101101093,
          -0.9594994994994988,
          -0.9388888888888882,
          -0.9182782782782777,
          -0.8976676676676671,
          -0.8770570570570566,
          -0.8564464464464461,
          -0.8358358358358355,
          -0.815225225225225,
          -0.7946146146146145,
          -0.7740040040040039,
          -0.7533933933933934,
          -0.7327827827827811,
          -0.7121721721721705,
          -0.69156156156156,
          -0.6709509509509495,
          -0.6503403403403389,
          -0.6297297297297284,
          -0.6091191191191179,
          -0.5885085085085073,
          -0.5678978978978968,
          -0.5472872872872863,
          -0.5266766766766757,
          -0.5060660660660652,
          -0.48545545545545465,
          -0.4648448448448441,
          -0.4442342342342336,
          -0.42362362362362305,
          -0.4030130130130125,
          -0.382402402402402,
          -0.36179179179179144,
          -0.3411811811811809,
          -0.32057057057057037,
          -0.29995995995995983,
          -0.2793493493493493,
          -0.25873873873873876,
          -0.23812812812812645,
          -0.2175175175175159,
          -0.19690690690690538,
          -0.17629629629629484,
          -0.1556856856856843,
          -0.13507507507507377,
          -0.11446446446446323,
          -0.0938538538538527,
          -0.07324324324324216,
          -0.052632632632631626,
          -0.03202202202202109,
          -0.011411411411410555,
          0.009199199199199981,
          0.029809809809810517,
          0.05042042042042105,
          0.07103103103103159,
          0.09164164164164212,
          0.11225225225225266,
          0.1328628628628632,
          0.15347347347347373,
          0.17408408408408427,
          0.1946946946946948,
          0.21530530530530534,
          0.23591591591591765,
          0.2565265265265282,
          0.2771371371371387,
          0.29774774774774926,
          0.3183583583583598,
          0.33896896896897033,
          0.35957957957958087,
          0.3801901901901914,
          0.40080080080080194,
          0.4214114114114125,
          0.442022022022023,
          0.46263263263263354,
          0.4832432432432441,
          0.5038538538538546,
          0.5244644644644652,
          0.5450750750750757,
          0.5656856856856862,
          0.5862962962962968,
          0.6069069069069073,
          0.6275175175175178,
          0.6481281281281284,
          0.6687387387387389,
          0.6893493493493494,
          0.7099599599599618,
          0.7305705705705723,
          0.7511811811811828,
          0.7717917917917934,
          0.7924024024024039,
          0.8130130130130144,
          0.833623623623625,
          0.8542342342342355,
          0.874844844844846,
          0.8954554554554566,
          0.9160660660660671,
          0.9366766766766776,
          0.9572872872872882,
          0.9778978978978987,
          0.9985085085085093,
          1.0191191191191198,
          1.0397297297297303,
          1.0603403403403409,
          1.0809509509509514,
          1.101561561561562,
          1.1221721721721725,
          1.142782782782783,
          1.1633933933933935,
          1.1840040040040058,
          1.2046146146146164,
          1.225225225225227,
          1.2458358358358375,
          1.266446446446448,
          1.2870570570570585,
          1.307667667667669,
          1.3282782782782796,
          1.3488888888888901,
          1.3694994994995007,
          1.3901101101101112,
          1.4107207207207217,
          1.4313313313313323,
          1.4519419419419428,
          1.4725525525525534,
          1.4931631631631639,
          1.5137737737737744,
          1.534384384384385,
          1.5549949949949955,
          1.575605605605606,
          1.5962162162162166,
          1.616826826826827,
          1.6374374374374376,
          1.6580480480480482,
          1.6786586586586605,
          1.699269269269271,
          1.7198798798798816,
          1.740490490490492,
          1.7611011011011026,
          1.7817117117117132,
          1.8023223223223237,
          1.8229329329329342,
          1.8435435435435448,
          1.8641541541541553,
          1.8847647647647658,
          1.9053753753753764,
          1.925985985985987,
          1.9465965965965975,
          1.967207207207208,
          1.9878178178178185,
          2.008428428428429,
          2.0290390390390396,
          2.04964964964965,
          2.0702602602602607,
          2.090870870870871,
          2.1114814814814817,
          2.1320920920920923,
          2.1527027027027046,
          2.173313313313315,
          2.1939239239239257,
          2.214534534534536,
          2.2351451451451467,
          2.2557557557557573,
          2.276366366366368,
          2.2969769769769783,
          2.317587587587589,
          2.3381981981981994,
          2.35880880880881,
          2.3794194194194205,
          2.400030030030031,
          2.4206406406406415,
          2.441251251251252,
          2.4618618618618626,
          2.482472472472473,
          2.5030830830830837,
          2.5236936936936942,
          2.5443043043043048,
          2.5649149149149153,
          2.585525525525526,
          2.6061361361361364,
          2.6267467467467487,
          2.647357357357359,
          2.6679679679679698,
          2.6885785785785803,
          2.709189189189191,
          2.7297997997998014,
          2.750410410410412,
          2.7710210210210224,
          2.791631631631633,
          2.8122422422422435,
          2.832852852852854,
          2.8534634634634646,
          2.874074074074075,
          2.8946846846846856,
          2.915295295295296,
          2.9359059059059067,
          2.9565165165165173,
          2.977127127127128,
          2.9977377377377383,
          3.018348348348349,
          3.0389589589589594,
          3.05956956956957,
          3.0801801801801805,
          3.100790790790793,
          3.1214014014014033,
          3.142012012012014,
          3.1626226226226244,
          3.183233233233235,
          3.2038438438438455,
          3.224454454454456,
          3.2450650650650665,
          3.265675675675677,
          3.2862862862862876,
          3.306896896896898,
          3.3275075075075087,
          3.348118118118119,
          3.3687287287287297,
          3.3893393393393403,
          3.409949949949951,
          3.4305605605605614,
          3.451171171171172,
          3.4717817817817824,
          3.492392392392393,
          3.5130030030030035,
          3.533613613613614,
          3.5542242242242246,
          3.574834834834835,
          3.5954454454454474,
          3.616056056056058,
          3.6366666666666685,
          3.657277277277279,
          3.6778878878878896,
          3.6984984984985,
          3.7191091091091106,
          3.739719719719721,
          3.7603303303303317,
          3.7809409409409422,
          3.8015515515515528,
          3.8221621621621633,
          3.842772772772774,
          3.8633833833833844,
          3.883993993993995,
          3.9046046046046055,
          3.925215215215216,
          3.9458258258258265,
          3.966436436436437,
          3.9870470470470476,
          4.007657657657658,
          4.028268268268269,
          4.048878878878879,
          4.0694894894894915,
          4.090100100100102,
          4.110710710710713,
          4.131321321321323,
          4.151931931931934,
          4.172542542542544,
          4.193153153153155,
          4.213763763763765,
          4.234374374374376,
          4.254984984984986,
          4.275595595595597,
          4.296206206206207,
          4.316816816816818,
          4.3374274274274285,
          4.358038038038039,
          4.3786486486486496,
          4.39925925925926,
          4.419869869869871,
          4.440480480480481,
          4.461091091091092,
          4.481701701701702,
          4.502312312312313,
          4.522922922922923,
          4.543533533533536,
          4.564144144144146,
          4.584754754754757,
          4.605365365365367,
          4.625975975975978,
          4.646586586586588,
          4.667197197197199,
          4.687807807807809,
          4.70841841841842,
          4.72902902902903,
          4.749639639639641,
          4.7702502502502515,
          4.790860860860862,
          4.811471471471473,
          4.832082082082083,
          4.852692692692694,
          4.873303303303304,
          4.893913913913915,
          4.914524524524525,
          4.935135135135136,
          4.955745745745746,
          4.976356356356357,
          4.996966966966967,
          5.017577577577578,
          5.03818818818819,
          5.058798798798801,
          5.079409409409411,
          5.100020020020022,
          5.120630630630632,
          5.141241241241243,
          5.1618518518518535,
          5.182462462462464,
          5.2030730730730745,
          5.223683683683685,
          5.244294294294296,
          5.264904904904906,
          5.285515515515517,
          5.306126126126127,
          5.326736736736738,
          5.347347347347348,
          5.367957957957959,
          5.388568568568569,
          5.40917917917918,
          5.42978978978979,
          5.450400400400401,
          5.4710110110110115,
          5.491621621621622,
          5.512232232232234,
          5.532842842842845,
          5.553453453453455,
          5.574064064064066,
          5.5946746746746765,
          5.615285285285287,
          5.635895895895898,
          5.656506506506508,
          5.677117117117119,
          5.697727727727729,
          5.71833833833834,
          5.73894894894895,
          5.759559559559561,
          5.780170170170171,
          5.800780780780782,
          5.821391391391392,
          5.842002002002003,
          5.8626126126126135,
          5.883223223223224,
          5.9038338338338345,
          5.924444444444447,
          5.945055055055057,
          5.965665665665668,
          5.9862762762762785,
          6.006886886886889,
          6.0274974974974995,
          6.04810810810811,
          6.068718718718721,
          6.089329329329331,
          6.109939939939942,
          6.130550550550552,
          6.151161161161163,
          6.171771771771773,
          6.192382382382384,
          6.212992992992994,
          6.233603603603605,
          6.254214214214215,
          6.274824824824826,
          6.2954354354354365,
          6.316046046046047,
          6.336656656656658,
          6.357267267267268,
          6.377877877877879,
          6.398488488488489,
          6.4190990990991,
          6.43970970970971,
          6.460320320320321,
          6.480930930930931,
          6.501541541541542,
          6.522152152152152,
          6.542762762762763,
          6.5633733733733735,
          6.583983983983984,
          6.6045945945945945,
          6.625205205205205,
          6.645815815815816,
          6.666426426426426,
          6.687037037037037,
          6.707647647647651,
          6.728258258258261,
          6.748868868868872,
          6.769479479479482,
          6.790090090090093,
          6.810700700700703,
          6.831311311311314,
          6.8519219219219245,
          6.872532532532535,
          6.893143143143146,
          6.913753753753756,
          6.934364364364367,
          6.954974974974977,
          6.975585585585588,
          6.996196196196198,
          7.016806806806809,
          7.037417417417419,
          7.05802802802803,
          7.07863863863864,
          7.099249249249251,
          7.1198598598598615,
          7.140470470470472,
          7.1610810810810825,
          7.181691691691693,
          7.202302302302304,
          7.222912912912914,
          7.243523523523525,
          7.264134134134135,
          7.284744744744746,
          7.305355355355356,
          7.325965965965967,
          7.346576576576577,
          7.367187187187188,
          7.387797797797798,
          7.408408408408409,
          7.4290190190190195,
          7.44962962962963,
          7.470240240240241,
          7.490850850850851,
          7.511461461461462,
          7.532072072072072,
          7.552682682682683,
          7.573293293293293,
          7.593903903903904,
          7.614514514514514,
          7.635125125125125,
          7.655735735735735,
          7.6763463463463495,
          7.69695695695696,
          7.717567567567571,
          7.738178178178181,
          7.758788788788792,
          7.779399399399402,
          7.800010010010013,
          7.820620620620623,
          7.841231231231234,
          7.861841841841844,
          7.882452452452455,
          7.903063063063065,
          7.923673673673676,
          7.9442842842842865,
          7.964894894894897,
          7.9855055055055075,
          8.006116116116118,
          8.026726726726729,
          8.04733733733734,
          8.06794794794795,
          8.08855855855856,
          8.10916916916917,
          8.129779779779781,
          8.150390390390392,
          8.171001001001002,
          8.191611611611613,
          8.212222222222223,
          8.232832832832834,
          8.253443443443444,
          8.274054054054055,
          8.294664664664666,
          8.315275275275276,
          8.335885885885887,
          8.356496496496497,
          8.377107107107108,
          8.397717717717718,
          8.418328328328329,
          8.43893893893894,
          8.45954954954955,
          8.48016016016016,
          8.500770770770771,
          8.521381381381381,
          8.541991991991992,
          8.562602602602603,
          8.583213213213213,
          8.603823823823824,
          8.624434434434438,
          8.645045045045048,
          8.665655655655659,
          8.68626626626627,
          8.70687687687688,
          8.72748748748749,
          8.748098098098101,
          8.768708708708711,
          8.789319319319322,
          8.809929929929933,
          8.830540540540543,
          8.851151151151154,
          8.871761761761764,
          8.892372372372375,
          8.912982982982985,
          8.933593593593596,
          8.954204204204206,
          8.974814814814817,
          8.995425425425427,
          9.016036036036038,
          9.036646646646648,
          9.057257257257259,
          9.07786786786787,
          9.09847847847848,
          9.11908908908909,
          9.139699699699701,
          9.160310310310312,
          9.180920920920922,
          9.201531531531533,
          9.222142142142143,
          9.242752752752754,
          9.263363363363364,
          9.283973973973975,
          9.304584584584585,
          9.325195195195196,
          9.345805805805806,
          9.366416416416417,
          9.387027027027028,
          9.407637637637638,
          9.428248248248249,
          9.44885885885886,
          9.46946946946947,
          9.49008008008008,
          9.51069069069069,
          9.531301301301301,
          9.551911911911912,
          9.572522522522522,
          9.593133133133136,
          9.613743743743747,
          9.634354354354357,
          9.654964964964968,
          9.675575575575579,
          9.696186186186189,
          9.7167967967968,
          9.73740740740741,
          9.75801801801802,
          9.778628628628631,
          9.799239239239242,
          9.819849849849852,
          9.840460460460463,
          9.861071071071073,
          9.881681681681684,
          9.902292292292294,
          9.922902902902905,
          9.943513513513516,
          9.964124124124126,
          9.984734734734737,
          10.005345345345347,
          10.025955955955958,
          10.046566566566568,
          10.067177177177179,
          10.08778778778779,
          10.1083983983984,
          10.12900900900901,
          10.149619619619621,
          10.170230230230231,
          10.190840840840842,
          10.211451451451452,
          10.232062062062063,
          10.252672672672674,
          10.273283283283284,
          10.293893893893895,
          10.314504504504505,
          10.335115115115116,
          10.355725725725726,
          10.376336336336337,
          10.396946946946947,
          10.417557557557558,
          10.438168168168168,
          10.458778778778779,
          10.47938938938939,
          10.5
         ],
         "y": [
          90.48,
          90.48,
          90.48,
          90.48,
          90.48,
          90.48,
          90.48,
          90.48,
          90.48,
          90.48,
          90.48,
          90.48,
          90.48,
          90.48,
          90.48,
          90.48,
          90.48,
          90.48,
          90.48,
          90.48,
          90.48,
          90.48,
          90.48,
          90.48,
          90.48,
          90.48,
          90.48,
          90.48,
          90.48,
          90.48,
          90.48,
          90.48,
          90.48,
          90.48,
          90.48,
          90.48,
          90.48,
          90.48,
          90.48,
          90.48,
          90.48,
          90.48,
          90.48,
          90.48,
          90.48,
          90.48,
          90.48,
          90.48,
          90.48,
          53.87,
          53.87,
          53.87,
          53.87,
          53.87,
          53.87,
          53.87,
          53.87,
          53.87,
          53.87,
          53.87,
          53.87,
          53.87,
          53.87,
          53.87,
          53.87,
          53.87,
          53.87,
          53.87,
          53.87,
          53.87,
          53.87,
          53.87,
          53.87,
          53.87,
          53.87,
          53.87,
          53.87,
          53.87,
          53.87,
          53.87,
          53.87,
          53.87,
          53.87,
          53.87,
          53.87,
          53.87,
          53.87,
          53.87,
          53.87,
          53.87,
          53.87,
          53.87,
          53.87,
          53.87,
          53.87,
          53.87,
          53.87,
          53.87,
          53.87,
          53.87,
          53.87,
          53.87,
          53.87,
          53.87,
          53.87,
          53.87,
          53.87,
          53.87,
          53.87,
          53.87,
          53.87,
          53.87,
          53.87,
          53.87,
          53.87,
          53.87,
          53.87,
          53.87,
          53.87,
          53.87,
          53.87,
          53.87,
          53.87,
          53.87,
          53.87,
          53.87,
          53.87,
          53.87,
          53.87,
          53.87,
          53.87,
          53.87,
          53.87,
          53.87,
          53.87,
          53.87,
          53.87,
          53.87,
          53.87,
          53.87,
          53.87,
          53.87,
          53.87,
          53.87,
          53.87,
          53.87,
          53.87,
          53.87,
          53.87,
          53.87,
          53.87,
          53.87,
          53.87,
          53.87,
          53.87,
          53.87,
          53.87,
          53.87,
          53.87,
          53.87,
          53.87,
          53.87,
          53.87,
          53.87,
          53.87,
          53.87,
          8.79,
          8.79,
          8.79,
          8.79,
          8.79,
          8.79,
          8.79,
          8.79,
          8.79,
          8.79,
          8.79,
          8.79,
          8.79,
          8.79,
          8.79,
          8.79,
          8.79,
          8.79,
          8.79,
          8.79,
          8.79,
          8.79,
          8.79,
          8.79,
          8.79,
          8.79,
          8.79,
          8.79,
          8.79,
          8.79,
          8.79,
          8.79,
          8.79,
          8.79,
          8.79,
          8.79,
          8.79,
          8.79,
          8.79,
          8.79,
          8.79,
          8.79,
          8.79,
          8.79,
          8.79,
          8.79,
          8.79,
          8.79,
          8.79,
          8.79,
          8.79,
          8.79,
          8.79,
          8.79,
          8.79,
          8.79,
          8.79,
          8.79,
          8.79,
          8.79,
          8.79,
          8.79,
          8.79,
          8.79,
          8.79,
          8.79,
          8.79,
          8.79,
          8.79,
          8.79,
          8.79,
          8.79,
          8.79,
          8.79,
          8.79,
          8.79,
          8.79,
          8.79,
          8.79,
          8.79,
          8.79,
          8.79,
          8.79,
          8.79,
          8.79,
          8.79,
          8.79,
          8.79,
          8.79,
          8.79,
          8.79,
          8.79,
          8.79,
          8.79,
          8.79,
          8.79,
          8.79,
          8.79,
          8.79,
          8.79,
          8.79,
          8.79,
          8.79,
          8.79,
          8.79,
          8.79,
          8.79,
          8.79,
          8.79,
          8.79,
          8.79,
          8.79,
          8.79,
          8.79,
          8.79,
          8.79,
          8.79,
          8.79,
          8.79,
          8.79,
          8.79,
          8.79,
          8.79,
          8.79,
          8.79,
          8.79,
          8.79,
          8.79,
          8.79,
          8.79,
          8.79,
          8.79,
          8.79,
          8.79,
          8.79,
          8.79,
          8.79,
          8.79,
          8.79,
          8.79,
          8.79,
          8.79,
          8.79,
          8.79,
          8.79,
          8.79,
          8.79,
          8.79,
          8.79,
          8.79,
          8.79,
          8.79,
          8.79,
          8.79,
          8.79,
          8.79,
          8.79,
          8.79,
          8.79,
          8.79,
          8.79,
          8.79,
          8.79,
          8.79,
          8.79,
          8.79,
          8.79,
          8.79,
          8.79,
          8.79,
          8.79,
          8.79,
          8.79,
          8.79,
          8.79,
          8.79,
          8.79,
          8.79,
          8.79,
          8.79,
          8.79,
          8.79,
          8.79,
          8.79,
          8.79,
          8.79,
          8.79,
          8.79,
          8.79,
          8.79,
          8.79,
          8.79,
          8.79,
          8.79,
          8.79,
          8.79,
          8.79,
          8.79,
          8.79,
          8.79,
          8.79,
          8.79,
          8.79,
          8.79,
          8.79,
          8.79,
          8.79,
          8.79,
          8.79,
          8.79,
          8.79,
          8.79,
          8.79,
          8.79,
          8.79,
          8.79,
          8.79,
          8.79,
          8.79,
          8.79,
          8.79,
          8.79,
          8.79,
          8.79,
          8.79,
          8.79,
          8.79,
          8.79,
          8.79,
          8.79,
          8.79,
          8.79,
          8.79,
          8.79,
          8.79,
          8.79,
          8.79,
          8.79,
          8.79,
          8.79,
          8.79,
          8.79,
          8.79,
          8.79,
          8.79,
          8.79,
          8.79,
          8.79,
          8.79,
          8.79,
          8.79,
          8.79,
          8.79,
          8.79,
          8.79,
          8.79,
          8.79,
          8.79,
          8.79,
          8.79,
          8.79,
          8.79,
          8.79,
          8.79,
          8.79,
          8.79,
          8.79,
          8.79,
          8.79,
          8.79,
          8.79,
          8.79,
          8.79,
          8.79,
          8.79,
          8.79,
          8.79,
          8.79,
          8.79,
          8.79,
          8.79,
          8.79,
          8.79,
          8.79,
          8.79,
          8.79,
          8.79,
          8.79,
          8.79,
          8.79,
          8.79,
          8.79,
          8.79,
          8.79,
          8.79,
          8.79,
          8.79,
          8.79,
          8.79,
          8.79,
          8.79,
          8.79,
          8.79,
          8.79,
          8.79,
          8.79,
          8.79,
          8.79,
          8.79,
          8.79,
          8.79,
          8.79,
          8.79,
          8.79,
          8.79,
          8.79,
          8.79,
          8.79,
          8.79,
          8.79,
          8.79,
          8.79,
          8.79,
          8.79,
          8.79,
          8.79,
          8.79,
          8.79,
          8.79,
          8.79,
          8.79,
          8.79,
          8.79,
          8.79,
          8.79,
          8.79,
          8.79,
          8.79,
          8.79,
          8.79,
          8.79,
          8.79,
          8.79,
          8.79,
          8.79,
          8.79,
          8.79,
          8.79,
          8.79,
          8.79,
          8.79,
          8.79,
          8.79,
          8.79,
          8.79,
          8.79,
          8.79,
          8.79,
          8.79,
          8.79,
          8.79,
          8.79,
          8.79,
          8.79,
          8.79,
          8.79,
          8.79,
          8.79,
          8.79,
          8.79,
          8.79,
          8.79,
          8.79,
          8.79,
          8.79,
          8.79,
          8.79,
          8.79,
          8.79,
          8.79,
          8.79,
          8.79,
          8.79,
          8.79,
          8.79,
          8.79,
          8.79,
          8.79,
          8.79,
          8.79,
          8.79,
          8.79,
          8.79,
          8.79,
          8.79,
          8.79,
          8.79,
          8.79,
          8.79,
          8.79,
          8.79,
          8.79,
          8.79,
          8.79,
          8.79,
          8.79,
          8.79,
          8.79,
          8.79,
          8.79,
          8.79,
          8.79,
          8.79,
          8.79,
          8.79,
          8.79,
          8.79,
          8.79,
          8.79,
          8.79,
          8.79,
          8.79,
          8.79,
          8.79,
          8.79,
          8.79,
          8.79,
          8.79,
          8.79,
          8.79,
          8.79,
          8.79,
          8.79,
          8.79,
          8.79,
          8.79,
          8.79,
          8.79,
          8.79,
          8.79,
          8.79,
          8.79,
          8.79,
          8.79,
          8.79,
          8.79,
          8.79,
          8.79,
          8.79,
          8.79,
          8.79,
          8.79,
          8.79,
          8.79,
          8.79,
          8.79,
          8.79,
          8.79,
          8.79,
          8.79,
          8.79,
          8.79,
          8.79,
          8.79,
          8.79,
          8.79,
          8.79,
          8.79,
          8.79,
          8.79,
          8.79,
          8.79,
          8.79,
          8.79,
          8.79,
          8.79,
          8.79,
          8.79,
          8.79,
          8.79,
          8.79,
          8.79,
          8.79,
          8.79,
          8.79,
          8.79,
          8.79,
          8.79,
          8.79,
          8.79,
          8.79,
          8.79,
          8.79,
          8.79,
          8.79,
          8.79,
          8.79,
          8.79,
          8.79,
          8.79,
          8.79,
          8.79,
          8.79,
          8.79,
          8.79,
          8.79,
          8.79,
          8.79,
          8.79,
          8.79,
          41.46,
          41.46,
          41.46,
          41.46,
          41.46,
          41.46,
          41.46,
          41.46,
          41.46,
          41.46,
          41.46,
          41.46,
          41.46,
          41.46,
          41.46,
          41.46,
          41.46,
          41.46,
          41.46,
          41.46,
          41.46,
          41.46,
          41.46,
          41.46,
          41.46,
          41.46,
          41.46,
          41.46,
          41.46,
          41.46,
          41.46,
          41.46,
          41.46,
          41.46,
          41.46,
          41.46,
          41.46,
          41.46,
          41.46,
          41.46,
          41.46,
          41.46,
          41.46,
          41.46,
          41.46,
          41.46,
          41.46,
          41.46,
          41.46,
          41.46,
          41.46,
          41.46,
          41.46,
          41.46,
          41.46,
          41.46,
          41.46,
          41.46,
          41.46,
          41.46,
          41.46,
          41.46,
          41.46,
          41.46,
          41.46,
          41.46,
          41.46,
          41.46,
          41.46,
          41.46,
          41.46,
          41.46,
          41.46,
          41.46,
          41.46,
          41.46,
          41.46,
          41.46,
          41.46,
          41.46,
          41.46,
          41.46,
          41.46,
          41.46,
          41.46,
          41.46,
          41.46,
          41.46,
          41.46,
          41.46,
          41.46,
          41.46,
          41.46,
          41.46,
          41.46,
          41.46,
          41.46,
          41.46,
          41.46,
          41.46,
          41.46,
          41.46,
          41.46,
          41.46,
          41.46,
          41.46,
          41.46,
          41.46,
          41.46,
          41.46,
          41.46,
          41.46,
          41.46,
          41.46,
          41.46,
          41.46,
          41.46,
          41.46,
          41.46,
          41.46,
          41.46,
          41.46,
          41.46,
          41.46,
          41.46,
          41.46,
          41.46,
          41.46,
          41.46,
          41.46,
          41.46,
          41.46,
          41.46,
          41.46,
          41.46,
          41.46,
          41.46,
          41.46,
          41.46,
          41.46,
          41.46,
          41.46,
          41.46,
          41.46,
          41.46,
          41.46,
          41.46,
          78.83,
          78.83,
          78.83,
          78.83,
          78.83,
          78.83,
          78.83,
          78.83,
          78.83,
          78.83,
          78.83,
          78.83,
          78.83,
          78.83,
          78.83,
          78.83,
          78.83,
          78.83,
          78.83,
          78.83,
          78.83,
          78.83,
          78.83,
          78.83,
          78.83,
          78.83,
          78.83,
          78.83,
          78.83,
          78.83,
          78.83,
          78.83,
          78.83,
          78.83,
          78.83,
          78.83,
          78.83,
          78.83,
          78.83,
          78.83,
          78.83,
          78.83,
          78.83,
          78.83,
          78.83,
          78.83,
          78.83,
          78.83,
          78.83,
          87.73,
          87.73,
          87.73,
          87.73,
          87.73,
          87.73,
          87.73,
          87.73,
          87.73,
          87.73,
          87.73,
          87.73,
          87.73,
          87.73,
          87.73,
          87.73,
          87.73,
          87.73,
          87.73,
          87.73,
          105.71,
          105.71,
          105.71,
          105.71,
          105.71,
          105.71,
          105.71,
          105.71,
          105.71,
          105.71,
          105.71,
          105.71,
          105.71,
          105.71,
          105.71,
          105.71,
          105.71,
          105.71,
          105.71,
          105.71,
          105.71,
          105.71,
          105.71,
          105.71,
          105.71,
          105.71,
          105.71,
          105.71,
          105.71,
          105.71,
          105.71,
          105.71,
          105.71,
          105.71,
          105.71,
          105.71,
          105.71,
          105.71,
          105.71,
          105.71,
          105.71,
          105.71,
          105.71,
          105.71,
          105.71,
          105.71,
          105.71,
          105.71,
          105.71,
          105.71,
          105.71,
          105.71,
          105.71,
          105.71,
          105.71,
          105.71,
          105.71,
          105.71,
          105.71,
          126.34,
          126.34,
          126.34,
          126.34,
          126.34,
          126.34,
          126.34,
          126.34,
          126.34,
          126.34,
          126.34,
          126.34,
          126.34,
          126.34,
          126.34,
          126.34,
          126.34,
          126.34,
          126.34,
          126.34,
          126.34,
          126.34,
          126.34,
          126.34,
          126.34,
          126.34,
          126.34,
          126.34,
          126.34,
          126.34,
          126.34,
          126.34,
          126.34,
          126.34,
          126.34,
          126.34,
          126.34,
          126.34,
          126.34,
          126.34,
          126.34,
          126.34,
          126.34,
          126.34,
          126.34,
          126.34,
          126.34,
          126.34,
          126.34
         ]
        }
       ],
       "layout": {
        "annotations": [
         {
          "font": {
           "color": "gray",
           "size": 10
          },
          "showarrow": false,
          "text": "X=-9.09",
          "textangle": -90,
          "x": -9.09,
          "xanchor": "center",
          "xref": "x",
          "y": 1,
          "yanchor": "bottom",
          "yref": "y domain"
         },
         {
          "font": {
           "color": "gray",
           "size": 10
          },
          "showarrow": false,
          "text": "X=-6.67",
          "textangle": -90,
          "x": -6.67,
          "xanchor": "center",
          "xref": "x",
          "y": 1,
          "yanchor": "bottom",
          "yref": "y domain"
         },
         {
          "font": {
           "color": "gray",
           "size": 10
          },
          "showarrow": false,
          "text": "X=3.84",
          "textangle": -90,
          "x": 3.84,
          "xanchor": "center",
          "xref": "x",
          "y": 1,
          "yanchor": "bottom",
          "yref": "y domain"
         },
         {
          "font": {
           "color": "gray",
           "size": 10
          },
          "showarrow": false,
          "text": "X=6.87",
          "textangle": -90,
          "x": 6.87,
          "xanchor": "center",
          "xref": "x",
          "y": 1,
          "yanchor": "bottom",
          "yref": "y domain"
         },
         {
          "font": {
           "color": "gray",
           "size": 10
          },
          "showarrow": false,
          "text": "X=7.88",
          "textangle": -90,
          "x": 7.88,
          "xanchor": "center",
          "xref": "x",
          "y": 1,
          "yanchor": "bottom",
          "yref": "y domain"
         },
         {
          "font": {
           "color": "gray",
           "size": 10
          },
          "showarrow": false,
          "text": "X=8.28",
          "textangle": -90,
          "x": 8.28,
          "xanchor": "center",
          "xref": "x",
          "y": 1,
          "yanchor": "bottom",
          "yref": "y domain"
         },
         {
          "font": {
           "color": "gray",
           "size": 10
          },
          "showarrow": false,
          "text": "X=9.5",
          "textangle": -90,
          "x": 9.5,
          "xanchor": "center",
          "xref": "x",
          "y": 1,
          "yanchor": "bottom",
          "yref": "y domain"
         }
        ],
        "height": 500,
        "plot_bgcolor": "white",
        "shapes": [
         {
          "line": {
           "color": "gray",
           "dash": "dash"
          },
          "name": "Split at -9.09",
          "type": "line",
          "x0": -9.09,
          "x1": -9.09,
          "xref": "x",
          "y0": 0,
          "y1": 1,
          "yref": "y domain"
         },
         {
          "line": {
           "color": "gray",
           "dash": "dash"
          },
          "name": "Split at -6.67",
          "type": "line",
          "x0": -6.67,
          "x1": -6.67,
          "xref": "x",
          "y0": 0,
          "y1": 1,
          "yref": "y domain"
         },
         {
          "line": {
           "color": "gray",
           "dash": "dash"
          },
          "name": "Split at 3.84",
          "type": "line",
          "x0": 3.84,
          "x1": 3.84,
          "xref": "x",
          "y0": 0,
          "y1": 1,
          "yref": "y domain"
         },
         {
          "line": {
           "color": "gray",
           "dash": "dash"
          },
          "name": "Split at 6.87",
          "type": "line",
          "x0": 6.87,
          "x1": 6.87,
          "xref": "x",
          "y0": 0,
          "y1": 1,
          "yref": "y domain"
         },
         {
          "line": {
           "color": "gray",
           "dash": "dash"
          },
          "name": "Split at 7.88",
          "type": "line",
          "x0": 7.88,
          "x1": 7.88,
          "xref": "x",
          "y0": 0,
          "y1": 1,
          "yref": "y domain"
         },
         {
          "line": {
           "color": "gray",
           "dash": "dash"
          },
          "name": "Split at 8.28",
          "type": "line",
          "x0": 8.28,
          "x1": 8.28,
          "xref": "x",
          "y0": 0,
          "y1": 1,
          "yref": "y domain"
         },
         {
          "line": {
           "color": "gray",
           "dash": "dash"
          },
          "name": "Split at 9.5",
          "type": "line",
          "x0": 9.5,
          "x1": 9.5,
          "xref": "x",
          "y0": 0,
          "y1": 1,
          "yref": "y domain"
         },
         {
          "line": {
           "color": "gray",
           "dash": "dash"
          },
          "type": "line",
          "x0": -9.09,
          "x1": -9.09,
          "xref": "x",
          "y0": 0,
          "y1": 1,
          "yref": "y domain"
         },
         {
          "line": {
           "color": "gray",
           "dash": "dash"
          },
          "type": "line",
          "x0": -6.67,
          "x1": -6.67,
          "xref": "x",
          "y0": 0,
          "y1": 1,
          "yref": "y domain"
         },
         {
          "line": {
           "color": "gray",
           "dash": "dash"
          },
          "type": "line",
          "x0": 3.84,
          "x1": 3.84,
          "xref": "x",
          "y0": 0,
          "y1": 1,
          "yref": "y domain"
         },
         {
          "line": {
           "color": "gray",
           "dash": "dash"
          },
          "type": "line",
          "x0": 6.87,
          "x1": 6.87,
          "xref": "x",
          "y0": 0,
          "y1": 1,
          "yref": "y domain"
         },
         {
          "line": {
           "color": "gray",
           "dash": "dash"
          },
          "type": "line",
          "x0": 7.88,
          "x1": 7.88,
          "xref": "x",
          "y0": 0,
          "y1": 1,
          "yref": "y domain"
         },
         {
          "line": {
           "color": "gray",
           "dash": "dash"
          },
          "type": "line",
          "x0": 8.28,
          "x1": 8.28,
          "xref": "x",
          "y0": 0,
          "y1": 1,
          "yref": "y domain"
         },
         {
          "line": {
           "color": "gray",
           "dash": "dash"
          },
          "type": "line",
          "x0": 9.5,
          "x1": 9.5,
          "xref": "x",
          "y0": 0,
          "y1": 1,
          "yref": "y domain"
         }
        ],
        "showlegend": true,
        "template": {
         "data": {
          "bar": [
           {
            "error_x": {
             "color": "#2a3f5f"
            },
            "error_y": {
             "color": "#2a3f5f"
            },
            "marker": {
             "line": {
              "color": "#E5ECF6",
              "width": 0.5
             },
             "pattern": {
              "fillmode": "overlay",
              "size": 10,
              "solidity": 0.2
             }
            },
            "type": "bar"
           }
          ],
          "barpolar": [
           {
            "marker": {
             "line": {
              "color": "#E5ECF6",
              "width": 0.5
             },
             "pattern": {
              "fillmode": "overlay",
              "size": 10,
              "solidity": 0.2
             }
            },
            "type": "barpolar"
           }
          ],
          "carpet": [
           {
            "aaxis": {
             "endlinecolor": "#2a3f5f",
             "gridcolor": "white",
             "linecolor": "white",
             "minorgridcolor": "white",
             "startlinecolor": "#2a3f5f"
            },
            "baxis": {
             "endlinecolor": "#2a3f5f",
             "gridcolor": "white",
             "linecolor": "white",
             "minorgridcolor": "white",
             "startlinecolor": "#2a3f5f"
            },
            "type": "carpet"
           }
          ],
          "choropleth": [
           {
            "colorbar": {
             "outlinewidth": 0,
             "ticks": ""
            },
            "type": "choropleth"
           }
          ],
          "contour": [
           {
            "colorbar": {
             "outlinewidth": 0,
             "ticks": ""
            },
            "colorscale": [
             [
              0,
              "#0d0887"
             ],
             [
              0.1111111111111111,
              "#46039f"
             ],
             [
              0.2222222222222222,
              "#7201a8"
             ],
             [
              0.3333333333333333,
              "#9c179e"
             ],
             [
              0.4444444444444444,
              "#bd3786"
             ],
             [
              0.5555555555555556,
              "#d8576b"
             ],
             [
              0.6666666666666666,
              "#ed7953"
             ],
             [
              0.7777777777777778,
              "#fb9f3a"
             ],
             [
              0.8888888888888888,
              "#fdca26"
             ],
             [
              1,
              "#f0f921"
             ]
            ],
            "type": "contour"
           }
          ],
          "contourcarpet": [
           {
            "colorbar": {
             "outlinewidth": 0,
             "ticks": ""
            },
            "type": "contourcarpet"
           }
          ],
          "heatmap": [
           {
            "colorbar": {
             "outlinewidth": 0,
             "ticks": ""
            },
            "colorscale": [
             [
              0,
              "#0d0887"
             ],
             [
              0.1111111111111111,
              "#46039f"
             ],
             [
              0.2222222222222222,
              "#7201a8"
             ],
             [
              0.3333333333333333,
              "#9c179e"
             ],
             [
              0.4444444444444444,
              "#bd3786"
             ],
             [
              0.5555555555555556,
              "#d8576b"
             ],
             [
              0.6666666666666666,
              "#ed7953"
             ],
             [
              0.7777777777777778,
              "#fb9f3a"
             ],
             [
              0.8888888888888888,
              "#fdca26"
             ],
             [
              1,
              "#f0f921"
             ]
            ],
            "type": "heatmap"
           }
          ],
          "heatmapgl": [
           {
            "colorbar": {
             "outlinewidth": 0,
             "ticks": ""
            },
            "colorscale": [
             [
              0,
              "#0d0887"
             ],
             [
              0.1111111111111111,
              "#46039f"
             ],
             [
              0.2222222222222222,
              "#7201a8"
             ],
             [
              0.3333333333333333,
              "#9c179e"
             ],
             [
              0.4444444444444444,
              "#bd3786"
             ],
             [
              0.5555555555555556,
              "#d8576b"
             ],
             [
              0.6666666666666666,
              "#ed7953"
             ],
             [
              0.7777777777777778,
              "#fb9f3a"
             ],
             [
              0.8888888888888888,
              "#fdca26"
             ],
             [
              1,
              "#f0f921"
             ]
            ],
            "type": "heatmapgl"
           }
          ],
          "histogram": [
           {
            "marker": {
             "pattern": {
              "fillmode": "overlay",
              "size": 10,
              "solidity": 0.2
             }
            },
            "type": "histogram"
           }
          ],
          "histogram2d": [
           {
            "colorbar": {
             "outlinewidth": 0,
             "ticks": ""
            },
            "colorscale": [
             [
              0,
              "#0d0887"
             ],
             [
              0.1111111111111111,
              "#46039f"
             ],
             [
              0.2222222222222222,
              "#7201a8"
             ],
             [
              0.3333333333333333,
              "#9c179e"
             ],
             [
              0.4444444444444444,
              "#bd3786"
             ],
             [
              0.5555555555555556,
              "#d8576b"
             ],
             [
              0.6666666666666666,
              "#ed7953"
             ],
             [
              0.7777777777777778,
              "#fb9f3a"
             ],
             [
              0.8888888888888888,
              "#fdca26"
             ],
             [
              1,
              "#f0f921"
             ]
            ],
            "type": "histogram2d"
           }
          ],
          "histogram2dcontour": [
           {
            "colorbar": {
             "outlinewidth": 0,
             "ticks": ""
            },
            "colorscale": [
             [
              0,
              "#0d0887"
             ],
             [
              0.1111111111111111,
              "#46039f"
             ],
             [
              0.2222222222222222,
              "#7201a8"
             ],
             [
              0.3333333333333333,
              "#9c179e"
             ],
             [
              0.4444444444444444,
              "#bd3786"
             ],
             [
              0.5555555555555556,
              "#d8576b"
             ],
             [
              0.6666666666666666,
              "#ed7953"
             ],
             [
              0.7777777777777778,
              "#fb9f3a"
             ],
             [
              0.8888888888888888,
              "#fdca26"
             ],
             [
              1,
              "#f0f921"
             ]
            ],
            "type": "histogram2dcontour"
           }
          ],
          "mesh3d": [
           {
            "colorbar": {
             "outlinewidth": 0,
             "ticks": ""
            },
            "type": "mesh3d"
           }
          ],
          "parcoords": [
           {
            "line": {
             "colorbar": {
              "outlinewidth": 0,
              "ticks": ""
             }
            },
            "type": "parcoords"
           }
          ],
          "pie": [
           {
            "automargin": true,
            "type": "pie"
           }
          ],
          "scatter": [
           {
            "fillpattern": {
             "fillmode": "overlay",
             "size": 10,
             "solidity": 0.2
            },
            "type": "scatter"
           }
          ],
          "scatter3d": [
           {
            "line": {
             "colorbar": {
              "outlinewidth": 0,
              "ticks": ""
             }
            },
            "marker": {
             "colorbar": {
              "outlinewidth": 0,
              "ticks": ""
             }
            },
            "type": "scatter3d"
           }
          ],
          "scattercarpet": [
           {
            "marker": {
             "colorbar": {
              "outlinewidth": 0,
              "ticks": ""
             }
            },
            "type": "scattercarpet"
           }
          ],
          "scattergeo": [
           {
            "marker": {
             "colorbar": {
              "outlinewidth": 0,
              "ticks": ""
             }
            },
            "type": "scattergeo"
           }
          ],
          "scattergl": [
           {
            "marker": {
             "colorbar": {
              "outlinewidth": 0,
              "ticks": ""
             }
            },
            "type": "scattergl"
           }
          ],
          "scattermapbox": [
           {
            "marker": {
             "colorbar": {
              "outlinewidth": 0,
              "ticks": ""
             }
            },
            "type": "scattermapbox"
           }
          ],
          "scatterpolar": [
           {
            "marker": {
             "colorbar": {
              "outlinewidth": 0,
              "ticks": ""
             }
            },
            "type": "scatterpolar"
           }
          ],
          "scatterpolargl": [
           {
            "marker": {
             "colorbar": {
              "outlinewidth": 0,
              "ticks": ""
             }
            },
            "type": "scatterpolargl"
           }
          ],
          "scatterternary": [
           {
            "marker": {
             "colorbar": {
              "outlinewidth": 0,
              "ticks": ""
             }
            },
            "type": "scatterternary"
           }
          ],
          "surface": [
           {
            "colorbar": {
             "outlinewidth": 0,
             "ticks": ""
            },
            "colorscale": [
             [
              0,
              "#0d0887"
             ],
             [
              0.1111111111111111,
              "#46039f"
             ],
             [
              0.2222222222222222,
              "#7201a8"
             ],
             [
              0.3333333333333333,
              "#9c179e"
             ],
             [
              0.4444444444444444,
              "#bd3786"
             ],
             [
              0.5555555555555556,
              "#d8576b"
             ],
             [
              0.6666666666666666,
              "#ed7953"
             ],
             [
              0.7777777777777778,
              "#fb9f3a"
             ],
             [
              0.8888888888888888,
              "#fdca26"
             ],
             [
              1,
              "#f0f921"
             ]
            ],
            "type": "surface"
           }
          ],
          "table": [
           {
            "cells": {
             "fill": {
              "color": "#EBF0F8"
             },
             "line": {
              "color": "white"
             }
            },
            "header": {
             "fill": {
              "color": "#C8D4E3"
             },
             "line": {
              "color": "white"
             }
            },
            "type": "table"
           }
          ]
         },
         "layout": {
          "annotationdefaults": {
           "arrowcolor": "#2a3f5f",
           "arrowhead": 0,
           "arrowwidth": 1
          },
          "autotypenumbers": "strict",
          "coloraxis": {
           "colorbar": {
            "outlinewidth": 0,
            "ticks": ""
           }
          },
          "colorscale": {
           "diverging": [
            [
             0,
             "#8e0152"
            ],
            [
             0.1,
             "#c51b7d"
            ],
            [
             0.2,
             "#de77ae"
            ],
            [
             0.3,
             "#f1b6da"
            ],
            [
             0.4,
             "#fde0ef"
            ],
            [
             0.5,
             "#f7f7f7"
            ],
            [
             0.6,
             "#e6f5d0"
            ],
            [
             0.7,
             "#b8e186"
            ],
            [
             0.8,
             "#7fbc41"
            ],
            [
             0.9,
             "#4d9221"
            ],
            [
             1,
             "#276419"
            ]
           ],
           "sequential": [
            [
             0,
             "#0d0887"
            ],
            [
             0.1111111111111111,
             "#46039f"
            ],
            [
             0.2222222222222222,
             "#7201a8"
            ],
            [
             0.3333333333333333,
             "#9c179e"
            ],
            [
             0.4444444444444444,
             "#bd3786"
            ],
            [
             0.5555555555555556,
             "#d8576b"
            ],
            [
             0.6666666666666666,
             "#ed7953"
            ],
            [
             0.7777777777777778,
             "#fb9f3a"
            ],
            [
             0.8888888888888888,
             "#fdca26"
            ],
            [
             1,
             "#f0f921"
            ]
           ],
           "sequentialminus": [
            [
             0,
             "#0d0887"
            ],
            [
             0.1111111111111111,
             "#46039f"
            ],
            [
             0.2222222222222222,
             "#7201a8"
            ],
            [
             0.3333333333333333,
             "#9c179e"
            ],
            [
             0.4444444444444444,
             "#bd3786"
            ],
            [
             0.5555555555555556,
             "#d8576b"
            ],
            [
             0.6666666666666666,
             "#ed7953"
            ],
            [
             0.7777777777777778,
             "#fb9f3a"
            ],
            [
             0.8888888888888888,
             "#fdca26"
            ],
            [
             1,
             "#f0f921"
            ]
           ]
          },
          "colorway": [
           "#636efa",
           "#EF553B",
           "#00cc96",
           "#ab63fa",
           "#FFA15A",
           "#19d3f3",
           "#FF6692",
           "#B6E880",
           "#FF97FF",
           "#FECB52"
          ],
          "font": {
           "color": "#2a3f5f"
          },
          "geo": {
           "bgcolor": "white",
           "lakecolor": "white",
           "landcolor": "#E5ECF6",
           "showlakes": true,
           "showland": true,
           "subunitcolor": "white"
          },
          "hoverlabel": {
           "align": "left"
          },
          "hovermode": "closest",
          "mapbox": {
           "style": "light"
          },
          "paper_bgcolor": "white",
          "plot_bgcolor": "#E5ECF6",
          "polar": {
           "angularaxis": {
            "gridcolor": "white",
            "linecolor": "white",
            "ticks": ""
           },
           "bgcolor": "#E5ECF6",
           "radialaxis": {
            "gridcolor": "white",
            "linecolor": "white",
            "ticks": ""
           }
          },
          "scene": {
           "xaxis": {
            "backgroundcolor": "#E5ECF6",
            "gridcolor": "white",
            "gridwidth": 2,
            "linecolor": "white",
            "showbackground": true,
            "ticks": "",
            "zerolinecolor": "white"
           },
           "yaxis": {
            "backgroundcolor": "#E5ECF6",
            "gridcolor": "white",
            "gridwidth": 2,
            "linecolor": "white",
            "showbackground": true,
            "ticks": "",
            "zerolinecolor": "white"
           },
           "zaxis": {
            "backgroundcolor": "#E5ECF6",
            "gridcolor": "white",
            "gridwidth": 2,
            "linecolor": "white",
            "showbackground": true,
            "ticks": "",
            "zerolinecolor": "white"
           }
          },
          "shapedefaults": {
           "line": {
            "color": "#2a3f5f"
           }
          },
          "ternary": {
           "aaxis": {
            "gridcolor": "white",
            "linecolor": "white",
            "ticks": ""
           },
           "baxis": {
            "gridcolor": "white",
            "linecolor": "white",
            "ticks": ""
           },
           "bgcolor": "#E5ECF6",
           "caxis": {
            "gridcolor": "white",
            "linecolor": "white",
            "ticks": ""
           }
          },
          "title": {
           "x": 0.05
          },
          "xaxis": {
           "automargin": true,
           "gridcolor": "white",
           "linecolor": "white",
           "ticks": "",
           "title": {
            "standoff": 15
           },
           "zerolinecolor": "white",
           "zerolinewidth": 2
          },
          "yaxis": {
           "automargin": true,
           "gridcolor": "white",
           "linecolor": "white",
           "ticks": "",
           "title": {
            "standoff": 15
           },
           "zerolinecolor": "white",
           "zerolinewidth": 2
          }
         }
        },
        "width": 900,
        "xaxis": {
         "linecolor": "black",
         "showline": true,
         "tickmode": "linear",
         "title": {
          "text": "X"
         }
        },
        "yaxis": {
         "linecolor": "black",
         "showline": true,
         "title": {
          "text": "y"
         }
        }
       }
      }
     },
     "metadata": {},
     "output_type": "display_data"
    }
   ],
   "source": [
    "# sorted split values\n",
    "splits = [-9.09, -6.67, 3.84, 6.87, 7.88, 8.28, 9.5]  \n",
    "# corresponding predictions\n",
    "predictions = [90.48, 53.87, 8.79, 41.46, 78.83, 87.73, 105.71, 126.34]  \n",
    "\n",
    "# Create a range of x values\n",
    "x_values = np.linspace(min(splits) - 1, max(splits) + 1, 1000)\n",
    "\n",
    "# Determine the corresponding y values (predictions) for the x values based on the decision boundaries\n",
    "y_values = np.piecewise(x_values, [x_values <= splits[0],\n",
    "                                   (splits[0] < x_values) & (x_values <= splits[1]),\n",
    "                                   (splits[1] < x_values) & (x_values <= splits[2]),\n",
    "                                   (splits[2] < x_values) & (x_values <= splits[3]),\n",
    "                                   (splits[3] < x_values) & (x_values <= splits[4]),\n",
    "                                   (splits[4] < x_values) & (x_values <= splits[5]),\n",
    "                                   (splits[5] < x_values) & (x_values <= splits[6]),\n",
    "                                   x_values > splits[6]], predictions)\n",
    "\n",
    "# Create a Plotly figure\n",
    "fig = go.Figure()\n",
    "\n",
    "fig.add_trace(\n",
    "        go.Scatter(x=data[\"X\"], y=data[\"y\"], mode=\"markers\", marker=dict(opacity=0.7, size=6, color=\"red\",\n",
    "                line=dict(color='black', width=1)), name=\"Actual Values\")\n",
    "    )\n",
    "\n",
    "# Add a scatter plot for the predictions\n",
    "fig.add_trace(go.Scatter(x=x_values, y=y_values, mode='lines', name='Predicted Values', line=dict(color=\"gray\")))\n",
    "\n",
    "# Add vertical lines for each decision boundary\n",
    "for split in splits:\n",
    "    fig.add_vline(x=split, line=dict(color=\"gray\", dash=\"dash\"), name=f\"Split at {split}\")\n",
    "\n",
    "for split in splits:\n",
    "    fig.add_vline(x=split, line=dict(color=\"gray\", dash=\"dash\"),\n",
    "                  annotation_text=f\"X={split}\", annotation_position=\"top\",\n",
    "                  annotation=dict(font=dict(size=10, color=\"gray\"), \n",
    "                                  showarrow=False, \n",
    "                                  xref=\"x\", yref=\"y\", \n",
    "                                  textangle=-90))\n",
    "\n",
    "# Update the figure layout\n",
    "fig.update_layout(\n",
    "                  xaxis=dict(title=\"X\",\n",
    "                             showline=True,\n",
    "                             linecolor=\"black\",\n",
    "                             tickmode=\"linear\"),\n",
    "                  yaxis_title=\"y\",\n",
    "                  yaxis=dict(title=\"y\",\n",
    "                             showline=True,\n",
    "                             linecolor=\"black\"),\n",
    "                  showlegend=True,\n",
    "                  plot_bgcolor=\"white\",\n",
    "                  width=900, height=500)\n",
    "\n",
    "# Display the figure\n",
    "fig.show()\n"
   ]
  },
  {
   "cell_type": "markdown",
   "metadata": {},
   "source": [
    "### Using Scikit-Learn"
   ]
  },
  {
   "cell_type": "code",
   "execution_count": 53,
   "metadata": {},
   "outputs": [
    {
     "data": {
      "image/png": "[encoded data removed]",
      "text/plain": [
       "<Figure size 1500x800 with 1 Axes>"
      ]
     },
     "metadata": {},
     "output_type": "display_data"
    }
   ],
   "source": [
    "from sklearn.tree import DecisionTreeRegressor\n",
    "from sklearn import tree\n",
    "import matplotlib.pyplot as plt\n",
    "\n",
    "\n",
    "# Fit the regression tree\n",
    "regressor = DecisionTreeRegressor(max_depth=3)\n",
    "X = np.array(data[\"X\"]).reshape(100, 1)\n",
    "y = np.array(data[\"y\"])\n",
    "regressor.fit(X, y)\n",
    "\n",
    "# Plot the tree\n",
    "plt.figure(figsize=(15, 8))\n",
    "tree.plot_tree(regressor, feature_names=['X'], filled=True)\n",
    "plt.show()\n"
   ]
  },
  {
   "cell_type": "code",
   "execution_count": null,
   "metadata": {},
   "outputs": [],
   "source": []
  }
 ],
 "metadata": {
  "kernelspec": {
   "display_name": "basic_ml",
   "language": "python",
   "name": "python3"
  },
  "language_info": {
   "codemirror_mode": {
    "name": "ipython",
    "version": 3
   },
   "file_extension": ".py",
   "mimetype": "text/x-python",
   "name": "python",
   "nbconvert_exporter": "python",
   "pygments_lexer": "ipython3",
   "version": "3.12.0"
  }
 },
 "nbformat": 4,
 "nbformat_minor": 2
}
