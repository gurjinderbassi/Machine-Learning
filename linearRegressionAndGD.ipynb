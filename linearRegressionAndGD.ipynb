{
 "cells": [
  {
   "cell_type": "markdown",
   "metadata": {
    "id": "zN4TGI5iAOje"
   },
   "source": [
    "## Linear Regression\n",
    "\n",
    "A linear regression model makes predictions by simply computing a weighted sum of the input features, plus a constant called the bias term. \n",
    "\n",
    "For example, if we want to predict the average marks of a student in an exam given the time he/she puts into studying, the prediction can be made as follows:\n",
    "\n",
    "<center> $h_\\theta(x^{(i)}) = \\theta_0+\\theta_1x_1^{(i)}$ </center>\n",
    "\n",
    "- $ h_\\theta(x^{(i)})$ is the predicted value i.e. average marks of $i^{th}$ instance (here an instance corresponds to a student)\n",
    "- $\\theta_0$ is the bias term\n",
    "- $ x_1^{(i)}$ is the number of hours spent studying by $i^{th}$ student\n",
    "- $\\theta_1$ is the parameter (weight) associated with the feature $x_1$ i.e. number of hours\n",
    "\n",
    "This problem can be further extended by adding more features such as *previous year marks*, *number of courses*, *time spent on watching TV*, etc. So, a generalized linear regression model with $n$ features can be framed as follows:\n",
    "\n",
    "<center> $h_\\theta(x^{(i)}) = \\theta_0+\\theta_1x_1^{(i)}+\\theta_2x_2^{(i)}+...+\\theta_nx_n^{(i)}$ </center>\n",
    "\n",
    "In summary,\n",
    "- **What we have** is the **input data** that can be used for training our linear regression model. Linear regression is a **supervised learning** technique, so the training data consists of input features $x_1, x_2, ..., x_n$ along with the actual target value $y$ for all $m$ (number of training examples) instances.\n",
    "- **What we want** is to be able to **make predictions** on any unseen instance given the value of $n$ features.\n",
    "- **How to do it?** This can be done by learning the parameters $\\theta_0, \\theta_1, ..., \\theta_n$ so that their values can be plugged in the above formula to obtain the prediction for a new instance.\n",
    "- **Gradient Descent** is one of the widely used method to find the optimal set of parameters by minimizing the cost function.\n"
   ]
  },
  {
   "cell_type": "markdown",
   "metadata": {
    "id": "NGQlnyazu7vQ"
   },
   "source": [
    "In this notebook, we will discuss how linear regression can be performed using gradient descent."
   ]
  },
  {
   "cell_type": "markdown",
   "metadata": {
    "id": "81AqtlL22B0z"
   },
   "source": [
    "Import the libraries"
   ]
  },
  {
   "cell_type": "code",
   "execution_count": 3,
   "metadata": {
    "id": "VZSFN3bBLJp9"
   },
   "outputs": [],
   "source": [
    "import pandas as pd\n",
    "import numpy as np\n",
    "import matplotlib.pyplot as plt\n",
    "from sklearn.linear_model import LinearRegression"
   ]
  },
  {
   "cell_type": "markdown",
   "metadata": {
    "id": "n_fKhiX52Gh1"
   },
   "source": [
    "Generate random data using numpy.\n",
    "- Here X is the input data consisting of 100 examples and one feature.\n",
    "- y is a function of X computed roughly as follows:\n",
    " $y=4+3X $ \n",
    "\n",
    "So, our model should be able to find out that $\\theta_0=4$ and $\\theta_1=3$"
   ]
  },
  {
   "cell_type": "code",
   "execution_count": 4,
   "metadata": {
    "id": "rCRtxN9QLNp8"
   },
   "outputs": [],
   "source": [
    "np.random.seed(42) # set a seed so that we get the same values everytime\n",
    "X = 2 * np.random.rand(100,1)\n",
    "y = 4 + 3*X + np.random.randn(100,1)"
   ]
  },
  {
   "cell_type": "markdown",
   "metadata": {
    "id": "vA4L9EnK381F"
   },
   "source": [
    "Plot the data using matplotlib"
   ]
  },
  {
   "cell_type": "code",
   "execution_count": 5,
   "metadata": {
    "colab": {
     "base_uri": "https://localhost:8080/",
     "height": 282
    },
    "id": "v-y3JqVMMPeD",
    "outputId": "2f31b84d-e81d-4fd6-b6c4-cfb383a906e6"
   },
   "outputs": [
    {
     "data": {
      "text/plain": [
       "<matplotlib.collections.PathCollection at 0x7f9f10b27670>"
      ]
     },
     "execution_count": 5,
     "metadata": {},
     "output_type": "execute_result"
    },
    {
     "data": {
      "image/png": "[encoded data removed]",
      "text/plain": [
       "<Figure size 432x288 with 1 Axes>"
      ]
     },
     "metadata": {
      "needs_background": "light"
     },
     "output_type": "display_data"
    }
   ],
   "source": [
    "plt.scatter(X,y)"
   ]
  },
  {
   "cell_type": "markdown",
   "metadata": {
    "id": "oIuzAOG_4OQE"
   },
   "source": [
    "### Scikit-learn's Linear Regression\n",
    "\n",
    "We can use sklearn's LinearRegression() to train a linear regressor on our training data X. By default, it uses Singular Value Decomposition (SVD) and normal equation method for finding out the best parameters of the model.\n",
    "\n",
    "From the bias and coefficient values of the learned model, we can see that they are pretty close to what was expected."
   ]
  },
  {
   "cell_type": "code",
   "execution_count": null,
   "metadata": {
    "colab": {
     "base_uri": "https://localhost:8080/"
    },
    "id": "9_WSGLyfN6Nr",
    "outputId": "2cbb44fe-d9a9-4315-ffaf-233a0ee19c95"
   },
   "outputs": [],
   "source": [
    "lin_reg = LinearRegression()\n",
    "lin_reg.fit(X, y)\n",
    "print('Bias = ',lin_reg.intercept_, '\\nSlope = ',lin_reg.coef_[0])"
   ]
  },
  {
   "cell_type": "markdown",
   "metadata": {
    "id": "gQG_sWa7486S"
   },
   "source": [
    "Compute the predicted values of given data using the learned model.\n",
    "\n",
    "*Note*: It is always recommended to split the input data into training and test sets, so that the model is trained on the training set and evaluated on the test set. However, here our goal is to simply understand how linear regression works and how gradient descent is used to learn the parameters, splitting of the data has been skipped."
   ]
  },
  {
   "cell_type": "code",
   "execution_count": 36,
   "metadata": {
    "id": "CTPxzfuCOCpv"
   },
   "outputs": [],
   "source": [
    "predictions = lin_reg.predict(X)"
   ]
  },
  {
   "cell_type": "markdown",
   "metadata": {
    "id": "62jE_Rhb5uKF"
   },
   "source": [
    "Plot the regression line over the input data."
   ]
  },
  {
   "cell_type": "code",
   "execution_count": 37,
   "metadata": {
    "colab": {
     "base_uri": "https://localhost:8080/",
     "height": 295
    },
    "id": "6kJBxuN2OPO2",
    "outputId": "6094e443-b2a5-44ae-ca50-6659d4a33fdf"
   },
   "outputs": [
    {
     "data": {
      "image/png": "[encoded data removed]",
      "text/plain": [
       "<Figure size 432x288 with 1 Axes>"
      ]
     },
     "metadata": {
      "needs_background": "light"
     },
     "output_type": "display_data"
    }
   ],
   "source": [
    "plt.scatter(X, y)\n",
    "plt.plot(X, predictions, color='red')\n",
    "plt.xlabel('X')\n",
    "plt.ylabel('y')\n",
    "plt.title('Linear regression')\n",
    "plt.show()"
   ]
  },
  {
   "cell_type": "markdown",
   "metadata": {
    "id": "O-dUubTw6zbW"
   },
   "source": [
    " \n",
    "### Cost Function\n",
    "There might be multiple lines that can fit the training data. How to choose the best fit? This is where optimization of cost function comes into play. A line is said to best fit the given training data if it optimizes (minimizes) the cost function for that training data. \n",
    "\n",
    "Before moving on to gradient descent, it is important to know about the cost function used by linear regression i.e. MSE (Mean Squared Error). It is computed as the sum of squared differences between the actual target values and the predicted values averaged over all training examples.\n",
    "\n",
    "Cost function as a function of parameters $\\theta = [\\theta_0, \\theta_1,..., \\theta_n]^T$ can be formulated as:\n",
    "\n",
    "<center> $J(\\theta) = \\frac{1}{m}\\Sigma_{i=1}^m (h_\\theta(x^{(i)})-y^{(i)})^2$ </center>\n",
    "\n",
    "where\n",
    "- $h_\\theta(x^{(i)})$ is the predicted target value\n",
    "- $y^{(i)}$ is the actual target value\n",
    "\n"
   ]
  },
  {
   "cell_type": "markdown",
   "metadata": {
    "id": "20ToIx1hLWtc"
   },
   "source": [
    "### Visualizing the cost function\n",
    "\n",
    "We can visualize the cost function on a 3D surface for different pairs of $\\theta_0$ and $\\theta_1$ as follows:"
   ]
  },
  {
   "cell_type": "code",
   "execution_count": 38,
   "metadata": {
    "colab": {
     "base_uri": "https://localhost:8080/",
     "height": 265
    },
    "id": "RTFJIfJht4Re",
    "outputId": "6a7472a7-a000-4acf-df75-8e61681d7b16"
   },
   "outputs": [
    {
     "data": {
      "text/plain": [
       "<matplotlib.legend.Legend at 0x7f320909a090>"
      ]
     },
     "execution_count": 38,
     "metadata": {},
     "output_type": "execute_result"
    },
    {
     "data": {
      "image/png": "[encoded data removed]",
      "text/plain": [
       "<Figure size 432x288 with 1 Axes>"
      ]
     },
     "metadata": {
      "needs_background": "light"
     },
     "output_type": "display_data"
    }
   ],
   "source": [
    "# we have taken the ranges closer to the expected solution\n",
    "slope = np.arange(-2.5,11.5,0.5)  \n",
    "bias = np.arange(1, 15, 0.5)  \n",
    "# w0, w1 = np.meshgrid(slope, bias)\n",
    "\n",
    "w0 = np.tile(slope, (100,1)) # here 100 is the number of examples in X\n",
    "w1 = np.tile(bias, (100,1))\n",
    "\n",
    "# compute predicted values\n",
    "predictions = w0*X + w1  \n",
    "\n",
    "# compute loss as squared errors\n",
    "loss = np.power((y-predictions),2) \n",
    "\n",
    "fig = plt.figure()  \n",
    "ax = fig.gca(projection='3d')  \n",
    "surf = ax.plot_surface(w0,  \n",
    "  w1,  \n",
    "  loss,  \n",
    "  label=\"Loss surface\",  \n",
    "  cmap='viridis', edgecolor='none')  \n",
    "surf._facecolors2d=surf._facecolors3d  \n",
    "surf._edgecolors2d=surf._edgecolors3d  \n",
    "ax.set_xlabel('Slope')  \n",
    "ax.set_ylabel('Bias')  \n",
    "ax.legend()"
   ]
  },
  {
   "cell_type": "markdown",
   "metadata": {
    "id": "UAycF4d1PQai"
   },
   "source": [
    "\n",
    "### Gradient Descent\n",
    "\n",
    "The general idea of gradient descent is to tweak the parameters iteratively in order to minimize a cost function. \n",
    "\n",
    "- To implement Gradient Descent, take the gradient (partial derivative) of the cost function w.r.t. each model parameter $\\theta_j$. \n",
    "- In other words, we need to calculate how much the cost function will change if $\\theta_j$ is changed a little bit.\n",
    "- Then, update the parameters so as to go in opposite direction of the gradients to move towards minimum of the cost function.\n",
    "\n",
    "**Note:** Gradient is the direction of steepest ascent. That's why for minimization tasks, we calculate the gradient and perform subtraction during updation of parameters. \n",
    "\n",
    "**Cost function of linear regression:**\n",
    "In our example, we have just one input feature $x_1$. Let's introduce another feature $x_0=1$ for all the training examples just to make the calculations convenient. So, linear regression model can be formulated as follows:\n",
    "\n",
    "<center> $ h_\\theta(x^{(i)}) = \\theta_0x_0^{(i)}+\\theta_1x_1^{(i)}$ </center>\n",
    "\n",
    "Linear regression uses mean squared error as the loss function which is given as follows over $m$ examples:\n",
    "\n",
    "<center>$ J(\\theta) = \\frac{1}{m}\\Sigma_{i=1}^m (h_\\theta(x^{(i)})-y^{(i)})^2 $</center>\n",
    "\n",
    "At every iteration, compute the gradient of $ J(\\theta) $ w.r.t all the parameters.\n",
    "\n",
    "<center>$ \\Delta_j(J(\\theta)) = \\frac{2}{m}\\Sigma_{i=1}^m (h_\\theta(x^{(i)})-y^{(i)})x_j$</center>\n",
    "\n",
    "The above steps can be performed in one go using numpy using vectorized notation as follows:\n",
    "\n",
    "<center> $ h_\\theta(X) = X\\theta$</center>\n",
    "\n",
    "**Note:** If we are taking $\\theta$ as a column vector, then it goes as $\\theta^{T}X$\n",
    "\n",
    "Gradient vector is computed as follows:\n",
    "\n",
    "<center> $\\Delta(\\theta) = \\frac{2}{m} X^{T}(X\\theta  -  y) $ </center>\n",
    "\n",
    "Update the parameters as follows:\n",
    "<center> $\\theta := \\theta - \\alpha\\Delta(\\theta) $</center>\n",
    "\n",
    "\n",
    "Here $\\alpha$ is the learning rate that controls the step size to update the parameter values. \n",
    "\n",
    "**Learning Rate**\n",
    "<br>\n",
    "The learning rate $\\alpha$ is used to decide on the step size while updating the parameter values. A low value of $\\alpha$ may result in very slow convergence towards the minima, whereas a high value of $\\alpha$ might lead to overshooting the minima, sometimes also leading to divergence. \n",
    "\n",
    "**Note:** One interesting thing to note about linear regression is that its loss function is convex function and there is just one global minimum, and we don't need to worry about being stuck at a local minima (that may be a matter of concern in other algorithms such as neural networks).\n",
    "\n",
    "**Types of gradient descent**\n",
    "<br>\n",
    "Depending on how much of the training data is considered while gradient calculation during each iteration, there can be three possibilities to implement gradient descent algorithm.\n",
    "- Batch Gradient Descent: Entire training set is used at each iteration to compute the loss function and update parameters using gradients.\n",
    "- Stochastic Gradient Descent: One random example is chosen at each iteration to compute the loss function and update the parameters using gradients.\n",
    "- Mini-batch Gradient Descent: A random mini-batch smaller than the entire training set but larger than a single instance, is used at each iteration to compute the loss function and update parameters using gradients.\n",
    "\n",
    "### Batch gradient descent\n",
    "``` \n",
    "  for i in range(num_iterations): \n",
    "      for example in range(num_examples): # we have to go through whole dataset every iteration\n",
    "          gradients = 2/num_examples * X_b.T.dot(X_b.dot(theta) - y) # compute gradients for all examples\n",
    "          theta = theta - alpha * gradients # updation rule\n",
    "\n",
    "```\n",
    "\n",
    "$ num\\_iterations $ depends on when our algorithm is likely to converge, we can stop early by keeping a check on the gradient.\n",
    "\n",
    "Now let's see batch gradient descent in action for our hypothetical data."
   ]
  },
  {
   "cell_type": "code",
   "execution_count": 39,
   "metadata": {
    "colab": {
     "base_uri": "https://localhost:8080/"
    },
    "id": "7I35sQrQPeuA",
    "outputId": "874b06b9-407d-434f-a3e6-206a7746f959"
   },
   "outputs": [
    {
     "name": "stdout",
     "output_type": "stream",
     "text": [
      "(100, 2)\n"
     ]
    }
   ],
   "source": [
    "alpha = 0.1 # this value of learning rate often works\n",
    "num_iterations = 50\n",
    "num_examples = 100\n",
    "\n",
    "\n",
    "'''np.c_ is used to concatenate, initially our input is one-dimensional array,just one variable (or feature as we can say)\n",
    "but now we can add another column (feature) consisting of all ones, so that when we do the dot product, it gets multiplied with the bias term'''\n",
    "X_b = np.c_[np.ones((100,1)), X] # add x0=1 to each instance\n",
    "\n",
    "print(X_b.shape)"
   ]
  },
  {
   "cell_type": "markdown",
   "metadata": {
    "id": "Z10B-e8q7Tek"
   },
   "source": [
    "Randomly initialize the parameters $\\theta$ (theta).\n",
    "<br>\n",
    "**How many parameters do we need to initialize?** Number of features in training data + 1 (bias)\n",
    "\n",
    "In our example, we need two parameters."
   ]
  },
  {
   "cell_type": "code",
   "execution_count": 40,
   "metadata": {
    "colab": {
     "base_uri": "https://localhost:8080/"
    },
    "id": "pWSIef15TsO7",
    "outputId": "5775ee4d-8241-4311-8a7d-df1ea40f145a"
   },
   "outputs": [
    {
     "name": "stdout",
     "output_type": "stream",
     "text": [
      "[[0.01300189]\n",
      " [1.45353408]]\n"
     ]
    }
   ],
   "source": [
    "theta = np.random.randn(2,1) # start with random values of parameters, here we need two parameters\n",
    "print(theta)"
   ]
  },
  {
   "cell_type": "code",
   "execution_count": 41,
   "metadata": {
    "colab": {
     "base_uri": "https://localhost:8080/"
    },
    "id": "NYkjrVfMTyXc",
    "outputId": "b42f5aa8-b245-4c91-cdc9-0e2a137aface"
   },
   "outputs": [
    {
     "data": {
      "text/plain": [
       "(2, 1)"
      ]
     },
     "execution_count": 41,
     "metadata": {},
     "output_type": "execute_result"
    }
   ],
   "source": [
    "theta.shape"
   ]
  },
  {
   "cell_type": "markdown",
   "metadata": {
    "id": "t6tFirzv7thU"
   },
   "source": [
    "The vectorized implementation of batch gradient descent is done below."
   ]
  },
  {
   "cell_type": "code",
   "execution_count": 42,
   "metadata": {
    "id": "rxvyVjsQTzBU"
   },
   "outputs": [],
   "source": [
    "def plot_data(X, y, theta):\n",
    "    predictions = X.dot(theta)\n",
    "    X_without_x0 = X[:,1]\n",
    "    plt.plot(X_without_x0, predictions, color = 'red')\n",
    "\n",
    "\n",
    "    # the code below follows the same algorithm given above, \n",
    "    # but just implemented in vectorized form\n",
    "    def batchGD(X_b, y, theta, num_examples, num_iterations, alpha):\n",
    "        plt.figure()\n",
    "        past_costs = []\n",
    "        past_thetas = [theta] # originally our initial values\n",
    "        past_slopes = []\n",
    "        past_biases = []\n",
    "        plt.scatter(X,y, marker='o') # makes the base plot\n",
    "        for iteration in range(num_iterations):\n",
    "            gradients = 2/num_examples * X_b.T.dot(X_b.dot(theta) - y) \n",
    "            prediction = np.dot(X_b, theta)\n",
    "            error = prediction - y\n",
    "            cost = 1/(2*num_examples) * np.dot(error.T,error) #np.dot(error.T,error) to calculate sqaured errors\n",
    "            past_costs.append(cost)\n",
    "            theta = theta - alpha * gradients # update parameters\n",
    "            past_thetas.append(theta)\n",
    "            past_slopes.append(theta[1])\n",
    "            past_biases.append(theta[0])\n",
    "            plot_data(X_b, y, theta)\n",
    "            plt.title(f'Linear Regression with batch gradient descent with alpha = {alpha}')\n",
    "        return past_thetas, past_costs, past_slopes, past_biases\n",
    "    # plt.show()"
   ]
  },
  {
   "cell_type": "code",
   "execution_count": 43,
   "metadata": {
    "colab": {
     "base_uri": "https://localhost:8080/",
     "height": 315
    },
    "id": "gfdRQdV1UvQN",
    "outputId": "e36cc263-bc31-4a3a-c8d0-bb174f1f541c"
   },
   "outputs": [
    {
     "name": "stdout",
     "output_type": "stream",
     "text": [
      "<class 'numpy.ndarray'>\n",
      "(100,)\n"
     ]
    },
    {
     "data": {
      "image/png": "[encoded data removed]",
      "text/plain": [
       "<Figure size 432x288 with 1 Axes>"
      ]
     },
     "metadata": {
      "needs_background": "light"
     },
     "output_type": "display_data"
    }
   ],
   "source": [
    "past_thetas, past_costs, past_slopes, past_biases = batchGD(X_b,y,theta,100,100,0.1)\n",
    "flatten = np.concatenate(past_costs)\n",
    "past_costs = flatten.ravel()\n",
    "print(type(past_costs))\n",
    "print(past_costs.shape)\n",
    "past_costs = list(past_costs)"
   ]
  },
  {
   "cell_type": "markdown",
   "metadata": {
    "id": "cVOFOzSNVaKW"
   },
   "source": [
    "This is almost similar to what was given by the inbuilt LinearRegression of Scikit-learn."
   ]
  },
  {
   "cell_type": "code",
   "execution_count": 44,
   "metadata": {
    "colab": {
     "base_uri": "https://localhost:8080/",
     "height": 281
    },
    "id": "hteF7uFPVYX8",
    "outputId": "0570571d-936d-4b0e-e46b-ffbc70977268"
   },
   "outputs": [
    {
     "data": {
      "image/png": "[encoded data removed]",
      "text/plain": [
       "<Figure size 432x288 with 1 Axes>"
      ]
     },
     "metadata": {
      "needs_background": "light"
     },
     "output_type": "display_data"
    }
   ],
   "source": [
    "# try a smaller value of learning rate\n",
    "\n",
    "batchGD(X_b,y,theta,100,50,0.002);"
   ]
  },
  {
   "cell_type": "code",
   "execution_count": 45,
   "metadata": {
    "colab": {
     "base_uri": "https://localhost:8080/",
     "height": 281
    },
    "id": "TQnSToW5K2MS",
    "outputId": "0dc15e7b-2565-48d1-e867-0d369105bfd4"
   },
   "outputs": [
    {
     "data": {
      "image/png": "[encoded data removed]",
      "text/plain": [
       "<Figure size 432x288 with 1 Axes>"
      ]
     },
     "metadata": {
      "needs_background": "light"
     },
     "output_type": "display_data"
    }
   ],
   "source": [
    "# try a larger value of learning rate\n",
    "\n",
    "batchGD(X_b,y,theta,100,500,0.5);"
   ]
  },
  {
   "cell_type": "code",
   "execution_count": 46,
   "metadata": {
    "colab": {
     "base_uri": "https://localhost:8080/",
     "height": 312
    },
    "id": "7GbNEvPG12qi",
    "outputId": "886bbb0a-9700-4bce-b364-3876ad6cb1cb"
   },
   "outputs": [
    {
     "name": "stdout",
     "output_type": "stream",
     "text": [
      "<class 'numpy.float64'>\n"
     ]
    },
    {
     "data": {
      "image/png": "[encoded data removed]",
      "text/plain": [
       "<Figure size 432x288 with 1 Axes>"
      ]
     },
     "metadata": {
      "needs_background": "light"
     },
     "output_type": "display_data"
    }
   ],
   "source": [
    "import matplotlib.animation as animation\n",
    "print(type(past_costs[1]))\n",
    "# plot the cost function\n",
    "plt.title(\"Cost function J\")\n",
    "plt.xlabel(\"No. of iterations\")\n",
    "plt.ylabel(\"Cost\")\n",
    "plt.plot((range(1,101)),past_costs)\n",
    "plt.show()"
   ]
  },
  {
   "cell_type": "markdown",
   "metadata": {
    "id": "6jx8jYAU8IFM"
   },
   "source": [
    "From the above plot, we can see that initially the cost function is high but it starts decreasing with every iteration."
   ]
  },
  {
   "cell_type": "markdown",
   "metadata": {
    "id": "CNPIttps8yTD"
   },
   "source": [
    "### Visualizing the Gradient Descent in action\n",
    "\n",
    "Refer to https://matplotlib.org/stable/api/animation_api.html for animation using matplotlib."
   ]
  },
  {
   "cell_type": "code",
   "execution_count": 2,
   "metadata": {
    "colab": {
     "base_uri": "https://localhost:8080/",
     "height": 1000
    },
    "id": "fxe7m1EK5VGQ",
    "outputId": "987fb41f-7a22-41f7-bfde-8feaebc67839"
   },
   "outputs": [
    {
     "name": "stderr",
     "output_type": "stream",
     "text": [
      "/opt/anaconda3/lib/python3.8/site-packages/scipy/__init__.py:138: UserWarning: A NumPy version >=1.16.5 and <1.23.0 is required for this version of SciPy (detected version 1.23.2)\n",
      "  warnings.warn(f\"A NumPy version >={np_minversion} and <{np_maxversion} is required for this version of \"\n"
     ]
    },
    {
     "ename": "NameError",
     "evalue": "name 'plt' is not defined",
     "output_type": "error",
     "traceback": [
      "\u001b[0;31m---------------------------------------------------------------------------\u001b[0m",
      "\u001b[0;31mNameError\u001b[0m                                 Traceback (most recent call last)",
      "\u001b[0;32m<ipython-input-2-d07857471f7c>\u001b[0m in \u001b[0;36m<module>\u001b[0;34m\u001b[0m\n\u001b[1;32m      2\u001b[0m \u001b[0;32mimport\u001b[0m \u001b[0mnetworkx\u001b[0m \u001b[0;32mas\u001b[0m \u001b[0mnx\u001b[0m\u001b[0;34m\u001b[0m\u001b[0;34m\u001b[0m\u001b[0m\n\u001b[1;32m      3\u001b[0m \u001b[0;31m# Animation\u001b[0m\u001b[0;34m\u001b[0m\u001b[0;34m\u001b[0m\u001b[0;34m\u001b[0m\u001b[0m\n\u001b[0;32m----> 4\u001b[0;31m \u001b[0mfig\u001b[0m\u001b[0;34m,\u001b[0m\u001b[0max\u001b[0m \u001b[0;34m=\u001b[0m \u001b[0mplt\u001b[0m\u001b[0;34m.\u001b[0m\u001b[0msubplots\u001b[0m\u001b[0;34m(\u001b[0m\u001b[0;34m)\u001b[0m\u001b[0;34m\u001b[0m\u001b[0;34m\u001b[0m\u001b[0m\n\u001b[0m\u001b[1;32m      5\u001b[0m \u001b[0;31m# ax = plt.axes()\u001b[0m\u001b[0;34m\u001b[0m\u001b[0;34m\u001b[0m\u001b[0;34m\u001b[0m\u001b[0m\n\u001b[1;32m      6\u001b[0m \u001b[0mplt\u001b[0m\u001b[0;34m.\u001b[0m\u001b[0mscatter\u001b[0m\u001b[0;34m(\u001b[0m\u001b[0mX\u001b[0m\u001b[0;34m,\u001b[0m\u001b[0my\u001b[0m\u001b[0;34m)\u001b[0m\u001b[0;34m\u001b[0m\u001b[0;34m\u001b[0m\u001b[0m\n",
      "\u001b[0;31mNameError\u001b[0m: name 'plt' is not defined"
     ]
    }
   ],
   "source": [
    "from matplotlib.animation import FuncAnimation, PillowWriter\n",
    "import networkx as nx\n",
    "# Animation\n",
    "fig,ax = plt.subplots()\n",
    "# ax = plt.axes()\n",
    "plt.scatter(X,y)\n",
    "line, = ax.plot([],[],lw=2, color='red')\n",
    "annotation = ax.text(-1,100,'')\n",
    "# annotation.set_animated(False)\n",
    "\n",
    "# Generate the animation data\n",
    "def init():\n",
    "    line.set_data([],[])\n",
    "    annotation.set_text('')\n",
    "    return line,annotation\n",
    "\n",
    "    # animation function, called sequentially\n",
    "    def animate(i):\n",
    "        x = X_b[:,1:]\n",
    "        y = past_thetas[i][1]*x + past_thetas[i][0]\n",
    "        line.set_data(x,y)\n",
    "        annotation.set_text(str(i))\n",
    "    return line,annotation\n",
    "\n",
    "anim = animation.FuncAnimation(fig, animate, init_func=init,frames=100,interval=100,blit=True)\n",
    "from IPython.display import HTML\n",
    "# HTML(anim.to_html5_video())\n",
    "anim.save('anim')\n",
    "HTML(anim.to_jshtml())\n"
   ]
  },
  {
   "cell_type": "code",
   "execution_count": null,
   "metadata": {
    "colab": {
     "base_uri": "https://localhost:8080/",
     "height": 573
    },
    "id": "GQpTsuPU9HAl",
    "outputId": "8e700d03-b08d-464d-9569-3b5349fd3b82"
   },
   "outputs": [
    {
     "data": {
      "text/html": [
       "<video width=\"432\" height=\"288\" controls autoplay loop>\n",
       "  <source type=\"video/mp4\" src=\"data:video/mp4;base64,AAAAHGZ0eXBNNFYgAAACAGlzb21pc28yYXZjMQAAAAhmcmVlAABdw21kYXQAAAKtBgX//6ncRem9\n",
       "5tlIt5Ys2CDZI+7veDI2NCAtIGNvcmUgMTUyIHIyODU0IGU5YTU5MDMgLSBILjI2NC9NUEVHLTQg\n",
       "QVZDIGNvZGVjIC0gQ29weWxlZnQgMjAwMy0yMDE3IC0gaHR0cDovL3d3dy52aWRlb2xhbi5vcmcv\n",
       "eDI2NC5odG1sIC0gb3B0aW9uczogY2FiYWM9MSByZWY9MyBkZWJsb2NrPTE6MDowIGFuYWx5c2U9\n",
       "MHgzOjB4MTEzIG1lPWhleCBzdWJtZT03IHBzeT0xIHBzeV9yZD0xLjAwOjAuMDAgbWl4ZWRfcmVm\n",
       "PTEgbWVfcmFuZ2U9MTYgY2hyb21hX21lPTEgdHJlbGxpcz0xIDh4OGRjdD0xIGNxbT0wIGRlYWR6\n",
       "b25lPTIxLDExIGZhc3RfcHNraXA9MSBjaHJvbWFfcXBfb2Zmc2V0PS0yIHRocmVhZHM9MyBsb29r\n",
       "YWhlYWRfdGhyZWFkcz0xIHNsaWNlZF90aHJlYWRzPTAgbnI9MCBkZWNpbWF0ZT0xIGludGVybGFj\n",
       "ZWQ9MCBibHVyYXlfY29tcGF0PTAgY29uc3RyYWluZWRfaW50cmE9MCBiZnJhbWVzPTMgYl9weXJh\n",
       "bWlkPTIgYl9hZGFwdD0xIGJfYmlhcz0wIGRpcmVjdD0xIHdlaWdodGI9MSBvcGVuX2dvcD0wIHdl\n",
       "aWdodHA9MiBrZXlpbnQ9MjUwIGtleWludF9taW49NSBzY2VuZWN1dD00MCBpbnRyYV9yZWZyZXNo\n",
       "PTAgcmNfbG9va2FoZWFkPTQwIHJjPWNyZiBtYnRyZWU9MSBjcmY9MjMuMCBxY29tcD0wLjYwIHFw\n",
       "bWluPTAgcXBtYXg9NjkgcXBzdGVwPTQgaXBfcmF0aW89MS40MCBhcT0xOjEuMDAAgAAAM1dliIQA\n",
       "E//+97GPgU3IAA2XOop6H+EVsfSQUXqx2aBk6gAAAwAAiYGOFkC1uVpxUAAA47z/ogV3/fwALyUD\n",
       "BQ5sYEelvdJO52DOjTKVvJb1YiocmRmaTrxlL/wT4jfZOmhIC1+hiZTRqtWhlDEAKk8TCspf8pRI\n",
       "T7vLyEE9Zu+XD1kCbp7VhsfSTf/V5IH8Mh4iEP2vuMvWPpjpM/NqOPSfSA99w8OkH61342GJXbvC\n",
       "V1TnHEo3diScybmX6og29CXaEbTJ6BkC1BdhdAqBD7A9IRyx7WJXtxhw0SMJ5U21A+20L1i1MEg3\n",
       "8LaQ1s/VxIFCA8iRIh8/oUJ8DZ3cKkhHQGrUzQp/8EETItcsNCsY3WQ4vFM73nu1l7MLoWE7dgub\n",
       "vh+MBfWpi0n03GJhm+W7fnErKBp7YgP3qe8huXpwtGwqEhTLhEq1936m7V/12YPMeK0e3sUZXVdg\n",
       "RpiPQzDepNeJVuWqDuEfGCgi7EE73KFJzOVu8p+BTWtFGAv6fI9xL+M9icLoNZqDbG0s6emz9Gy6\n",
       "ZDmXkXFXR2/jf0oxwvv2z7OIiZKcYAFCnTmP3pHDfcGVnYGuJGVy5yL8zVqPxTueUWulbIKfD7ah\n",
       "ou9+k91qACAs40lI+snO8VOYjNr2939UpPTph/FtHn/dRCif75sE0vsURoFzAeypxfuFRURuwby3\n",
       "2oc+MRFVQeb+K1An8xwBk1GxdR9w2LPlzMv6l5F1TaGUFwIdt5x3AWDY/mlzXrrleQr6QC6aI6Tr\n",
       "3T8LCETs//9xT7pt6AbrTekZuVG/1xFUjQ8YhqHgIJwioav2FncMFN4p5kl8y4pH7GBVDRPmuuDv\n",
       "/clOr/0a+woY374CR1Z3DlmszaMWnix6c2bBp3eFMNrm2pSIJw9VcyITcP/7Om1NRcuQkihtE6Es\n",
       "sgXLqJaPyQtOnyLIt34ZKHjjg7h6HX+5nIJ8qETL/FesNHJdmyHj6pUnPFwK3/XtRB/anoEnXb2q\n",
       "VutJ0GSEXeU7u96uI5fXfpk2uxe1jLiOl4kedZqKywc54lF1VcqgXm4pk+MTG1KYDkx0pyFBKTSu\n",
       "3XbViaD4RBur5JmM5LWNM60ohCkRlrBomz6mV4Gm4/zfh6bfuEkKt4rG80adjmMhKd8QrC8rLvIe\n",
       "hLAXdd0Bwv6q6+He4+oQEwVyoD/YONkfTEr5zyjmoAg9BnkDgDinoQSPEYyKKlw3uQhjPIINUUtT\n",
       "2w8Vc3d7lrf4AMQydArlADAOYdT7n8O+CkvL0CARCbQZt3VwSD7+UORH8hK+PPkDPPRCNE4CcvGy\n",
       "kBpykiRgKZiSS33HwXvfRSmeiaT7f1jqxma4JAJ5s05spVGuKJbklLx0gQBjva1aKAAC3MMc5Ti3\n",
       "GTamsJmcMq78UyTa5JPD8xc8emSErT5dUbikFVY3Bhoe+64Kpz3PtlhaSwVaruzyUeMTysrkthlh\n",
       "PplY6bMYemk0qrX2Swy/fRJ23B7x0/ZeAbBuNeVldbmMS7KWZKkB99/0ITeDtNQrJ5p7htVMxrcx\n",
       "y5JHKXvQsOvyUSWmJKV/28uS6n788+nDpEsW0UfnpWdipLizyklnU8CZ8w/7TXyWxURv1Dtkqdey\n",
       "j3IeQR9k+EqOfl8UZY/8vLHY/4gW6EHJGnmRV1mJOUt/r011zOHzthTHDWTHCSHSVKOwbrcur7mo\n",
       "4TT1bE11u/Z+Bo7OFQ8uEhp7pYebHxGr5nhW5/IJDCdAdT5IAJXRhWf9g5rmhH8kaLxSI0n9pE0Y\n",
       "DrDUDD84hOXKAaDxJnp70N6wRsILsjcMQHRoEJWtLBQ1ROkYn+c5RDNlLxUjs/LTTc0nSSvcI+/3\n",
       "jB5tiiVKRkGL7Q4RsbfaMKcoindLroKEPoHcGQs9yhzcsrwXDODWBPElrSlQCrSWCS7jjl5OSjWj\n",
       "TXag3OR79AOzuy/UjeSYynuL0pBbVSatbVVkMKjEjzvcLCefO4mznJmMZy0P+8uIq8QqgsSNgX0U\n",
       "3/itoQFgrFfBNRoHK8HnKtZcIKJrNEIxDBnwH90lTaVP7UO/tr6ZSB3SJ0ikHnTQ0gh57AMdoomM\n",
       "QCN2Lm+oZLmAzv1npGkFPkJlpeSrhjxJse/mFO3zvLlp9IU7sYwMRpr5XQhf3y+8ZX4bLco01yAh\n",
       "QFq3sz10DnJRSUbmv5hhD0yp6hJw2RF+2++YFiFX8OKzDduaALf96GzDL3ttiAmjoBNeMUZzK+S8\n",
       "BmeBNdRLMCp4na5toMa44DEIeUz4yIVFIGxH6yg3eIxYTlZYLeAmf70hUex1wxNPy0ZW7/Q71I/x\n",
       "IEz0oWyimsBRMfTaoUeFMd9buu0S9mKDSGSv71Og2gX7gtqxQzAKBGtzWWZGFgFhaGH3xYAoZSsx\n",
       "+uoWEphcESTC8ntYFhriKAecze36gTIGh9hLpHp7BM1Fh98ZiVQJx9/PfjEzSHXuuE5flbxJ26Qy\n",
       "HLsvq/kIzP5gqrvFCCxu/GYNZFZt0rRif2Ll8UZGHD2SIMDE5d48Z9AMDnfQXUIBORnS9vuo5/ks\n",
       "eo4Oqcf/C4A8/mrhOtN1S7Ev3ao24m3PXyMD80+fZn8m40ycNvUwxndpdLQIyKUHL+UcYnd4oyst\n",
       "ZHAH14smy5LUbhmGqGSgNiv7e9WQVdMP8m1a0tjIEo3HbupM31DQnOwYCDPX2KKfd5ygbXAM6Adb\n",
       "vRZORl4CF4FFEuae8DJ2hdWX2zczTnNajMAGaEZuAUZ5cYi90h9oNOyCWN3/PhpRS1+6pTbkYfqe\n",
       "+QouW5T2eBrRzWfoFYA4zYBGZTflc8ZbqUwsYwk9wbGKpIoP4/BEUhK8kY5IDbkF99YTx3+DHkX+\n",
       "FUMF8AIEgtbHD5cDzowcU8nEYGZZJVfag+RBC8km4fgWxLRCr7/mMZB5Hvxg+99ieKrRZpG6lDyU\n",
       "ZDnL1OOHtqKRrpL+DgC6cEJqnIc8T7ekZmJzxspTVbku7Lc4VPUdMIzLZzq9j3oBwXdfjBJE+cFk\n",
       "d9UIGhxEWmy1lfCzp2Nrtla/6/CfYDjxtuGNHWA28pfHS6urb2lf1gkooyicmh9XitzB62dxTq/V\n",
       "LuvBrikC0GkrF1jNei2X/+H0CJXooet6skr3euciFUWaXHTpQmCVD+yX3dzcMB7e6oIwCMytKWky\n",
       "bpH6ptZsCQrjeZXcQfDTgOaUTRjzUxYSuSNbMxuEq5941AI/gF36oiXcri9ew/H/W6sSPenKDk/+\n",
       "oxM6/pM/Qv2t8jBY8Ej9RqLWwlQtK5AzWTrs5RGYeH+YQdheHk7WMnlCkVUPyUDjvz4aBZRySNkB\n",
       "lHzx+aUj+u8zk438qp3QJlwmjTZpOXesxl+ASLEQ0sDMAGeUMsnrTMYm+AG1USTlLnNJduxQRHpI\n",
       "VumX93qn5VCy0REPJ0e03+bqYM4wg8P01FFDffL+f9IOE7dZhMgbjIeDiwM9u0T01PbRNQMI9U7Z\n",
       "f0SJqFyae/dE32C/xJ1Wnf9egCjI5Yd9d1sPcWERow2qT9ag9jg4DygckpBxDLO21cQtvldKlZgz\n",
       "7YScHKJ1OuBnTY02JNRXJTAUD5OhujVqsMPGnyiN4Z/cWSwA5Lmu6eklOQRhQ3XNRzYyXuZONLhM\n",
       "JHsIUGz2cUKMFAlCq2jtrhzoy6CeM/m5BClx6B/6V6Rxs40DdZTFxlmKfwV32e7Z27dCGTPRPLwv\n",
       "mn2mAdAopGAbqNFzvUW3Q2/hWQ3JzTnmvIA6euuqWwlv2Uxljrdd3ltQkYcrW8ow7ooe0wVqGIjV\n",
       "VT7n5DI5wJn5XPNhZlABHkOeQ4A0ECUkBGOV7I6aemVPascFCJmVdIaF5mfFPwWWtUQw02C9f3Tp\n",
       "yj65cJH9cbKqCYpssvtLIbxYRKeNny8cM41HBxqFqW01ll9K6JKSD9mKUuCQixp8io5jOHkYfwQf\n",
       "am0mD0t56Jq2KmZUzUp+Fa989lK9rRXFnwGIQawtcmLN25Mm7JqDcI97Ud6aMJXo+OfUjDAmv5pQ\n",
       "PaG1HE/pRQNBnjsxbRvVP4b7i72CP41HUYWTcbcEEngO0ynOPB94h8RK6xoXp1T2ZzkAfqwBsxrm\n",
       "nm4UP+Z13rmRLqi+X6covT5gZRaK37nI373PZQGaQNH6uC1OZYZ2xT1joKmJiAy3YKt6857qItdj\n",
       "QghlHB0ecxS8jti11Jl+hPTXOQE4xos69yUhjVLZmWVtOdyI7CAWB705KsCwHSAEWoVXFzJPdx0F\n",
       "Dc4QRyLLBT0nactOq1jj+og+qImne+/2/GdFUgzjqU4++y5sm/s7GHgT8qk/5D6UG5FwPVZkTVJQ\n",
       "REy6CycnD1O5GZBan1y0SPcI7yzsoDdEbzFe/AbfepmVeqRGZT96nh0upM+abXhqjyrzVv7gvSvA\n",
       "SpCm3/p3Vn1R9lHz9nttRYNRr6vsE8+Zu/6dq3fc3yB6w8caotuWHH9Du82s+O8DH6bi1WOQ61OH\n",
       "xfxyu1EGz/AM7raq7SuMmeIvxX3+dze2fXf5oSZTUhecatAci6w4utxNd0ukXytfMtwENXiB3XVT\n",
       "nCvZqBgumB8bvKGxrI/sY7F2lOZkz9assNHO9xHjjCNB8QAsiVasSNMW3tPx4k3fP9ukuQqLlE3Y\n",
       "zieIRFv5sPeFDZQenXJipm7RdPbu5fha3atFqQF+5rwAjcp00b9dkaDe3QsrnZLTYDtuOKPqvaxE\n",
       "ozZ6NvWZ8wERO/CZYqJh9m35Sbk4mhTcmbzxeMmg5pfLZPBydzIbfuF/nSn/shpoLsq/G4N5hP+I\n",
       "yxkMAcIKhTm11Ayjhqr/lujUnmprLUGozs7QsU/HpP0/DTdCo/3MZ+rP6JTPmaWAxZb79Ldxgs0L\n",
       "HQrmTSrfezKZ/ep0qe9LATrzPGjYCWQp560njZOE+UkpH9bqXnYwrhbQvqNflm4bvTtacn/RRntS\n",
       "ZNhzkDSONv4o2GI+fsEFbSqWMib6XJjpjDbeyzoXbpWEyWBZ8p2Y2or9khvkp8L4UuBjqdDaL3Xc\n",
       "CQ/Srf1o1hh8eibR3MdMEMle5KnMASf+mVuj5ZoR2f+k8346/BQLVJ6R5QNZYSixQ18TSbl29eP1\n",
       "+KlNUmXL+TzQMUpQBntEwiUTAjZodbWriLX3a4sVAKIgQD/Gq/z63m/Ge3CbpE//259ahIouvhVN\n",
       "ORfG8huwuG7/gm01kt8G0I8LPGF8kEE7vs30F464miZ6QpD5FKbKZLdXoedFqkv53G4KFslCXEVH\n",
       "/DqC0uZD4DvaFF/8/HM7llFAQQRTIbT+wnL9ych/CyhSqT7QMHSP7ouKrCZ8XFwlzkJywoUL19VE\n",
       "WaCfhJXEWmKc1ooBdHX2J5Jv8rWnrjzS5sY4iDJHgkCQawRQKH83KtEIRSnqE28B6+UKK4fA6+t9\n",
       "t9BSYB46+5RdaXpzKvBDvQSencBr+WL2317ldqt4/7x2OJiBM7Bc6r6d9/bw2JSngsF64uKcIL1Y\n",
       "o5HSc9GMI9MK0oamP2c9W6uF0j3Qg/luQmV5rsxHb/NFxU7Fs+charGJoRD4Suz+UGf+ActvQW+o\n",
       "5TlbUPBSHp3uMtslUtYBBQ+VlLaDSY4Wp1fgYVMhLgelOBWixNHl3eJpbGb+BAgv0mvKzhkJOaZY\n",
       "NNHCojPL329RXQS/UkmShe88J5tW9x9h78TmPky7BdA6/7B7SvoPfQkNl15SLW6OFTgUHwfsD4V2\n",
       "JA+t0cZTN5qbRj4YYJpavzZ/3PhD8mi3kXKdOd7PsrH8x8qGSOPbI6ww/63/2N/nOExl/466HmUi\n",
       "Zr27nhYn3v8yHvHgjimMQCaNRYGF2c3FUqYcAfxiMJbb6g7TgbXzKnp2aAIP4Ps2xrk6mhgWHlLH\n",
       "VKKJ1yrW2zMGUBmM0xp8/eQCWk+Ih3JMZ2lrN100TadT0RseTyixevVyTQBQZjIi06ydJWRWdBhZ\n",
       "E4+mbaoMGDP71URu72AbQ2pML6g0/chzZJ3neDrFyutKiNPEppt6c6NA2v7+1P5rlnQH6z/gbCFw\n",
       "RbUrnJfu1TzODYNFZ6UnnalIeR1bdErbaaptSD2DchSeoC4DwWSJejYVWOlMnz62+jylFKogLIsl\n",
       "6UjVmxJGbB6n2ZA3xj4A+jrX2AwwzKhSVM5zb/vWvq4ZHb5jnEgv3DcGoGCXtUgaVOztv7rB1Jp/\n",
       "4VK8fkagrJ6ZDbQAsYDEyDpFaUNUmbpIj58026ZWPnCTvxOJoyhE3rD8NunINDC81UTfB9IDoGjL\n",
       "F2xB5zqijoJB3e+N1K7P/a5lESAtuVBJrXlP58q3gb2Kf8hbb80krmu8Zs8yvbo5GoP//lodskYV\n",
       "Oweh1Ri3Qh29v0/qrCkyFEZObZggnmTTZEQFLfvdyFSW8CPQvXMzsr98447XqXNnoqHIGOfL1rVR\n",
       "ahcTWQDFj9Bsy1yk4ZICzl0b9zIc2Z2RqARg8ThpQkZAag4w0fgSmLNdhcc+mzReoVqSjy/ytnxD\n",
       "ERGVJ36QJmla8lONAg8Y/WzgsFSWyiHARCBDGyJ01ha+0XZMrhEQwwRrI2v1GP4n5pyUBP+HizYL\n",
       "qKag58M1qeTzniFADuhNgKeu622scsm4Gz8HoqcLlSxGvwIyunpmTl7TLWkjmIU129TaedoUGft+\n",
       "GNKah1mCzKiYTlsh7IpPL9jCd3DjBRwPjTCuXVoNcCoFM1HF0OuaqeaimsXkl+/sfztGPnwL4c79\n",
       "CR6NNZ13m6UHAvVJGcfuIgFJu0xKEvceZZR0Ps0zyH7AaZepRTu6Ig2SSPPQHuh2+61GPvn8PVNI\n",
       "27ZnpA4BEvdKV+cqr3+iVsJQfGbRnIl7fkBGX7rJybGzJdmxTnH7IscMIMU3WB/0lunUcq12b5oJ\n",
       "GTMBJEu64W54T1PgQ/Dxzjcu7URJe5m9BDoRxjL/Cx9Zsn5FkZWZuuTAiVMUbhro1+owNHb6hVhs\n",
       "jqBmWqNl9hgoFUEQPutTFHYCH+8NSG8qRbfnJUVeL3H+0Hm4mk5ed93pBPFatjyoXn3qGu+Z4nzq\n",
       "nC1ntYhiAM3TzUpVLhFw82bny6VuRwvmax31AYmfPPppSSP3H+hNEb59vwxioCVX3Fqar5Y0nM02\n",
       "27AXvZEmPdRM36tkfzWvwgNZNfMr4XRh9d+SlDcv9bp6j4/kNSrmV1DIzeJZhd4LKl8Si2bMVO4e\n",
       "Cd/g9Dz4nPNbn3bFQrEjvL7A1d7ZhjSQT18PoflkyoTLgQAo4lCqYRyQ7VtyW9ohxmwk/Zq5I3OJ\n",
       "+L9/vMDeDVRuRXbfbbGfFHxxK++Z8lhnmuCyea5qFgN1lbwz0bTofsi7T7m5giLZqwo1MJ7c7m2s\n",
       "h4euCznhrmwygoFRRtc15roAJfcbIzEyRnyKv1DSrlQThln8lXdL5AHmmdZuhpIpKGfvTMkLCpwh\n",
       "aSFu2XWJPTfhq3NTCUKWq7YRc5sxLEn93ynxmNbvDwRUmOyN5KMyCPGNf5V/FYgV1TPgHOxUtwY2\n",
       "3RfwUfGtGAuk6QOwRBb7N5CTYmYYyA58RPa9SJajS5J9FbOT6mBvp+AEeRmXmlSFc/+juoExKpJw\n",
       "f3ELOWDOr5ztt9OCaOrKTQqJwGzt/hdM1wO7VFlks5wOWr19Jzu36Ry7RYBN2MO65UkJo68cHopV\n",
       "5+j4IV0ajWEmL88xCuprWZAT0BgBQWz5XqYLp8fXLLr652+eM0lbggtSBTlBhV1b83kYNJn1lXNY\n",
       "GjNNS2NkhNbjDDZxohaPpEo+VyNxnyflZfDxzqcXCDNRYCLXXVIOfpFNUNKVbPRQ9APkOZFp3Pg2\n",
       "OZoCG/w+vFuWILjTcRyKvLoSm+7GSw7FUXs69ZR7lB7wtJN00TKjMDO+B+hu4uX6dvvU5narHOfX\n",
       "cPZ6MEP0Da2lZZToQ7A6dTbqFwti1RPHhKWq4OKlXL0gpiJjJaCzK5AIFYdsnTdImSdhAyL9GDoS\n",
       "GXFEAqvITqzDlCMsWWRtzZrob/9W5HSzcQnCye1TOAP/Wk4eTIYimVNt1TRnpftK+gORQRSH15vF\n",
       "nAttB1XrQSoORez9WHJFPxgq5bHBmTLn0sex0OH17sk/SnQy8uRMTvoH1tgXzZdws/ChVHhv9aFq\n",
       "DN0VNNi/esDPmj7s1iOkFKtXYfswux/wlpJDd+0JJzFgBfdBB7JJMT5pnz1Q6rILIgA1BcKOgH1f\n",
       "hjux5M2+6olzCxKasmq0TfE6a3ZHWWxa4Z5Wzu+v4Ee4SwgQa5K6wYqSWGocNzKccY+6/k7HvmNJ\n",
       "6RXZNNpWvEOTcoNsPA1lTRBaDtC0UTX1moXGfhHSJc2PRk9YJ5bMqdbtUZSY2fhtFdYBAAxSJs4U\n",
       "gpiVwhvp8Z8RxeBgnPNFe3bKikZkMIyJFXajwub99+ej1TkNwfWq/TNIBL7hVHjN37sy8xj3DKkV\n",
       "jb9RLwEBV/sl1g1KPw0fTkdr0vnvcBvzdDiQEzdc2fVfGmLUzqmpbxFIs4ePl6IS5TR6Pi6j8hFf\n",
       "L0FdNjUxdyqREXr47QXrkIt3aM4RP4sYrBDZ/twJNyBU+FxtDeZRIPAQPTHjm/UoK9vL/YFMdYYF\n",
       "3FBNwwW24CdAWbB2cPDwJozCsiTg30ZnHfW//16om+k6NuC9iZUEn6kxpFd+spucsPYFRe0POC9J\n",
       "tj4Og6hNpolrnM7fhxWbGtstti3t9xF8z5hjmf/Li4SJLvBuymQLGKQg+JgPUY8nIp2j3QjWx92Z\n",
       "6jHyNtLS9nCR1sou4aZAlFjB7CqWm/IwVVwUEw0D2hc1nmS5JYqfBqG2X/Ta7dOq71QXNn88wYYb\n",
       "suFBNd9q2/A/FRXXTW/c+y7wUPS/86Rvqjpwsy8t8DWmDMj9fW87hSwGLa8L1zsBTryqtKfpy41t\n",
       "l/FqnzG4iQdUQ7X0qHFApoCoDqyvAg02oBfLB1vPwfl9znbESMXt1SiJCnYE8K145Os1D0fDQ0cE\n",
       "7rVJS95T2vdZ5eBKqcGRsvTvhpqt0jCi3/euTuE/qLMxAERsFiRx5bVEBl7ZqPK7b9MJ6RDywyR/\n",
       "I1scJssx8JYGek1hqiadojpluy7sHQrH04UGd4qh169NaSCs3X2Xden3b9mnBBv99LtWAZU4PjAa\n",
       "xI0wlkdg9b6G2WKb8e2vg2B3goER2Sl9EInBfWup2BcqwFwoeow5GO+IEEVJzn+J6c4U6LhBeq8P\n",
       "TrEmr1koC25XJPtqTLojH+H3fyBrRwKMdEPLWNmEC6VR2YOmsUCBpbY/HXB2i+aNeHM/h9Z25IuR\n",
       "IcJx6mgkrinJfrsbVrCmCr3r+17zpNtpi3CYAEZrIIKAyQJIV/d1kypfiQXFc2tVmBJzD8WJ5Xuu\n",
       "SzAD6VaQVabg/++eSRbCwXjj4E3xH32iIcilocBdA5VjX0SZQ/KuwNFmvO4pUh1C1M66Inp/xWV5\n",
       "IStZnbBbxmbrLTczN0megNtl09vYzhk7iADzVydx6Vd47GeZRGhA0PS73Tx28rQELMQV+9E0pxP+\n",
       "xQRePFoImbCRtOtYe6o3opRC4mkBOnZBoENAjskHrbNQKRf5hrKEaYHPlNeIPJux+M+8w/RezjUQ\n",
       "48bG3b4RSmp64toJSlJavpMq0EI6VzqiXlwyszDBfkFzzlfCa4+m00i0KZP8zaL4T//0gQ0xhW8Y\n",
       "yYep3/wJxoMJnELHuTRO10CqQr501WYrH5gGxx+4M/9HSMEH0yKVJj32eAvROk4Ybv9DG5rqGmpC\n",
       "7i23jSOwJ297wlxMyB0bJbt8moSQ9s+OETkNlTPxhWohjums+s8d8OU2ShSLsPvzMtm4qHnmTbYp\n",
       "/fnWAk9IfO4Nq+/Q28f4BNOI1EGqP/2J3KAIj+zUtc3bwB4y+TN84SoMbQqYrpT0HjT/e5xYD5Jn\n",
       "kj5KozRC+EX6Xhy9euZGWg9WeX+ZxcrJBQ6MiIVZwQazKtksXe7nRSAPgBN1/54f2w/GedYZPzTf\n",
       "SMGRcxCqmeSjSnYZ9m6GaeFi4igJ5Ftj29utXJFGunsq3P3nKbcg7pnRiSUOggjvTv9nuIr1HTAF\n",
       "fCn89nzyOCrUx0B/OLg0p5oNFr+gFTL6HPSTlOL20i0c/9TeERXqRH6t50ubWQsXbLCeG83uWd+n\n",
       "odf2z+F/iKk56mlY2m72DG4Wv7BqWBWL+/zkXvgcO0OGaWiVXe+wYZG0xs64XLyAXkLIapLhxlvc\n",
       "oWkyFy/gjRSlbKDHNQ3xyuADjHEbdhLWmU+dHLy5mzmOXTqZJUXyYQHcXu47WUvaLNvc762Ry8sZ\n",
       "Gga2IV9yYL3rTVeOKN3Iezeo4+8isdy1v72xtxHHZOMp3LOCJV5JHSVrheSLXzK47E8YSE/Fv0Ii\n",
       "QpKhaV74zX6komLRAFTpT9uzSnESek4156ONsmpMY3dINHvgeY2aUAOjldWYh7Y4Yqo0/S54nlFk\n",
       "N2XKNJpTsKAwibvLAUnvXsjr8lxVYK0jP+IHAmSFeolcOKPfbbIcKAHI9VMcXq1X1gpk6zGzP41P\n",
       "BQvh1Yo984kWWKZRgMJoKe4Giiu5eCXDO7t/s/DIA5N+MwZUt08XTFvxGg0B3RZBAL9zs+oZkpqr\n",
       "szyLUtvgQ2dRUgfE4t7nU6ncK4ijiLWDtnlXl8dQfwKL8vpIrRt3Y7Slvt1qQcvUgbtsmTxjhR4V\n",
       "QTj3D2WDRn+6DV3DnwuJpBUDsv39HufryeSO940s2/Glxd3Dil8whwlEXsVUkE3+jymF/1vpBfa3\n",
       "2d/jkIE/DbDhSpaeCxXYKQj6zpjpsxAzD2wxuMEGDeJyaUotOL///J1SwnL/+igvOBHpGGlCPlpc\n",
       "AlZNes6mNzi6bEPbBkHL8pOFxK+l9gThreX7jfWhoLIxZGcLFfnI1oh0Gr+iG3RSTB7Bf4NKqGbr\n",
       "hoQzWmKc0Yv0vH6xKAV7OgT3JeKyicxLx5h6gm6pdtPTJsbzRXvsVWCQ6+cpJOSOmLRB+PyA8hEE\n",
       "X29Acf5OunXMo1VnRsL6gxQWljGoXyv9J8M53DoIl5S2MK5/bQWTlT4rSHtvlqVdap10xEDNWQGt\n",
       "k1uH2JP8dnuZ+FdjgeXfHHRBT4i47KRNJYjGwi0fVPtiJBuhXbcUbxl5Ui5C0OZ4U+9wfc5jTr7E\n",
       "0R6+biRhME2+0xeirVKd8Lt9noquMO4nNWiX8L9qZNM1NbYeOrg96CWUtGkbX1rk73lf1t/9pgfo\n",
       "1izAy+YzW0IlXNSET6/N4QRcTu3K5H/3ULw+9z7D/ZJ64Tk1Cw+rEizcQinEa4f7s8Plv/7+RCbU\n",
       "BJnSXL27JCRot5530wLOPVPERx1FFDfzlayCWaACLWhtb1eoQOcd1uh/71zeLlxkcx09PXMUuwPg\n",
       "+XJXzK2z6nZ6UzQxG5vJSNZPCLB334Dn5FyCT7O6+iZt6PM0IvByWmG38aMJS5eyYCXTdFuLuRv/\n",
       "+mDADaJN9pFGP45yn8hC048cWVkDwpyO8AD7mMdPNK6koCTB4i0ioirQfBTgB7qx6yUsiPu0LkcL\n",
       "RtCMFLXsVwYfwh7bF95GCEu6ns0gdN/bVh//EhjTqmEhLw0CXH/PzJTP07JcACJHIitsG5EEJNIr\n",
       "1EF2p0H3vfcAdYojoQOvoiewVoY2RwLIm4jdlOm3YE39gGO+futgD8xHs4YVApV2i52CLKlXPJK9\n",
       "b0NB9Y1wiKPjednU+FXtU8+NEdGoBHhkiUHqy58ZJjGsR65H+s9zxg6ildIT8rCjV1Ep6dq1RZaP\n",
       "YzjvxZ0Ew4D9TIqmKV4vVF3uQn1B7iOiDbo7e+oGjHnWP+UJcdwn5MUmTZk0JEVOGFjuLUUCMYOt\n",
       "EtbrtXPrsqgBewS4Wwg6G5PhFeLAcv3xa8OrDTp3tvDVg56jAh0srNh2UlMY1Wz0m0UpKD3zTKSJ\n",
       "Eo05x6bfKDs4I60IJH3kaYxwGkVLsHScNL1eDpmRPH0pSyi4No3ywcCsEjhwn3IiVgkHkeG7ERsl\n",
       "ijB6SRMxAOJD8f+gOAPaDiLvYYfxnPOhEGdauHsaTHf0QpyoZXVSz0eC9KNA85KUpcsDPGCX3JNX\n",
       "JtNVqRFXuYBnIgiXPOAfZRP4Qi7vDVlj+pGTEEsP4nkdpe1gD3ca4CxAayvWgQyNFKyashnf5UDv\n",
       "NMC9yxnBslS+VK/nXW6gLuGF18MJZ6rphQ78+uNO+aCQ3x1odkn9Y5CmitgEKelC5El7rN/y8Hxs\n",
       "2qyA53mALhKKKlSd64cTY8wIx4F8rZ0g5EtoeAzHiB/dM6YqkMsmsdEaGr+Y2QEllVc9Ai33A++i\n",
       "YjfucFmtJsmjrPwd4RcXYkmgC26dio1KVdV5Ym6IwKED4a3tCBmZG7DGfIrZUJHdveRpgABuAZjm\n",
       "e4XfMZ7u1SOl1PEJBEtz6LEn+C9m4/T2pzAiRoCq0ELzeh5V7RfI6/4yZqKzYJxtHTa6r+0Hflhr\n",
       "UYph8cAI90d/uL0rzv7TDp8H9YLGbgT9BQOlkxrQoCHycxMeE8DttINtEyhQVXC/9nyvkSGB7p2T\n",
       "GnXZdIWRzH0Og/7Qst5UTvNHlovsTvR+fkEUTkamoR/Yok1/IpG+kutZMwxIn2DSuoXoRcsSfQIG\n",
       "hdpoAJfT01uNhU4vZvYPGgd9nLY2oc3F1BtSXWKOaXgVDDia6SKTzupX9fWJKkn5PixZec2uG5qt\n",
       "3SIjZndO+qVxwFU3izzvo6gretW5roPp0if8yu/JkIRqQR9ydii0ucikgCmVxF1qzEcBez3g6Q9d\n",
       "o4W8mvz9F14f1i+eaiVtsp4iP0s3b3DPAKD7yejlNKp2/357eGzH9dJKBjvpUatk/1BtzqSuAo53\n",
       "VC3nb7WB0n7ddB64pkxrNSqAb1WIC4mOM/P9JiCLMmSqwP9aZQ2EdrlTN2M4bFiDAQd54LRjo7lx\n",
       "W4fs01liRFWIlJE+VoAgaKF5mr4BGVZ2BFmmhBSjRfHZ3/O4tcgoebgdPOvcGBTUo/chf3prz6KY\n",
       "il5Km1Ee7EHelA4/lWTpgPkFNFyB3wU+/NHfDTEbWO9dU07C7qJx/JfTszBKFcZje+RRMF1iasAs\n",
       "9cQ5TpTI/j1+GgXDNGdAYrb40sypqfPnhSWeX9d8J4eO0FAkl1qtTNjLBlKbmy4RwvHq0FK2KaqA\n",
       "y1F6JYQZRevLqirZqURlaNGydLF5Tha418r2wphLWceINt7Ks2s9Y4xC496aDhv5p9r41aXuEgdH\n",
       "aJ+3SW1WdBxstVGYP+APf0P93xpAcKTP7W5wtB7Kvse+14H8mHf/F2+JhKe3Vah3BPJIPBuAfJPl\n",
       "FoH+z6kVPD0nWlaTm/5b0y0ZiKNNp5CXo7y+NzC2QAZosPkzBb7HFVV68LuAiX/dwScuIZdxjsGr\n",
       "s+NwXZtMwCoR9ByD9waOXowkc3jrt7pjYv2orOnFbbTCLd6N2+L72OQbjjQKdehLGDdxa8TP01ys\n",
       "lj6QobhEAUJMxNslKcLuGehVNOZOoXQiKF1Mb893SvZPvqwSktp3B5nhJaDrHykapHPc3Hw9GdPz\n",
       "cyk84+n3nuR9GEYdyM/YgpWh4K9iR1jpfodbzmM1Y5s9A+AL24G8S2EYGRfvoHzT4wnD8cIMi3aU\n",
       "rgxug221CMB49AIBMsmWgA0zFVjMBSNy3GImo72zgexmjY/0SQPidF4O9wZuHn8pjDAV8mtNm740\n",
       "D96adWnnjmSN6NBEC56gTQbtAEKWJArgVyO0mtGXQPPIzgBaJKS8v7HvarkDED91miuQ3ZQRfgYp\n",
       "eZDx5TRiqfEM3hG8fSSOGJGtSF3y/oJU/xAj1/WfZBV1i02q6d/49bYe4OsQXDu9zRIdS0m+79RH\n",
       "LbnEblW1uAVNW5HbiAha6WcvKBT7elogKu7wZ2vTIjxkgLzo0pAKuuZ4eXyZqwoqpsN8tjellgO7\n",
       "YO0LNAMd+lma/orUga9sX3jDoI9zeHOg9qTplyzW9B7RC9M974C57vLK3d8tAAphB1Y132Q/VOAz\n",
       "xsvUI6SXBkmluMeYdbMDeQgQInioGRznfVRogBDxHW9ELfvc7R4Ce3xwzYSqEPpYwboFXyvxvVKz\n",
       "yX5i0PA9cjV0UD7RZZXuntR7yZ5XQWzoc5wSDhH/J7P11ir2NpviAWqAyKktYw6ypaq1xZNEe39I\n",
       "XdnEs9viLvLMqJU8RspPPDrIyBFu3dd3db21VipVQ4o5LemY0f8+8yHtnfSF6Nt6sicZjZKzkeIP\n",
       "fgfhrHhWldHvkJETilHQOnWUvtvOLgTAXBaVKBLGFfqnpm/ptkVQHMuHh3GPb/o5trnuV/u0hebS\n",
       "WdwRJon4cS/ZhoPS1vdkPbCkla84BSTKw4VzsxvLzFb2wXesT3Xl6plG5p3Y2kKReoTNhPb/SEYv\n",
       "mLZBmSkzLOzEqJXcJMLWRUjxafYL959nlEhyAAtzkkFpTJb+bC9VYM+0fmMYEeCD3HkgBMxocaLd\n",
       "USxasNW7oREEs3vvjzAaZoaTlK9/xXBM9l1GOhlzYxGRMW2Ad5QOu1HbHY5oFMh/tblgD3LBRqBv\n",
       "gVrWYsFHtIxSsM57Jx7mb5jKgrL+/sVKCEOeX1RHwEqex7w01YwHfqzC3KIFep6A2xF8Yjq+NVlv\n",
       "cqXrD2TVOqbWtbb5TGk3vudxgh/BDLWbCQWufDnRjr3jZ+OOn2+Tb6huko91+UY/EhJGbfP4Nql9\n",
       "AIscgaJM7NfoUdlMab3lpVAT7n5zVP80WimlfmBNv+esCkd5iTULhAn0pLsMD+yZhpUBicrhxN/i\n",
       "SPeOhri8zc+6i4YE7/Uvu66FRsCkwLWvKXXqpGIFz3dpdl7MXUPDJbQl0b9899dZgzEepKXqB1t0\n",
       "BW3uLERctacxnrB4sfImM9mtt61g8j3JrkaiLNkQU1Amk3yuhKeVgF1//ie0/Z828BY3SPpVFfig\n",
       "mj/M41gnauEsmglxcT+x8Aycbs0a8rK23rPoafRr59VvjR1+SjgCXp/E6m5lY8KFIFvx+0hKqsGb\n",
       "Hv+AW2UxiyUFINsvc6eFZoiTcfrZYkxVomWH4jb/lVKWzQxdVUx6C301x7zJr/EDB9WvyUGc3pC7\n",
       "+aYvb1T4iDKyP+uqwuW9zW0swuBS4vKPPlhKVLR9RRDivMv0ZNEfgIUw9HcOkDbU9Ao2iCE3gDVw\n",
       "LKPPJgWZ0Q5DAxGRkppH3PRiDteL/dDl/NqXdqQw/mAV74K2hekyxpcUnFCxFc4lC8DDowNwXDRs\n",
       "JCc9vyvnDqx1ayTnIxq4QR+pc4yQLS5Gjj5Mzy59GmSj83MgghUiCaJ1yx+djECGHdHM+as8SRyI\n",
       "g2545x4cRP27o1wLxZh/9/dholXS3s0qgFxlERJ/mbxMXmkgJ1YsCGv9hCmqq97mVocNpajOpjoU\n",
       "OPKYV7zR8Hbb6rLSrfLqaAhtr0OfXGTLPanvdbj5Md1h8i0/cvxAJU6zdCjdN+sBCMYQsMSaW34A\n",
       "9fENV7XRJfv+ncOH6UcNSJSoxoa0K+xqNtRSvQ1qBzHvesHJBpuUrxw7eQLnxveKfiHiV6x9H1Lk\n",
       "d8Vm9Rm+8SQua+PrzoJ4FoGch2LXh3djujegwfTr3eCwS7oojHajR4WKSUc56gh3SbGhtP5r6S9G\n",
       "JW+5LBQ2zaHZTxj/OUbzrJzhD8uA4FHCh3qNXFMJHCiRzXqc2JY7QEFcv70u8V/XKRGs5c+jZbWf\n",
       "PxaUUdCevUELk3Ds+Cj+4/p95XluHR+vLrSGWOa4s0OQLzLEVw10cwWUoeKsCdz/u621MVcyz2zT\n",
       "1VT8zoVJPRuMMKUGzR2XKEDU+46KDMTxyhjZFOT9SpwP5szRlmMLCdJxcwtZvhkNj7XYmBsM7hnE\n",
       "B6Hi9uboebbKlzEsZ4tdQAU8ZcfMC2EjJbFYdjc0LGoNcY5UgAGpM/B61gn60AXl2DlpgC6fLftq\n",
       "Namg+pbqj1c4RvC0s83P/8P872eT8PRQaFQnrKkT1WB/mC6COMqG5PzoIDwE1chOdhkWAOwqKIYC\n",
       "WQIYp0x5mLOHYM57s8Nc5BQ/eJwoI61HvQvrbikXwQVQfleM4aeStHzotjNa9pm2wpkWI2jQ5mZx\n",
       "2ZMoe7tyFYj8FwdUmc77R3ih21uD78YXyaXBSdlu32sJh90GRq0n53BcHF7xSGtdD5jEDBiwD0KR\n",
       "iopzhY04J5URLkvIZ7HUKxckUR3/q42t9qmvyrowlFz5kCa5jsFlsO+vLty8VCl3blO0YqTV4gKC\n",
       "HtM5QesbaqXhNludM//r5L4dZsh48rMc1Zl3sKEACPhQaQnm1FF9Cw52xRzUO3AP4kVgJye0wRfM\n",
       "MN6XnkOySzpmZeHawY+f9tkf/04FXMTjg7tbSbkJrOmSh8b8hXL1VQP0vgp+Pm1JhLB8HNRrdVMi\n",
       "9/Uzb2gqRmkyg0zwb20JXoKbJw95nXfSgNfnoPN94oCVXLNIxTBK+zrg/dndi4rZ6ZLj/Efm7+TE\n",
       "VGzw6hcHt5eax/rN7nU9RVqxC4NF6naUTXX9FCzR77GzVzoKl17d5IBH4q1aFvHgRN4QomrHMpTX\n",
       "RxSZq+EMRQRyVcSmCbPOfxQoPOKmHGb0YSSsnXeZXnZUpaVO5+hxa6iDU01RZ4QX7fs41IbqTB/j\n",
       "v7diE9sbj2ixbmT3rcWpeOViLySvbsqYuMM9GDC/Ja4oVbYx0uuNfVRxdaCmxQMY67g2nn/7Hb+f\n",
       "0MpPjUGt3UZjtsGZ38RY4KYagsgJwlrK7XQXXpBlcDCsWDhEmCbrG1nWsV23TlrArtHeJlVXC12W\n",
       "0Dmil46XLkPR5LCTVZVMKGPZS0gT98x/MgMfSx+ZPW8xuYEso/++RhIKFE1bjriC49eyQUDL8Ti6\n",
       "klY/s/PmAJxcdVmuYimF/YZqaSYuef6kD1avkzBdAXBLEDUAnD+KuLunJ08D51xh2WokMzmYNV9j\n",
       "mIqfNOB6j+lx2BwNhd+v3SZjkuKKZDlUNHU5vwL5cm64VfQ2/ySUVf+WT//71JO3gKMfrUELrheR\n",
       "MHFpk3a/junUfg8xh3ZD09OgiuAHs9gUrNiaVCgYQuzliae9cVitAsjufH1kmUZHYtciXAJx8kYD\n",
       "vbxho1EJP8D8QukbdyNqUwh7E6dfpEjOt+WdPe83fdj+qIVuWCjAwDgkGDluSXP6PIbVtDHWsIAi\n",
       "RuypRkSBwRQ7oashfH0xwetAahzFx/6HI57NKjhD/Kq+XbnIl/+kAjb5XQi86sNIhbfRZI2PxxqW\n",
       "owhRWNZIiQ6Q19bDm08A0TdAyoYu0rTZAHXZf/j+pZzyyAlOG1RFT5Hg4l0cnXY7hxtAXvA8PX+y\n",
       "ln0mAMGDUSrdfj3NlimZde9axBHygFna7LeinL2POrXGKIvp5wfW0RMMMXt5VeMNSnRjuFeEPc6K\n",
       "MuPKlGbYuIJk+oK9m/dwH2uog9cvM+0+Y2twr5bla38uw/RBcX7MB6FLElD+tz3luJcZ5iHCgCS6\n",
       "J//sr71VlK7WGpVCkJLSN36JArQjcQmhcQZP13DfQGNMC+57d6SY3A1uH7F3V/3+8r+5qdrzAtrn\n",
       "eGi6dvInjvMkaf19tw9cljvaOmw+I5/atepeyW/Qwh0HAOi8kF2sjW/EsRPBfijf7NqenTJqKg4R\n",
       "rIoy7uNhCBwIScd00wLy5nSwoDNoTrLmkZrhG0igrQ4vuupQzMqEQOjiiE3GO5zqadC0jGxG0En/\n",
       "rgNtPj/mstrMJeop6TjE3IbBFixysbNwrEiOtp1QzFCuMLvEACP55lbs5B/QL5789aRcQkOxGCBI\n",
       "cu6J1CGtDkOYHom1WKmbcMRMXgIzAA14AAAFKoEAAAg1QZojbEEv/rUqgCKKPNwEJEywWOg3cNuV\n",
       "+9juPNHOH5Q7OWa5GNY3zn/UIerfMQf/gzHXiY9eegX51N5YLW3U8plVWkK0Ts6pf5Pgh8szzHN6\n",
       "2mX3ycxhUglFMAXo+0jdmRtaalqnpm0BdmfnYjms0hzGNTQT5uUrovJHlZcWxMmAzLMYxl2yRjch\n",
       "npedLwwxGTsiqk2QjOKsBsZJDf2Ff6Cnd4ThErDVrFyOvON5MILMCn88eXFIr4d7mgyJlm7Jteem\n",
       "Y4pmm3NkY2Q3/gatzVJCze2po3uueNLDaFpKuxi3/3+FVoxf7ewjuFtRp4EaYx6fr3pBYE65aUZ7\n",
       "ZE99Dxurrhp+4PQdYur9dw9+Al6FpI7U/7TsSPw3yb99LzWCswJfiM1wOIfY3x2FLV10TH001nRi\n",
       "qxXMvAfQ9/ToBZ4C8crcYhn17TZbTVSBvirBvMskr1g5o4vDuxk0veObGW+A/fJ1rolujYmxRgeN\n",
       "ob6eVHgTamtrv33jnqLUtCi50oU0amUv61FYssylLl+AhA5bV3dAi0Jggawq8zbnzTynKe2V4erQ\n",
       "Sc4oxOjP3Apvn+n8p11y3STjUpYK85T5jbkOD72+SPjyDo/ONFP55OTnWxvpjuMfJvIyvBHqemH7\n",
       "E2XofLXYaM8746xvM1W/CfHZyg80JKmiLuOCmSLXp5LZxxhe/2SRqrZ7MhdRmn3LS+uoeRqNEEiK\n",
       "qM84Eb5CKs6S8gOfAoAJIwUeS7YpxJ1XNf02cBp2KDpoF9DafBdyRWp5nwVVUBHV8R0hhd0262cZ\n",
       "36a7kAEivDLlkxJIG6LCCPIlgjQ0z5l9Yx5s0nqRcEVPgH17ZdSlDnsQGaeuN62vaXyLIWO+sV1c\n",
       "6vN+lGZaaMws+NInwFKkKPv6kiYX+BsdHIY0DUaCxlo86DPa0dViQrL1oWilJtvEZEY02Wp17GOw\n",
       "YWNVy29KH/lj9R+hieaMKim2vEvEuklebwwHcEMgob5AIZSSxstAPg9SGaNvXwUu1P14q0saXuxs\n",
       "7aka/hFZxJ+zhuYs5z/2htBQ70NTKUDLxw8qsfn4VSxj6ATL1z+Oxf8LgMw8Z1XUO/+2SsC57HPT\n",
       "JDLrg/XSZi6ZavujGLDluRkmLTJ4XsaamME11wzJcxmmqJ8hW5MZmO3r2JVB/0gnC1+Xy7rEUg6R\n",
       "282gAN+eaibOtC8iaMXb3biE1nK7eqpr323xti+wVQjGA6FcbfNARS13opw6QDoiO6MDJdsAlpGb\n",
       "bgaDmnN0iwwOSj+FQ0aCHEx9u6npBG8AtFbcYh6kyRKa/txXPqRUslpYxRl0QVNc3C353VFDVluk\n",
       "BOpvDiEHuhp6xQNebloay+/8+aPXeK09u5/VUC8mTuZuyiINz2lQPJlwmiGIWQnLYh0QPf06j7g5\n",
       "37S7ET6wcbguVQ21yHIydaeRcObNeJP/V3AWcLJS1po9AWyuwKsD7/CoGpMYIQE33wCDfjZaR9Zi\n",
       "TllkRmDMevjbSij2zzB0a3q9MaL/IjjrAPQp5MfnErrI/x5qjKWBM9hm5LgdGjGGw7KoG13Q/uI2\n",
       "EDiyqMxEgFs5jJXBw9oYAsrew4kMIlbFe4MQPWH3l6pTNF1E0FZr9h/tLnqjS7EArLsLZOCTdmWk\n",
       "aoWWXqCUHtKLAFVS57Fy/N/cFl+9tgtBXaem2OO9EAX44QMUToWtcAOyrVLEBoSW+CBRwWuWN8n8\n",
       "1R79QrHqiRKqXiQ9WsKLIoEsndlNZglbQXaW1QWKQpYlSsPYmnhx3Vvvi2ozgczGkhogZ8R/hl8E\n",
       "4UMQCiEkkMJlK0MI+RjfozA6r86jYy5TZ/m2YAXbuHirh6LcjVEznQIb7G4Dgwb2hBtQsOI02VUZ\n",
       "MfLgTGpJHoquGEy3DOZU3flJdx/UvVq//yuOVu4/T15WB363cinjKC3ijWpYfHTD5PL7PSodXzZk\n",
       "sStKj8ZDWxLgNzkRLBDGrvcaNArf/j+AQQxdOTgvCwsbXH43M9r015rwKD3fObYDQMhXcCy1afa7\n",
       "zjmBOfqRoh99zHevZIwLE51gCvQgqFofFcmZXHCc09ncZtR+jQpcUAruZCGHvjqISsDIMZoT4YTI\n",
       "H0dUrgBBjrPi14EHBk1e5AkvaF4WWaiOFnU6cSnTvlpTNDvf+GjLXJqxELiTY3VwktCDMb9fi3fv\n",
       "cFy4iKZqc+7ja8nrjCEC8SHrCfZBdZ4EERRCZzD6psDmPUU7nR+h6Zx2jGebmugH2wHcPnYmYUpr\n",
       "BFMx93550p0ALsHM30+fF5tKgbCoBdiv9ULZ0wX+sKmuMbDFfqp7EaHZHYjwcqndggRdBWiDQJtm\n",
       "sSGPXImGITN2+v8uVWu2YX2RmCi3J+r2Gn2Ot2thWGK8eCBviGeu9mcAjmnE1OBD7E3d0Jpa3qVw\n",
       "kG/HU1b38JYdXL+6ViBrXAhOvanp121X2+XXwcDXJkAJPgJAQ7/Pd7UPXEkiJmUdtEvA1XQC/rTl\n",
       "PpijvTTgiwxYCmrvcuVs2dkRxZhrinjzaqwL61X/lVSbq5esVd/K8RvJ7I/1KIDca9zbAqT2yS7j\n",
       "xEYYZKm3P63pUSfvSNgERkQwy5sF2t2Gv9sylGGouBTmPd+jONRNx2swcXeIfBXhmKlcZjPWlS/i\n",
       "WGVrIAOoh5EGsaG8UBkSbK07dMUOpoYR8ZzUCpRNRkZ9wBxe/3QVTGYvEarMu+AfmlaCVoIgcB0A\n",
       "qdzRwGdpnOeprPW7U4wVl6T5jgiJybAz2W5xyTvzjrj/q+t+oN0wQutaDdxD7q3ca5/KFqNIhuYR\n",
       "Sl78rEm3PDs/NJwnpR4HLlDY3os9Q6Uy7gAAA7VBnkF4gh8AI4h9R3dKf3sRvgscADtLeWiPK0JG\n",
       "qaPxO88Q+EPp3SI1tdd1UQBnyaJTnREKABmHJmS8hXZZrq+CZRAAWbZI0NWva3dP0msmQTHWxhKy\n",
       "lf9zOJuGJlDzlBSPLGWSStaXNpT9T39vZvyhAfla1YxiOb3SeDCD5EpjZCfkuMXr8RU90M5oZ3CQ\n",
       "GqFCK5RLdgv31QXEWtQ+SFkKqJfO13uQ9FlZfR9eLCJuS8GMPePchDL9suPeG5016/hBtgE27lVq\n",
       "Ty5xQ+dPiQhW3MqSO/j850KPALI40ErIyUWRS0eNwgxxw29/SdWozAtXH3g5RZOTXlaEPYiH+W52\n",
       "TWu0aMo5iR+XPzVtgVMAec2kIvbR/WrOa1Iwk6AhwgoOiaivQHBBUR1t1MuZrWi8758VhLNnNATW\n",
       "ejEvWRCoQN1Ua1ObV4q/xvXo92KRbAzjrtCjIKBNc3uh93sie158VfGuv2SbJ0+GwqfO96OZfqtM\n",
       "8hTyxwXV67jCiwZmgbgEkwNmvobmjPt44uO+gx62a75tYZzCOUdvZJ6e4KkzeOITJfGCE+hwAAr+\n",
       "dyK+OUKfBN65uV1e97EbWCykN/T9b5wbKzN9wJrTmJltWx4NNf+uh8uvuA3RLQV7XJdmS/mLPthq\n",
       "dHgMXaiNblnC2t0zfMGQXjvs8xaf0Y/vnhu7bfwfKPE4n7K+0UHD/0V6Etfu7HSLZcQgtAlGHd69\n",
       "bsbaksPcUoi5+gLCapWIkzhQHeow2eNbhorTjF69Ea/PCPvxEi9Ghxf3E1vbmU14lJ+0EZTt+f3m\n",
       "t+djID5QESd8YJpGjr2VpgN8D7uFdHgOYkg9KCqEycfVPeVY3ADHS9uWxO81K9g6l32x6wGirjzM\n",
       "/j5NwcsYGHc2ljoDTVMDeFXIHLQOFsWI2jJLdURSl2EhnMFaI0DdA37omngYcFOPSwvGH2Ntu10U\n",
       "YE666mlqB95DwRM7E56CF3H+QBApuRbYRYW2k0RvjGwjiiX31FZli5U9ZNpn4PcTYoc/wIgRYPSL\n",
       "4Rq6wjepAQG+6gTenuYgzPr1QJyrF7T8mg3dBaeHvs75qjylTD2dQVIExSCNBw/kfR8W6Kqf/txE\n",
       "7T0ylZWfYITJLiWVoHNxC7JWCqDEaJ1HheBpP9UbFzeV6nZs+vZ4/hbyNXBFg05QvrS1TRbrFsDZ\n",
       "8ivhdChTzCCsVbI41pEC9VpL2W6A03NtZE5v+UyYCphpjWCyP/tK9mYtzRohH/aAxPkLopPufZ+w\n",
       "v2+6iFC14CAhAAACGgGeYmpD/wA93Y0ptvx5LxlRnpDLD8YYKfi90nBU8Lj007ZlJttVBTBHfq2t\n",
       "aVN8SEyMnX+46Qa6IAP4RErvELYiaddSRGJTScZRLYOtJqNkfXqCC/DsuUaVe7H5bjPnEFrS1c/Y\n",
       "33bvbyrDKoLUCD7ZcSXSe//7BtSKAJonaTgbPVz07kXbdjfkKV8QvKVbVGJZVjPvnAFuz0I1xLLq\n",
       "ehPZYIEXdy8jcLgHj9Pf5LLSt3WmV/rA90Dc4mwNe5TkJo96+4lLSdAp2x2mLN/lD3AiJ79EyRD1\n",
       "lkLsjO7JxlUeiCuBPy16sG6+OteqsbupLqUzjn0sSHSrbhDCyBe+gVtOSe/K8Z7MS/2YsbLN37by\n",
       "+ZU0bLaudpPRDbah6/TdbL5mXnJ0AF3BQig4ZvPPu3BLAygkYIWJcaMh8PNV9I1yhdVVPqkkMbpd\n",
       "rbVYbCogSidjrsrnR/2lUMJDrSimlPceTfriIJJL7NR8DV2gAB/ZPjdcKV7pzOlrG6ini9/TggcE\n",
       "3fOyeVlYd/U6I+Ty96LeS9yT0p2sC3judNVGuMANLY/qmoYCoR229eIm9baRP076ZUzxbWBy1T41\n",
       "gu4S+7lS3121Up9HMHtLE2nodXJKlYG/eRyWVY8pfuohfAPT1bPiUpdkM2IhxsCJbe5S2zNDmX5I\n",
       "R7IF+txkhVJ7AvTbE/8kVPsXsXPF7OjtqbtaKBqL0K2lBqRstCQAAAEYQZpkSahBaJlMCCX//rUq\n",
       "gBeCBZSEQjG9SJD7edRfrhJKz0OFIbq8eNlCWHTkIqhVeBUAzGeoBkAlc6Xs65H+M6zx8wFalOom\n",
       "4P8fBzCnIpPG4xWkSHVMeDsGYb3HMBxlCDy+O6FoGz9ihhMgxzACVE3/FBYZTTA0zvOvW7DI1RpA\n",
       "RrOeyh+k6N4npqyjQh+bj6P21PUEixPVV+tMD+wWu5k7Indh5kE++IL3knxfipz0NCQDM6q4n/IV\n",
       "msdHKKXFbfU4trkyIOkoA6FjXPULjAc12MOimhGJfCXF2qfay2lMojWL6DQakA1EuQNlW90XOtcW\n",
       "ezYcpVkUlmoos32Th/IFuP8bU0hYSF9pqWZkoC0G1S/+bhR4wQAABLtBmoVJ4QpSZTAgn//+tSqA\n",
       "GIuT/X5OtOPABR0LM5tD/E/0+mT/emUa4PtpNc6cZL/5UDWp31XlocnAjk5FsIHetkz4z0Wb5v7M\n",
       "SHQt8qQ/smNvsYOWiVlZQ9VPrQwZIRjIdvH+Oj4aXQHTDrnGIezBzhcif7aHFeFaR74FC5vvOCX2\n",
       "MuohR72FPCY+agPGL5rs1KDhe2sV6RS/we0GEVQZtvyyBPfHMUheV64wVETWL+CE90YFg97wyYJZ\n",
       "ks0B3qtTP90P7xe7ju5nCmgVaoCTH7eRSSeW2te3DennYUpcgsQZxEivMU86tEWz/kN+2ysAYzKk\n",
       "Wyq8/shWRUH4UGpu5NYa/3DGsSXtKbXq19Ua5PS1HQcyY8YpeUDwQDDUU+qhEJY10YDkfTihQlbw\n",
       "buLAsd1RW7noJB10k8QPBwLPBKI6MwcmfD0GbCtX9uwVzqf4tSVF2wfOu6w6rGegTXs32O7IJ8Rw\n",
       "QIfMZllIyltx50oOQlEB9BE3a8tD/NjI5hbVG0r+tcbbZQElqAENzPtxu8YQijRCIHepX/j850i4\n",
       "aeUWt4Qb3DpMlJb9g9eACCZj3cz+0NOnyoZDKnutoQ4XOscFctRfsE27qix7gzA4Aqe999GvSqYp\n",
       "Gw975UGNZY8fvDmG1JlGxHdZjh67dFhJkDyqS1mYJyj/6g9PJdIFRm/AwTzgMAdaxtVbcGr+Rooz\n",
       "OvvFXkOFlwdMbv9IRRGCzDjSyMfy0/yBUBj+h2Hb6B0KWiSHZIsrFh/YKtjQfmLOm3Oz9bsj2HUF\n",
       "+VnQHTNWHmb6z/TZArQUpwMlmygBnICNX6FCL55Y9RK7xPqzhWlOIpkhDfcK7IyprLGqYMyJzta8\n",
       "oCP4HSuEyo8j4RIfT9jRPOMABdiIY3g2MtxkiVHQrHe2ojJlikRPBrFrdNSfIpQ6wPG8CK2HadJa\n",
       "yJmfA6Yim8ZUD+ccrKb24hJAryiIu1rAIe0QdPT/C0JrAvhM9cCxgSYOMNALu6K6sknSHEdAxIN0\n",
       "Zr9f3jFtHnI6CQQjuYDdLA+KH3mBVJIihjv+yI5VY+u/lwyc2yb18Z1vIGiUzF3Orw7yxLjgwppK\n",
       "+ag5noKICN8TXr8HBB4yFOkgJ5JsBn22b1e7hyY6SzjkOKSNYYxRHCS/MBgNdcGy6YaNMFaD2LWN\n",
       "t8unCW6EhRHZLn6nrHwdpNhEE5ZaNs13dp9zvv3l7iunMl8X+zxGwtDq9I50YI1tdJZPRNBGtuZv\n",
       "YU0Nv0GWxc6cLZN/9I/qcr7XxkAvXhShWNqqiefdIrErP4BSPru7KR/xA/mtPpXgvQvaUcXwb7Sd\n",
       "bkgvP8uCb+FtKGkIs712VXqg8uti/vJ+PjXeCDLjPjzO0ERtS8PiKpOnyFez7MtMNUOErsdyJUpS\n",
       "DWHQPIVJUSg3XfKUsD8Vp7a+MCOgDokwZDZAkn3XPmD3IW/TIb1duGUtsYiwIpMJDEyKmPWaItAs\n",
       "uB1vlhHAced+hM+XUv8XZjBHIKHgHcA3TY1D4QzbX7xxSLsk3tfe2We+CrNA9FJ4uShE/QewDO8I\n",
       "EU4TLd/f7Ai5/3D7QNs+WtmUauGpXUoFS1FrWg3myYefE+lPUnyDbBSb/Rz33O3ZFsZYd+amWQAA\n",
       "BLJBmqdJ4Q6JlMFNEwT//rUqgBl7k/W9wzyIcACo1oFwCOYbpS5WJOTBXcyxaMxa/SEYKPpopxqD\n",
       "EkcKj9epD+hDkRn6Pn1Y2taWjxjB2ZvtLQKNHWags71arvAqVZfbuboIzotCUFwoebqmK1KY/Tb/\n",
       "0eLma70WnEcgGg1GWurvRxUX4T1VuSUl8iad+yOrGtAlxyG3couhzBhyIHs5XU1O7tOxtCFY+RZb\n",
       "LRFB4U3Pcc6y8YlK0VoYvhfz4T6bjRzv7w0oNjqsY0lm6LoLOD9q3Q38YPYh8nBLukuO5W44Ipui\n",
       "e/f4pi8dKb3ika5AZgXYpEvMdFfX/V6uVEx7YHWEcsMKxSTQM+P6lxdeDkjji31GxvuiVHX+vN+k\n",
       "+7Yp2ILaSWTZeYFQrtQY1i6NVk5oISxLu8o91SEfwGwLsNzvV+TkDrchjjbbjIhVGLBX8vPBdNSY\n",
       "YnNwfdKCHQd+nx6bL6kUQZOB3jhbiMkjRzeuZQKObr2l4V709yK5Wb/iEP3mmqKYOrDskYSxCsaV\n",
       "u1EK3sWeOF+4+aICx7LI0kNYRw6mx+WVF9BQtsBIp/dKcavAARf1y72p0HlIHXVHKJLbokpTHf+F\n",
       "65XL8o2LOoSGSGkM/gu1QkdJ5LaoKYW6OKMF4nMWsifneKMh0zDvszMaZdM0q56EQ/kkyencvTHg\n",
       "zhX7ATR8jy5qjM/kZmGGggkwmZipewZeP7eJyyx07FBpC/u2C0Maa0JsYYhjoggsNuPo6oFO853Y\n",
       "kAu2u8cZ1bLS3+i8E+NHVtgJc2324sic1pz66XLqMYAhqYV1vRWFiamWTDBvZwT5JNiutls/wP8P\n",
       "S8SQHKfVvjpYxXHPYLkiRq7CnHDoqqEVmBDY3BNHtw0eXHHPGm53mCrYmmCtLiav6GEBloMpF+1R\n",
       "4pF9semHy9VJPx84UNoqUifolv5O4aHNlwLWuZxUOOEoAAArnABkP3pwatzHClwhlKRgmaTn3qjn\n",
       "oIO01mAfBNZI8q9S9S5pPrz35+MrmzKicnMq7laNT/4kiqEGoCfTk8O7VxMZrcxgNEsdz+j8uBAJ\n",
       "kvmWFWxS+P1vaBr7vyH/Jptd0vB8exkqQYnURrjAfzf199KYP5J4CxS/DO1EHzo+64vKqvOl5Hb8\n",
       "XPmSEkjZ48WPqBanhv/+nWRNcXsoW2zIUu1zjvbeuqNsV/iZPnthGTs5kozzQ3YA4QvKllvYNhGx\n",
       "T0dUmLQNteolNNBQU6s5w+aXNLoCtakRb6NjoGXkNfV16pdontMADi8vwvS88dB705JyESDF2Dza\n",
       "NRYI29dbcOaNHGe5hYqr3XUFU0dJGmx7u++uTgPLqtKuPlNUS9iM3cqERRb3ZR/kHPJ/pV/JuF88\n",
       "+18OZgsG4ljSdNsnq4s6/c2qLMeX0d8CSddHZoht+39nxl45NSTaG8TzcUvlPwVNoWDblBMh8aHh\n",
       "KBuxqkzPYy2j15FotKXg1ENFKvCjNSmMtheCrY9e5rN0A4pZIaFS9PJFHL5SYi07Hay/+7+DmGtv\n",
       "EO6vTgRQVuyrvbPaPcfjJJlfA86QUHFLgxWE/dUHENyQxS3ytoj2EtWE9Y4jXY0ZSsZb/ORRcxA7\n",
       "mr/VNxtHwQAAAC8BnsZqQ/8AQODXUod+PJeXD/xFGsO2e9474C7bUUyFIQz+4E7OllK4QnKiqrGp\n",
       "gQAAAYNBmslJ4Q8mUwU8E//+tSqAGj2FfW11JZXxAJ5IAFA7k/zGOe2NDA6peGZGUu5ODF2gRvaQ\n",
       "l5j7sBnkc+2tkYduiLe2gdG9YicqYERO60BjGNeJ1c6oruH1RIP2wwvbgMK41jMSPezVO82F+BGF\n",
       "5LprJV6YNL0BBmtKEwXdIKNoLnKebZm46NWtSSm43TZZKT439FxSDnUVJv0dqzMZRZ7EIN1UX9df\n",
       "73QZnOQ6bMxVkRySjQcazaW6qoE4RFRiC0VqgJ8tpGdnmr+58E2P4hvsbwSI0l1FspffsKVNIQ2w\n",
       "+Ca+xoqYDMcx7Tx8+km8ByaEINBxgrv0YabJWpaA4g3uo7ZBCxUWIv022GIqRmWHcjNH8D8i8a1v\n",
       "3q+uDs0C6kSi1KU0UwXsu3e+hn7LbIiCMfdVvJwHf63mAe0QKUK+m7j0lMiyya2aJ2OhXGNdqeqE\n",
       "sv5NctwVDkrcBjjdz1IFXfCPNx+HQs7Jf8R8KBe4xnP5vzmbHHPCPDnv9StUKbndn5AAAAAvAZ7o\n",
       "akP/AKjx3W6UFz8Vr5cjvUiFp6duYgEoY5hUDfohtkXowq3o2RbnVeANOcAAAAFHQZrrSeEPJlMF\n",
       "PBP//rUqgBt+JCZKsC9AAFTtzs9NkU4jLANf3L9L8w/xjTOYm0yV1W2tWfIb3UrOHQA9pN9xxgxL\n",
       "xsOp2nlytYDW53zoq20erKfHoNqUAnNtK7rKaEpTS/lyGuOgfHZqCUMi+pv0E8m7YoxCLe/s+BfN\n",
       "SJUm1AHQciPw7p8LLMqBNn61Hvj9ytK9uuxhyjE3H2rOsYQvICoSLMQRZRlFVFAJ1InVXFKBHb85\n",
       "wsFGIp4SbOkNS7pqrkOyhd3pZBABVczukIVVbVNNCaZl15aGx6F5J9yyPMkgRGOAXgCnm1YHGjVA\n",
       "Ax1Ehrk1r67oDQ8MIFxOzaWvj2SfDM9LZWBBd3gWeyj1T5kO6mxWuA9AA1iHCm4Ww1QCIQMlnKt4\n",
       "7RFiWX/dC8GiQpM35tiCs5liizxD2TlI3E92mEHJnimhAAAAKwGfCmpD/wCpDLQiMMQSgvzx2yYh\n",
       "uoSjlQo2ESLonViNKvtF6fQ2rgKgzuYAAAE+QZsNSeEPJlMFPBP//rUqgByq03vrgACgdyf5jHPb\n",
       "GeHv9BHM39Mu9Ze8XiHpnG+KB5ibYmpyoTLEFmnnO6Mb8CnZYPbr4IRRF/AxTGN62P2tJSvTRQ/p\n",
       "YrDSQrLT+atV5nK8X/mGWnAIxo+i7qpCoXx8bHhZjkEvaQBpN7uC6mBS8xKqRkmBnOQcolZ1S9FQ\n",
       "CSLaFdX7h+//9ody/xghNCHWNUXG2nn/Zzp4tsQowQnCRA2lk5HpD8rKYFanuE4aPzv25ql4UI1I\n",
       "Q/PMPW9sJzPcYQSpkoRyQOYHziEBScFvfQA+NgOoL37JtKw3luufEg2Dav0yb6Imyx83phTC9nZy\n",
       "0tyME2rb/1HueiBU6SXVnGPKC0JHlGb81q9XHUdTj/fqR1SUXbEIHoXCoHJ96J0nf5TGaTc4kqbo\n",
       "hV1YAAAAKAGfLGpD/wBG5WZgxyDsKiXbGmZJdvGUugx5VPj9lFt6x21XJ/3gO5kAAAEmQZsvSeEP\n",
       "JlMFPBP//rUqgB4VD2bSd6AAKnblDtZO7a7KzWEdPJkq0mhF1b1vJiZvGsN6w29A63IYhnCqTssW\n",
       "9x8+TRsxDeFYuKCip9TbTu39EmOJwpo4K7oSSE0v2GNRSz66EXItfNugWfHeerXu4AdIK/BGeGja\n",
       "W0+ULsj17fk63RWRcWpz8yhX5praTnu168BMtHgrcMTstz9bWx3Q1iv4Ot30VpD77NOstGh8fGZy\n",
       "lXrpbhYB98mBevB1Qir7znrmfWJg3ha64Gqmi12Jrq/PBuG8VYX8CaJ0/zcs3sUrFdIQknx9hKM/\n",
       "faK46JgvpFDuiI5X774VGY8fnadrJJ4ZDWzu8m1oISzp6yd2lD3vx8oOFBiluoZC9E6AqnGt0tVv\n",
       "eQWfAAAAJAGfTmpD/wBI5WXrGiBUMqVuwKnA27IIh2sYMLLBtuzT/6MdzQAAALNBm1FJ4Q8mUwU8\n",
       "E//+tSqAH2gwZNcMCIAKVP91Xg5iFCZa4g9XNFIUbIH9m99HFAyMIdMGJbymykPCoho5T1e9hdi0\n",
       "siNFqri6i/fVenFgAgSUMAAuaH/QyaP8Tkxc0FJWguLq7q32/bHs9/+hN21TNEJ7AUqF3YgQ/6O3\n",
       "70/hXlGEjbRp/AdEG1AKmwKoUI/LPho36JK038Z2IoeXAlC1OTYgIKqVtAv3QGN1Xb5z6gs+zAAA\n",
       "ACABn3BqQ/8ASuVmYMaJZQqCsriNq/zTncTNt2V8JxQgEAAAACpBm3JJ4Q8mUwIKf/7WjLAILXuD\n",
       "w3kX81gv5sLJ9WdwFVlSB/h0cXC2tmEAAAATQZuWSeEPJlMCCn/+1oywAAAH3AAAABVBn7RFETwQ\n",
       "/wAAhTcharV7DG8829QAAACTAZ/TdEP/AEwuf7949l5+WAEHhufAJVsSUiFzyoVGWz51Ahyilhgz\n",
       "wshRtM8reM89p+CNGcP3aQyRFTyASZCwtuRaGdhx/gojDxnySEZO89GE/dUzarovysEJAIQsX9A1\n",
       "bU836Jewq7XFwJtx9FGajsISz+OSTqv3pKFvOddL0R+4yqoFN/qtwr4+48KrPR35S09BAAAAEgGf\n",
       "1WpD/wABLYNoMJ1tl3N2DgAAABRBm9pJqEFomUwIKf/+1oywAAAH3QAAABVBn/hFESwQ/wAAhrbI\n",
       "3LkKiQZgr1EAAAASAZ4XdEP/AAEtXKilvXsuTYdMAAAAEgGeGWpD/wABLYNoMJ1tl3N2DwAAABRB\n",
       "mh5JqEFsmUwIKf/+1oywAAAH3AAAABVBnjxFFSwQ/wAAhrbI3LkKiQZgr1EAAAASAZ5bdEP/AAEt\n",
       "XKilvXsuTYdNAAAAEgGeXWpD/wABLYNoMJ1tl3N2DgAAABRBmkJJqEFsmUwIKf/+1oywAAAH3AAA\n",
       "ABVBnmBFFSwQ/wAAhrbI3LkKiQZgr1EAAAASAZ6fdEP/AAEtXKilvXsuTYdMAAAAEgGegWpD/wAB\n",
       "LYNoMJ1tl3N2DwAAABRBmoZJqEFsmUwIKf/+1oywAAAH3AAAABVBnqRFFSwQ/wAAhrbI3LkKiQZg\n",
       "r1EAAAASAZ7DdEP/AAEtXKilvXsuTYdNAAAAEgGexWpD/wABLYNoMJ1tl3N2DwAAABRBmspJqEFs\n",
       "mUwIKf/+1oywAAAH3QAAABVBnuhFFSwQ/wAAhrbI3LkKiQZgr1AAAAASAZ8HdEP/AAEtXKilvXsu\n",
       "TYdMAAAAEgGfCWpD/wABLYNoMJ1tl3N2DwAAABRBmw5JqEFsmUwIKf/+1oywAAAH3AAAABVBnyxF\n",
       "FSwQ/wAAhrbI3LkKiQZgr1AAAAASAZ9LdEP/AAEtXKilvXsuTYdNAAAAEgGfTWpD/wABLYNoMJ1t\n",
       "l3N2DwAAABRBm1JJqEFsmUwIKf/+1oywAAAH3QAAABVBn3BFFSwQ/wAAhrbI3LkKiQZgr1AAAAAS\n",
       "AZ+PdEP/AAEtXKilvXsuTYdMAAAAEgGfkWpD/wABLYNoMJ1tl3N2DwAAABRBm5ZJqEFsmUwIKf/+\n",
       "1oywAAAH3AAAABVBn7RFFSwQ/wAAhrbI3LkKiQZgr1AAAAASAZ/TdEP/AAEtXKilvXsuTYdNAAAA\n",
       "EgGf1WpD/wABLYNoMJ1tl3N2DgAAABRBm9pJqEFsmUwIKf/+1oywAAAH3QAAABVBn/hFFSwQ/wAA\n",
       "hrbI3LkKiQZgr1EAAAASAZ4XdEP/AAEtXKilvXsuTYdMAAAAEgGeGWpD/wABLYNoMJ1tl3N2DwAA\n",
       "ABRBmh5JqEFsmUwIKf/+1oywAAAH3AAAABVBnjxFFSwQ/wAAhrbI3LkKiQZgr1EAAAASAZ5bdEP/\n",
       "AAEtXKilvXsuTYdNAAAAEgGeXWpD/wABLYNoMJ1tl3N2DgAAABRBmkJJqEFsmUwIKf/+1oywAAAH\n",
       "3AAAABVBnmBFFSwQ/wAAhrbI3LkKiQZgr1EAAAASAZ6fdEP/AAEtXKilvXsuTYdMAAAAEgGegWpD\n",
       "/wABLYNoMJ1tl3N2DwAAABRBmoZJqEFsmUwIKf/+1oywAAAH3AAAABVBnqRFFSwQ/wAAhrbI3LkK\n",
       "iQZgr1EAAAASAZ7DdEP/AAEtXKilvXsuTYdNAAAAEgGexWpD/wABLYNoMJ1tl3N2DwAAABRBmspJ\n",
       "qEFsmUwIKf/+1oywAAAH3QAAABVBnuhFFSwQ/wAAhrbI3LkKiQZgr1AAAAASAZ8HdEP/AAEtXKil\n",
       "vXsuTYdMAAAAEgGfCWpD/wABLYNoMJ1tl3N2DwAAABRBmw5JqEFsmUwIKf/+1oywAAAH3AAAABVB\n",
       "nyxFFSwQ/wAAhrbI3LkKiQZgr1AAAAASAZ9LdEP/AAEtXKilvXsuTYdNAAAAEgGfTWpD/wABLYNo\n",
       "MJ1tl3N2DwAAABRBm1JJqEFsmUwIJ//+tSqAAAAesQAAABVBn3BFFSwQ/wAAhrbI3LkKiQZgr1AA\n",
       "AAASAZ+PdEP/AAEtXKilvXsuTYdMAAAAEgGfkWpD/wABLYNoMJ1tl3N2DwAAABRBm5ZJqEFsmUwI\n",
       "J//+tSqAAAAesAAAABVBn7RFFSwQ/wAAhrbI3LkKiQZgr1AAAAASAZ/TdEP/AAEtXKilvXsuTYdN\n",
       "AAAAEgGf1WpD/wABLYNoMJ1tl3N2DgAAABRBm9pJqEFsmUwIJ//+tSqAAAAesQAAABVBn/hFFSwQ\n",
       "/wAAhrbI3LkKiQZgr1EAAAASAZ4XdEP/AAEtXKilvXsuTYdMAAAAEgGeGWpD/wABLYNoMJ1tl3N2\n",
       "DwAAABRBmh5JqEFsmUwIJf/+tSqAAAAesAAAABVBnjxFFSwQ/wAAhrbI3LkKiQZgr1EAAAASAZ5b\n",
       "dEP/AAEtXKilvXsuTYdNAAAAEgGeXWpD/wABLYNoMJ1tl3N2DgAAABVBmkJJqEFsmUwIIf/+qlUA\n",
       "AAMAPWAAAAAVQZ5gRRUsEP8AAIa2yNy5CokGYK9RAAAAEgGen3RD/wABLVyopb17Lk2HTAAAABIB\n",
       "noFqQ/8AAS2DaDCdbZdzdg8AAAAVQZqDSahBbJlMCH///qmWAAADAPCAAAAHzm1vb3YAAABsbXZo\n",
       "ZAAAAAAAAAAAAAAAAAAAA+gAAE4gAAEAAAEAAAAAAAAAAAAAAAABAAAAAAAAAAAAAAAAAAAAAQAA\n",
       "AAAAAAAAAAAAAAAAQAAAAAAAAAAAAAAAAAAAAAAAAAAAAAAAAAAAAAAAAAIAAAb4dHJhawAAAFx0\n",
       "a2hkAAAAAwAAAAAAAAAAAAAAAQAAAAAAAE4gAAAAAAAAAAAAAAAAAAAAAAABAAAAAAAAAAAAAAAA\n",
       "AAAAAQAAAAAAAAAAAAAAAAAAQAAAAAGwAAABIAAAAAAAJGVkdHMAAAAcZWxzdAAAAAAAAAABAABO\n",
       "IAAAEAAAAQAAAAAGcG1kaWEAAAAgbWRoZAAAAAAAAAAAAAAAAAAAKAAAAyAAVcQAAAAAAC1oZGxy\n",
       "AAAAAAAAAAB2aWRlAAAAAAAAAAAAAAAAVmlkZW9IYW5kbGVyAAAABhttaW5mAAAAFHZtaGQAAAAB\n",
       "AAAAAAAAAAAAAAAkZGluZgAAABxkcmVmAAAAAAAAAAEAAAAMdXJsIAAAAAEAAAXbc3RibAAAALNz\n",
       "dHNkAAAAAAAAAAEAAACjYXZjMQAAAAAAAAABAAAAAAAAAAAAAAAAAAAAAAGwASAASAAAAEgAAAAA\n",
       "AAAAAQAAAAAAAAAAAAAAAAAAAAAAAAAAAAAAAAAAAAAAAAAAABj//wAAADFhdmNDAWQAFf/hABhn\n",
       "ZAAVrNlBsJaEAAADAAQAAAMAKDxYtlgBAAZo6+PLIsAAAAAcdXVpZGtoQPJfJE/FujmlG88DI/MA\n",
       "AAAAAAAAGHN0dHMAAAAAAAAAAQAAAGQAAAgAAAAAFHN0c3MAAAAAAAAAAQAAAAEAAAMgY3R0cwAA\n",
       "AAAAAABiAAAAAQAAEAAAAAABAAAgAAAAAAIAAAgAAAAAAgAAEAAAAAABAAAYAAAAAAEAAAgAAAAA\n",
       "AQAAGAAAAAABAAAIAAAAAAEAABgAAAAAAQAACAAAAAABAAAYAAAAAAEAAAgAAAAAAQAAGAAAAAAB\n",
       "AAAIAAAAAAEAABgAAAAAAQAACAAAAAABAAAQAAAAAAEAACgAAAAAAQAAEAAAAAABAAAAAAAAAAEA\n",
       "AAgAAAAAAQAAKAAAAAABAAAQAAAAAAEAAAAAAAAAAQAACAAAAAABAAAoAAAAAAEAABAAAAAAAQAA\n",
       "AAAAAAABAAAIAAAAAAEAACgAAAAAAQAAEAAAAAABAAAAAAAAAAEAAAgAAAAAAQAAKAAAAAABAAAQ\n",
       "AAAAAAEAAAAAAAAAAQAACAAAAAABAAAoAAAAAAEAABAAAAAAAQAAAAAAAAABAAAIAAAAAAEAACgA\n",
       "AAAAAQAAEAAAAAABAAAAAAAAAAEAAAgAAAAAAQAAKAAAAAABAAAQAAAAAAEAAAAAAAAAAQAACAAA\n",
       "AAABAAAoAAAAAAEAABAAAAAAAQAAAAAAAAABAAAIAAAAAAEAACgAAAAAAQAAEAAAAAABAAAAAAAA\n",
       "AAEAAAgAAAAAAQAAKAAAAAABAAAQAAAAAAEAAAAAAAAAAQAACAAAAAABAAAoAAAAAAEAABAAAAAA\n",
       "AQAAAAAAAAABAAAIAAAAAAEAACgAAAAAAQAAEAAAAAABAAAAAAAAAAEAAAgAAAAAAQAAKAAAAAAB\n",
       "AAAQAAAAAAEAAAAAAAAAAQAACAAAAAABAAAoAAAAAAEAABAAAAAAAQAAAAAAAAABAAAIAAAAAAEA\n",
       "ACgAAAAAAQAAEAAAAAABAAAAAAAAAAEAAAgAAAAAAQAAKAAAAAABAAAQAAAAAAEAAAAAAAAAAQAA\n",
       "CAAAAAABAAAoAAAAAAEAABAAAAAAAQAAAAAAAAABAAAIAAAAAAEAACgAAAAAAQAAEAAAAAABAAAA\n",
       "AAAAAAEAAAgAAAAAAQAAKAAAAAABAAAQAAAAAAEAAAAAAAAAAQAACAAAAAABAAAQAAAAABxzdHNj\n",
       "AAAAAAAAAAEAAAABAAAAZAAAAAEAAAGkc3RzegAAAAAAAAAAAAAAZAAANgwAAAg5AAADuQAAAh4A\n",
       "AAEcAAAEvwAABLYAAAAzAAABhwAAADMAAAFLAAAALwAAAUIAAAAsAAABKgAAACgAAAC3AAAAJAAA\n",
       "AC4AAAAXAAAAGQAAAJcAAAAWAAAAGAAAABkAAAAWAAAAFgAAABgAAAAZAAAAFgAAABYAAAAYAAAA\n",
       "GQAAABYAAAAWAAAAGAAAABkAAAAWAAAAFgAAABgAAAAZAAAAFgAAABYAAAAYAAAAGQAAABYAAAAW\n",
       "AAAAGAAAABkAAAAWAAAAFgAAABgAAAAZAAAAFgAAABYAAAAYAAAAGQAAABYAAAAWAAAAGAAAABkA\n",
       "AAAWAAAAFgAAABgAAAAZAAAAFgAAABYAAAAYAAAAGQAAABYAAAAWAAAAGAAAABkAAAAWAAAAFgAA\n",
       "ABgAAAAZAAAAFgAAABYAAAAYAAAAGQAAABYAAAAWAAAAGAAAABkAAAAWAAAAFgAAABgAAAAZAAAA\n",
       "FgAAABYAAAAYAAAAGQAAABYAAAAWAAAAGQAAABkAAAAWAAAAFgAAABkAAAAUc3RjbwAAAAAAAAAB\n",
       "AAAALAAAAGJ1ZHRhAAAAWm1ldGEAAAAAAAAAIWhkbHIAAAAAAAAAAG1kaXJhcHBsAAAAAAAAAAAA\n",
       "AAAALWlsc3QAAAAlqXRvbwAAAB1kYXRhAAAAAQAAAABMYXZmNTcuODMuMTAw\n",
       "\">\n",
       "  Your browser does not support the video tag.\n",
       "</video>"
      ],
      "text/plain": [
       "<IPython.core.display.HTML object>"
      ]
     },
     "execution_count": 22,
     "metadata": {},
     "output_type": "execute_result"
    },
    {
     "data": {
      "image/png": "[encoded data removed]",
      "text/plain": [
       "<Figure size 432x288 with 1 Axes>"
      ]
     },
     "metadata": {
      "needs_background": "light"
     },
     "output_type": "display_data"
    }
   ],
   "source": [
    "past_thetas, past_costs, past_slopes, past_biases = batchGD(X_b,y,theta,100,100,0.5)\n",
    "\n",
    "anim = animation.FuncAnimation(fig, animate, init_func=init,frames=100,interval=200,blit=True)\n",
    "from IPython.display import HTML\n",
    "HTML(anim.to_html5_video())"
   ]
  },
  {
   "cell_type": "markdown",
   "metadata": {
    "id": "qyDv8KYhNatE"
   },
   "source": [
    "**Problem with batch gradient descent**\n",
    "\n",
    "Batch gradient descent uses the whole training set to compute the gradients at every step, which makes it very slow when the training set is large.\n",
    "### Stochastic Gradient Descent (SGD)\n",
    "SGD picks a random example from training set at every step and computes the gradients only on that single instance. It is therefore much faster than batch gradient descent, however less regular. The cost function bounces up and down decreasing only on average. Stochastic gradient descent gets $ \\theta $ close to the minimum much faster than batch gradient descent, but never guarantees to find the optimal solution.\n",
    "\n",
    "**Defining a learning schedule in stochastic gradient descent**\n",
    "\n",
    "The idea is to gradually decrease the learning rate $ \\alpha $ over time. Start with large value to make a quick progress towards minima (global or local), then make it smaller and smaller. If the learning rate is reduced too quickly, we may get stuck in a local minimum, and if it is reduced too slowly, we may jump around the minimum for a long time and end up with a suboptimal solution if we halt training too early.\n",
    "\n",
    "``` \n",
    "  for epoch in range(num_epochs): \n",
    "      for example in range(num_examples): \n",
    "          random_index = np.random.randint(num_examples-1) # to choose a random sample\n",
    "          xi = X_b[random_index:random_index+1]\n",
    "          yi = y[random_index:random_index+1]\n",
    "          gradients = 2 * xi.T.dot(xi.dot(theta) - yi) # compute gradients just for one example\n",
    "          theta = theta - alpha * gradients\n",
    "          \n",
    "\n",
    "```\n",
    "\n",
    "**epochs vs iterations?**\n",
    "- Iterate by rounds of *m* iterations\n",
    "- Each round is called an epoch"
   ]
  },
  {
   "cell_type": "code",
   "execution_count": 48,
   "metadata": {
    "id": "LUjYJGIQrb58"
   },
   "outputs": [],
   "source": [
    "n_epochs = 50\n",
    "t0, t1 = 5, 50 # learning schedule hyperparameters"
   ]
  },
  {
   "cell_type": "code",
   "execution_count": 49,
   "metadata": {
    "id": "g6C2qSwXLKoR"
   },
   "outputs": [],
   "source": [
    "def learning_schedule(t):\n",
    "  return t0 / (t + t1)"
   ]
  },
  {
   "cell_type": "code",
   "execution_count": 50,
   "metadata": {
    "id": "gFoiF5hhrpdp"
   },
   "outputs": [],
   "source": [
    "theta = np.random.randn(2,1) # initialize random parameters"
   ]
  },
  {
   "cell_type": "code",
   "execution_count": 51,
   "metadata": {
    "colab": {
     "base_uri": "https://localhost:8080/",
     "height": 265
    },
    "id": "iSV1bMyMrtnT",
    "outputId": "c050f9a5-a84f-41e7-e902-c1940a08d9f9"
   },
   "outputs": [
    {
     "data": {
      "image/png": "[encoded data removed]",
      "text/plain": [
       "<Figure size 432x288 with 1 Axes>"
      ]
     },
     "metadata": {
      "needs_background": "light"
     },
     "output_type": "display_data"
    }
   ],
   "source": [
    "plt.scatter(X,y)\n",
    "for epoch in range(n_epochs):\n",
    "  for i in range(num_examples):\n",
    "    random_index = np.random.randint(num_examples)\n",
    "    xi = X_b[random_index:random_index+1]\n",
    "    yi = y[random_index:random_index+1]\n",
    "    gradients = 2 * xi.T.dot(xi.dot(theta) - yi)\n",
    "    alpha = learning_schedule(epoch*num_examples+i)\n",
    "    theta = theta - alpha * gradients\n",
    "    if epoch<=20: #plot results for 20 epochs\n",
    "      plot_data(X_b,y,theta)"
   ]
  },
  {
   "cell_type": "code",
   "execution_count": 52,
   "metadata": {
    "colab": {
     "base_uri": "https://localhost:8080/"
    },
    "id": "45hi_5KusNQY",
    "outputId": "218124f0-4b69-4e49-fe13-b9cdaf194433"
   },
   "outputs": [
    {
     "data": {
      "text/plain": [
       "array([[4.18475289],\n",
       "       [2.73036719]])"
      ]
     },
     "execution_count": 52,
     "metadata": {},
     "output_type": "execute_result"
    }
   ],
   "source": [
    "theta"
   ]
  },
  {
   "cell_type": "markdown",
   "metadata": {
    "id": "OZv0L4YWA3ju"
   },
   "source": [
    "### Mini-Batch Gradient Descent\n",
    "\n",
    "Mini-batch gradient descent computes the gradients on small random sets of instances known as mini-batches. Some of its advantages over stochastic gradient descent are:\n",
    "- a performance boost from hardware optimization of matrix operations, especially when using GPUs.\n",
    "- algorithm's progress space is less erratic, especially with fairly large mini-batches, allowing it to end up walking around a bit closer to the minimum than SGD."
   ]
  },
  {
   "cell_type": "markdown",
   "metadata": {
    "id": "HaawjH-qCOfw"
   },
   "source": [
    "### Summary\n",
    "- Linear regression is a supervised learning algorithm that learns to predict a target value as the weighted sum of data features. The weights or coefficients are known as parameters of the learning algorithm.\n",
    "- Gradient Descent is an iterative, optimization approach that can be used to compute the optimal set of parameters by minimizing the loss function (loss function in case of linear regression is MSE).\n",
    "- Batch Gradient Descent uses the entire training data at every iteration to compute the gradients, hence making it slow for large datasets. However, it is guaranteed to converge at a local minimum.\n",
    "- Stochastic Gradient Descent picks up a random instance at each iteration to compute the iteration, making it a lot faster than Batch Gradient Descent. However, once it reaches around the minimum, it will continue to bounce around, never settling down. So, techniques such as learning schedule need to be used. \n",
    "- Mini-batch Gradient Descent uses random subsets of training data at each iteration to compute gradients, and works slighly better than SGD. But suffers from same problems such as never settling at the local minimum.\n",
    "\n"
   ]
  },
  {
   "cell_type": "code",
   "execution_count": null,
   "metadata": {
    "id": "tz9XtBwPthEa"
   },
   "outputs": [],
   "source": []
  }
 ],
 "metadata": {
  "colab": {
   "collapsed_sections": [],
   "name": "linearRegressionAndGD.ipynb",
   "provenance": []
  },
  "kernelspec": {
   "display_name": "Python 3",
   "language": "python",
   "name": "python3"
  },
  "language_info": {
   "codemirror_mode": {
    "name": "ipython",
    "version": 3
   },
   "file_extension": ".py",
   "mimetype": "text/x-python",
   "name": "python",
   "nbconvert_exporter": "python",
   "pygments_lexer": "ipython3",
   "version": "3.8.8"
  }
 },
 "nbformat": 4,
 "nbformat_minor": 1
}
